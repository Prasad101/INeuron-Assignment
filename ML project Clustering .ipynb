{
 "cells": [
  {
   "cell_type": "markdown",
   "metadata": {},
   "source": [
    "# ML Project Clustering"
   ]
  },
  {
   "cell_type": "markdown",
   "metadata": {},
   "source": [
    "Problem 1:\n",
    "There are various stocks for which we have collected a data set, which all stocks are \n",
    "apparently similar in performance\n",
    "\n",
    "Problem 2:\n",
    "How many Unique patterns that exist in the historical stock data set, based on \n",
    "fluctuations in price.\n",
    "\n",
    "Problem 3:\n",
    "Identify which all stocks are moving together and which all stocks are different from\n",
    "each other."
   ]
  },
  {
   "cell_type": "code",
   "execution_count": 1,
   "metadata": {},
   "outputs": [],
   "source": [
    "import pandas as pd\n",
    "import numpy as np\n",
    "import matplotlib.pyplot as plt"
   ]
  },
  {
   "cell_type": "code",
   "execution_count": 2,
   "metadata": {},
   "outputs": [
    {
     "data": {
      "text/plain": [
       "(41266, 502)"
      ]
     },
     "execution_count": 2,
     "metadata": {},
     "output_type": "execute_result"
    }
   ],
   "source": [
    "data = pd.read_csv('data_stocks.csv')\n",
    "data.shape"
   ]
  },
  {
   "cell_type": "code",
   "execution_count": 3,
   "metadata": {},
   "outputs": [
    {
     "data": {
      "text/html": [
       "<div>\n",
       "<style scoped>\n",
       "    .dataframe tbody tr th:only-of-type {\n",
       "        vertical-align: middle;\n",
       "    }\n",
       "\n",
       "    .dataframe tbody tr th {\n",
       "        vertical-align: top;\n",
       "    }\n",
       "\n",
       "    .dataframe thead th {\n",
       "        text-align: right;\n",
       "    }\n",
       "</style>\n",
       "<table border=\"1\" class=\"dataframe\">\n",
       "  <thead>\n",
       "    <tr style=\"text-align: right;\">\n",
       "      <th></th>\n",
       "      <th>DATE</th>\n",
       "      <th>SP500</th>\n",
       "      <th>NASDAQ.AAL</th>\n",
       "      <th>NASDAQ.AAPL</th>\n",
       "      <th>NASDAQ.ADBE</th>\n",
       "      <th>NASDAQ.ADI</th>\n",
       "      <th>NASDAQ.ADP</th>\n",
       "      <th>NASDAQ.ADSK</th>\n",
       "      <th>NASDAQ.AKAM</th>\n",
       "      <th>NASDAQ.ALXN</th>\n",
       "      <th>...</th>\n",
       "      <th>NYSE.WYN</th>\n",
       "      <th>NYSE.XEC</th>\n",
       "      <th>NYSE.XEL</th>\n",
       "      <th>NYSE.XL</th>\n",
       "      <th>NYSE.XOM</th>\n",
       "      <th>NYSE.XRX</th>\n",
       "      <th>NYSE.XYL</th>\n",
       "      <th>NYSE.YUM</th>\n",
       "      <th>NYSE.ZBH</th>\n",
       "      <th>NYSE.ZTS</th>\n",
       "    </tr>\n",
       "  </thead>\n",
       "  <tbody>\n",
       "    <tr>\n",
       "      <th>0</th>\n",
       "      <td>1491226200</td>\n",
       "      <td>2363.6101</td>\n",
       "      <td>42.3300</td>\n",
       "      <td>143.6800</td>\n",
       "      <td>129.6300</td>\n",
       "      <td>82.040</td>\n",
       "      <td>102.2300</td>\n",
       "      <td>85.2200</td>\n",
       "      <td>59.760</td>\n",
       "      <td>121.52</td>\n",
       "      <td>...</td>\n",
       "      <td>84.370</td>\n",
       "      <td>119.035</td>\n",
       "      <td>44.40</td>\n",
       "      <td>39.88</td>\n",
       "      <td>82.03</td>\n",
       "      <td>7.36</td>\n",
       "      <td>50.22</td>\n",
       "      <td>63.86</td>\n",
       "      <td>122.000</td>\n",
       "      <td>53.350</td>\n",
       "    </tr>\n",
       "    <tr>\n",
       "      <th>1</th>\n",
       "      <td>1491226260</td>\n",
       "      <td>2364.1001</td>\n",
       "      <td>42.3600</td>\n",
       "      <td>143.7000</td>\n",
       "      <td>130.3200</td>\n",
       "      <td>82.080</td>\n",
       "      <td>102.1400</td>\n",
       "      <td>85.6500</td>\n",
       "      <td>59.840</td>\n",
       "      <td>121.48</td>\n",
       "      <td>...</td>\n",
       "      <td>84.370</td>\n",
       "      <td>119.035</td>\n",
       "      <td>44.11</td>\n",
       "      <td>39.88</td>\n",
       "      <td>82.03</td>\n",
       "      <td>7.38</td>\n",
       "      <td>50.22</td>\n",
       "      <td>63.74</td>\n",
       "      <td>121.770</td>\n",
       "      <td>53.350</td>\n",
       "    </tr>\n",
       "    <tr>\n",
       "      <th>2</th>\n",
       "      <td>1491226320</td>\n",
       "      <td>2362.6799</td>\n",
       "      <td>42.3100</td>\n",
       "      <td>143.6901</td>\n",
       "      <td>130.2250</td>\n",
       "      <td>82.030</td>\n",
       "      <td>102.2125</td>\n",
       "      <td>85.5100</td>\n",
       "      <td>59.795</td>\n",
       "      <td>121.93</td>\n",
       "      <td>...</td>\n",
       "      <td>84.585</td>\n",
       "      <td>119.260</td>\n",
       "      <td>44.09</td>\n",
       "      <td>39.98</td>\n",
       "      <td>82.02</td>\n",
       "      <td>7.36</td>\n",
       "      <td>50.12</td>\n",
       "      <td>63.75</td>\n",
       "      <td>121.700</td>\n",
       "      <td>53.365</td>\n",
       "    </tr>\n",
       "    <tr>\n",
       "      <th>3</th>\n",
       "      <td>1491226380</td>\n",
       "      <td>2364.3101</td>\n",
       "      <td>42.3700</td>\n",
       "      <td>143.6400</td>\n",
       "      <td>130.0729</td>\n",
       "      <td>82.000</td>\n",
       "      <td>102.1400</td>\n",
       "      <td>85.4872</td>\n",
       "      <td>59.620</td>\n",
       "      <td>121.44</td>\n",
       "      <td>...</td>\n",
       "      <td>84.460</td>\n",
       "      <td>119.260</td>\n",
       "      <td>44.25</td>\n",
       "      <td>39.99</td>\n",
       "      <td>82.02</td>\n",
       "      <td>7.35</td>\n",
       "      <td>50.16</td>\n",
       "      <td>63.88</td>\n",
       "      <td>121.700</td>\n",
       "      <td>53.380</td>\n",
       "    </tr>\n",
       "    <tr>\n",
       "      <th>4</th>\n",
       "      <td>1491226440</td>\n",
       "      <td>2364.8501</td>\n",
       "      <td>42.5378</td>\n",
       "      <td>143.6600</td>\n",
       "      <td>129.8800</td>\n",
       "      <td>82.035</td>\n",
       "      <td>102.0600</td>\n",
       "      <td>85.7001</td>\n",
       "      <td>59.620</td>\n",
       "      <td>121.60</td>\n",
       "      <td>...</td>\n",
       "      <td>84.470</td>\n",
       "      <td>119.610</td>\n",
       "      <td>44.11</td>\n",
       "      <td>39.96</td>\n",
       "      <td>82.03</td>\n",
       "      <td>7.36</td>\n",
       "      <td>50.20</td>\n",
       "      <td>63.91</td>\n",
       "      <td>121.695</td>\n",
       "      <td>53.240</td>\n",
       "    </tr>\n",
       "  </tbody>\n",
       "</table>\n",
       "<p>5 rows × 502 columns</p>\n",
       "</div>"
      ],
      "text/plain": [
       "         DATE      SP500  NASDAQ.AAL  NASDAQ.AAPL  NASDAQ.ADBE  NASDAQ.ADI  \\\n",
       "0  1491226200  2363.6101     42.3300     143.6800     129.6300      82.040   \n",
       "1  1491226260  2364.1001     42.3600     143.7000     130.3200      82.080   \n",
       "2  1491226320  2362.6799     42.3100     143.6901     130.2250      82.030   \n",
       "3  1491226380  2364.3101     42.3700     143.6400     130.0729      82.000   \n",
       "4  1491226440  2364.8501     42.5378     143.6600     129.8800      82.035   \n",
       "\n",
       "   NASDAQ.ADP  NASDAQ.ADSK  NASDAQ.AKAM  NASDAQ.ALXN  ...  NYSE.WYN  NYSE.XEC  \\\n",
       "0    102.2300      85.2200       59.760       121.52  ...    84.370   119.035   \n",
       "1    102.1400      85.6500       59.840       121.48  ...    84.370   119.035   \n",
       "2    102.2125      85.5100       59.795       121.93  ...    84.585   119.260   \n",
       "3    102.1400      85.4872       59.620       121.44  ...    84.460   119.260   \n",
       "4    102.0600      85.7001       59.620       121.60  ...    84.470   119.610   \n",
       "\n",
       "   NYSE.XEL  NYSE.XL  NYSE.XOM  NYSE.XRX  NYSE.XYL  NYSE.YUM  NYSE.ZBH  \\\n",
       "0     44.40    39.88     82.03      7.36     50.22     63.86   122.000   \n",
       "1     44.11    39.88     82.03      7.38     50.22     63.74   121.770   \n",
       "2     44.09    39.98     82.02      7.36     50.12     63.75   121.700   \n",
       "3     44.25    39.99     82.02      7.35     50.16     63.88   121.700   \n",
       "4     44.11    39.96     82.03      7.36     50.20     63.91   121.695   \n",
       "\n",
       "   NYSE.ZTS  \n",
       "0    53.350  \n",
       "1    53.350  \n",
       "2    53.365  \n",
       "3    53.380  \n",
       "4    53.240  \n",
       "\n",
       "[5 rows x 502 columns]"
      ]
     },
     "execution_count": 3,
     "metadata": {},
     "output_type": "execute_result"
    }
   ],
   "source": [
    "data.head()"
   ]
  },
  {
   "cell_type": "code",
   "execution_count": 4,
   "metadata": {},
   "outputs": [
    {
     "data": {
      "text/plain": [
       "'C:\\\\Users\\\\Admin\\\\0 ML new\\\\00 My Work\\\\6th june assignment'"
      ]
     },
     "execution_count": 4,
     "metadata": {},
     "output_type": "execute_result"
    }
   ],
   "source": [
    "import os\n",
    "os.getcwd()"
   ]
  },
  {
   "cell_type": "code",
   "execution_count": 5,
   "metadata": {},
   "outputs": [
    {
     "name": "stdout",
     "output_type": "stream",
     "text": [
      "<class 'pandas.core.frame.DataFrame'>\n",
      "RangeIndex: 41266 entries, 0 to 41265\n",
      "Columns: 502 entries, DATE to NYSE.ZTS\n",
      "dtypes: float64(501), int64(1)\n",
      "memory usage: 158.0 MB\n"
     ]
    }
   ],
   "source": [
    "data.info()"
   ]
  },
  {
   "cell_type": "code",
   "execution_count": 6,
   "metadata": {},
   "outputs": [
    {
     "data": {
      "text/html": [
       "<div>\n",
       "<style scoped>\n",
       "    .dataframe tbody tr th:only-of-type {\n",
       "        vertical-align: middle;\n",
       "    }\n",
       "\n",
       "    .dataframe tbody tr th {\n",
       "        vertical-align: top;\n",
       "    }\n",
       "\n",
       "    .dataframe thead th {\n",
       "        text-align: right;\n",
       "    }\n",
       "</style>\n",
       "<table border=\"1\" class=\"dataframe\">\n",
       "  <thead>\n",
       "    <tr style=\"text-align: right;\">\n",
       "      <th></th>\n",
       "      <th>NASDAQ.AAL</th>\n",
       "      <th>NASDAQ.AAPL</th>\n",
       "      <th>NASDAQ.ADBE</th>\n",
       "      <th>NASDAQ.ADI</th>\n",
       "      <th>NASDAQ.ADP</th>\n",
       "      <th>NASDAQ.ADSK</th>\n",
       "      <th>NASDAQ.AKAM</th>\n",
       "      <th>NASDAQ.ALXN</th>\n",
       "      <th>NASDAQ.AMAT</th>\n",
       "      <th>NASDAQ.AMD</th>\n",
       "      <th>...</th>\n",
       "      <th>NYSE.WYN</th>\n",
       "      <th>NYSE.XEC</th>\n",
       "      <th>NYSE.XEL</th>\n",
       "      <th>NYSE.XL</th>\n",
       "      <th>NYSE.XOM</th>\n",
       "      <th>NYSE.XRX</th>\n",
       "      <th>NYSE.XYL</th>\n",
       "      <th>NYSE.YUM</th>\n",
       "      <th>NYSE.ZBH</th>\n",
       "      <th>NYSE.ZTS</th>\n",
       "    </tr>\n",
       "  </thead>\n",
       "  <tbody>\n",
       "    <tr>\n",
       "      <th>0</th>\n",
       "      <td>42.3300</td>\n",
       "      <td>143.6800</td>\n",
       "      <td>129.6300</td>\n",
       "      <td>82.040</td>\n",
       "      <td>102.2300</td>\n",
       "      <td>85.2200</td>\n",
       "      <td>59.760</td>\n",
       "      <td>121.52</td>\n",
       "      <td>38.99</td>\n",
       "      <td>14.61</td>\n",
       "      <td>...</td>\n",
       "      <td>84.370</td>\n",
       "      <td>119.035</td>\n",
       "      <td>44.40</td>\n",
       "      <td>39.88</td>\n",
       "      <td>82.03</td>\n",
       "      <td>7.36</td>\n",
       "      <td>50.22</td>\n",
       "      <td>63.86</td>\n",
       "      <td>122.000</td>\n",
       "      <td>53.350</td>\n",
       "    </tr>\n",
       "    <tr>\n",
       "      <th>1</th>\n",
       "      <td>42.3600</td>\n",
       "      <td>143.7000</td>\n",
       "      <td>130.3200</td>\n",
       "      <td>82.080</td>\n",
       "      <td>102.1400</td>\n",
       "      <td>85.6500</td>\n",
       "      <td>59.840</td>\n",
       "      <td>121.48</td>\n",
       "      <td>39.01</td>\n",
       "      <td>14.71</td>\n",
       "      <td>...</td>\n",
       "      <td>84.370</td>\n",
       "      <td>119.035</td>\n",
       "      <td>44.11</td>\n",
       "      <td>39.88</td>\n",
       "      <td>82.03</td>\n",
       "      <td>7.38</td>\n",
       "      <td>50.22</td>\n",
       "      <td>63.74</td>\n",
       "      <td>121.770</td>\n",
       "      <td>53.350</td>\n",
       "    </tr>\n",
       "    <tr>\n",
       "      <th>2</th>\n",
       "      <td>42.3100</td>\n",
       "      <td>143.6901</td>\n",
       "      <td>130.2250</td>\n",
       "      <td>82.030</td>\n",
       "      <td>102.2125</td>\n",
       "      <td>85.5100</td>\n",
       "      <td>59.795</td>\n",
       "      <td>121.93</td>\n",
       "      <td>38.91</td>\n",
       "      <td>14.64</td>\n",
       "      <td>...</td>\n",
       "      <td>84.585</td>\n",
       "      <td>119.260</td>\n",
       "      <td>44.09</td>\n",
       "      <td>39.98</td>\n",
       "      <td>82.02</td>\n",
       "      <td>7.36</td>\n",
       "      <td>50.12</td>\n",
       "      <td>63.75</td>\n",
       "      <td>121.700</td>\n",
       "      <td>53.365</td>\n",
       "    </tr>\n",
       "    <tr>\n",
       "      <th>3</th>\n",
       "      <td>42.3700</td>\n",
       "      <td>143.6400</td>\n",
       "      <td>130.0729</td>\n",
       "      <td>82.000</td>\n",
       "      <td>102.1400</td>\n",
       "      <td>85.4872</td>\n",
       "      <td>59.620</td>\n",
       "      <td>121.44</td>\n",
       "      <td>38.84</td>\n",
       "      <td>14.63</td>\n",
       "      <td>...</td>\n",
       "      <td>84.460</td>\n",
       "      <td>119.260</td>\n",
       "      <td>44.25</td>\n",
       "      <td>39.99</td>\n",
       "      <td>82.02</td>\n",
       "      <td>7.35</td>\n",
       "      <td>50.16</td>\n",
       "      <td>63.88</td>\n",
       "      <td>121.700</td>\n",
       "      <td>53.380</td>\n",
       "    </tr>\n",
       "    <tr>\n",
       "      <th>4</th>\n",
       "      <td>42.5378</td>\n",
       "      <td>143.6600</td>\n",
       "      <td>129.8800</td>\n",
       "      <td>82.035</td>\n",
       "      <td>102.0600</td>\n",
       "      <td>85.7001</td>\n",
       "      <td>59.620</td>\n",
       "      <td>121.60</td>\n",
       "      <td>38.93</td>\n",
       "      <td>14.67</td>\n",
       "      <td>...</td>\n",
       "      <td>84.470</td>\n",
       "      <td>119.610</td>\n",
       "      <td>44.11</td>\n",
       "      <td>39.96</td>\n",
       "      <td>82.03</td>\n",
       "      <td>7.36</td>\n",
       "      <td>50.20</td>\n",
       "      <td>63.91</td>\n",
       "      <td>121.695</td>\n",
       "      <td>53.240</td>\n",
       "    </tr>\n",
       "  </tbody>\n",
       "</table>\n",
       "<p>5 rows × 500 columns</p>\n",
       "</div>"
      ],
      "text/plain": [
       "   NASDAQ.AAL  NASDAQ.AAPL  NASDAQ.ADBE  NASDAQ.ADI  NASDAQ.ADP  NASDAQ.ADSK  \\\n",
       "0     42.3300     143.6800     129.6300      82.040    102.2300      85.2200   \n",
       "1     42.3600     143.7000     130.3200      82.080    102.1400      85.6500   \n",
       "2     42.3100     143.6901     130.2250      82.030    102.2125      85.5100   \n",
       "3     42.3700     143.6400     130.0729      82.000    102.1400      85.4872   \n",
       "4     42.5378     143.6600     129.8800      82.035    102.0600      85.7001   \n",
       "\n",
       "   NASDAQ.AKAM  NASDAQ.ALXN  NASDAQ.AMAT  NASDAQ.AMD  ...  NYSE.WYN  NYSE.XEC  \\\n",
       "0       59.760       121.52        38.99       14.61  ...    84.370   119.035   \n",
       "1       59.840       121.48        39.01       14.71  ...    84.370   119.035   \n",
       "2       59.795       121.93        38.91       14.64  ...    84.585   119.260   \n",
       "3       59.620       121.44        38.84       14.63  ...    84.460   119.260   \n",
       "4       59.620       121.60        38.93       14.67  ...    84.470   119.610   \n",
       "\n",
       "   NYSE.XEL  NYSE.XL  NYSE.XOM  NYSE.XRX  NYSE.XYL  NYSE.YUM  NYSE.ZBH  \\\n",
       "0     44.40    39.88     82.03      7.36     50.22     63.86   122.000   \n",
       "1     44.11    39.88     82.03      7.38     50.22     63.74   121.770   \n",
       "2     44.09    39.98     82.02      7.36     50.12     63.75   121.700   \n",
       "3     44.25    39.99     82.02      7.35     50.16     63.88   121.700   \n",
       "4     44.11    39.96     82.03      7.36     50.20     63.91   121.695   \n",
       "\n",
       "   NYSE.ZTS  \n",
       "0    53.350  \n",
       "1    53.350  \n",
       "2    53.365  \n",
       "3    53.380  \n",
       "4    53.240  \n",
       "\n",
       "[5 rows x 500 columns]"
      ]
     },
     "execution_count": 6,
     "metadata": {},
     "output_type": "execute_result"
    }
   ],
   "source": [
    "data_n = data.copy()\n",
    "data_n.drop(['DATE','SP500'],inplace=True,axis=1)\n",
    "data_n.head()"
   ]
  },
  {
   "cell_type": "code",
   "execution_count": 7,
   "metadata": {},
   "outputs": [
    {
     "data": {
      "text/plain": [
       "(500, 500)"
      ]
     },
     "execution_count": 7,
     "metadata": {},
     "output_type": "execute_result"
    }
   ],
   "source": [
    "cor = data_n.corr()\n",
    "cor.shape"
   ]
  },
  {
   "cell_type": "code",
   "execution_count": 8,
   "metadata": {},
   "outputs": [
    {
     "data": {
      "text/html": [
       "<div>\n",
       "<style scoped>\n",
       "    .dataframe tbody tr th:only-of-type {\n",
       "        vertical-align: middle;\n",
       "    }\n",
       "\n",
       "    .dataframe tbody tr th {\n",
       "        vertical-align: top;\n",
       "    }\n",
       "\n",
       "    .dataframe thead th {\n",
       "        text-align: right;\n",
       "    }\n",
       "</style>\n",
       "<table border=\"1\" class=\"dataframe\">\n",
       "  <thead>\n",
       "    <tr style=\"text-align: right;\">\n",
       "      <th></th>\n",
       "      <th>NASDAQ.AAL</th>\n",
       "      <th>NASDAQ.AAPL</th>\n",
       "      <th>NASDAQ.ADBE</th>\n",
       "      <th>NASDAQ.ADI</th>\n",
       "      <th>NASDAQ.ADP</th>\n",
       "      <th>NASDAQ.ADSK</th>\n",
       "      <th>NASDAQ.AKAM</th>\n",
       "      <th>NASDAQ.ALXN</th>\n",
       "      <th>NASDAQ.AMAT</th>\n",
       "      <th>NASDAQ.AMD</th>\n",
       "      <th>...</th>\n",
       "      <th>NYSE.WYN</th>\n",
       "      <th>NYSE.XEC</th>\n",
       "      <th>NYSE.XEL</th>\n",
       "      <th>NYSE.XL</th>\n",
       "      <th>NYSE.XOM</th>\n",
       "      <th>NYSE.XRX</th>\n",
       "      <th>NYSE.XYL</th>\n",
       "      <th>NYSE.YUM</th>\n",
       "      <th>NYSE.ZBH</th>\n",
       "      <th>NYSE.ZTS</th>\n",
       "    </tr>\n",
       "  </thead>\n",
       "  <tbody>\n",
       "    <tr>\n",
       "      <th>NASDAQ.AAL</th>\n",
       "      <td>1.000000</td>\n",
       "      <td>0.082065</td>\n",
       "      <td>0.542213</td>\n",
       "      <td>0.209446</td>\n",
       "      <td>0.245801</td>\n",
       "      <td>0.610881</td>\n",
       "      <td>-0.441142</td>\n",
       "      <td>0.009581</td>\n",
       "      <td>0.681863</td>\n",
       "      <td>0.272518</td>\n",
       "      <td>...</td>\n",
       "      <td>0.798624</td>\n",
       "      <td>-0.744085</td>\n",
       "      <td>0.284370</td>\n",
       "      <td>0.810955</td>\n",
       "      <td>-0.070950</td>\n",
       "      <td>0.522341</td>\n",
       "      <td>0.395730</td>\n",
       "      <td>0.642336</td>\n",
       "      <td>0.588241</td>\n",
       "      <td>0.753567</td>\n",
       "    </tr>\n",
       "    <tr>\n",
       "      <th>NASDAQ.AAPL</th>\n",
       "      <td>0.082065</td>\n",
       "      <td>1.000000</td>\n",
       "      <td>0.714578</td>\n",
       "      <td>0.264269</td>\n",
       "      <td>0.265641</td>\n",
       "      <td>0.645233</td>\n",
       "      <td>-0.712522</td>\n",
       "      <td>0.326712</td>\n",
       "      <td>0.545541</td>\n",
       "      <td>-0.238091</td>\n",
       "      <td>...</td>\n",
       "      <td>0.306664</td>\n",
       "      <td>-0.250959</td>\n",
       "      <td>0.738655</td>\n",
       "      <td>0.266994</td>\n",
       "      <td>-0.671488</td>\n",
       "      <td>0.341687</td>\n",
       "      <td>0.693062</td>\n",
       "      <td>0.627531</td>\n",
       "      <td>-0.580055</td>\n",
       "      <td>0.442600</td>\n",
       "    </tr>\n",
       "    <tr>\n",
       "      <th>NASDAQ.ADBE</th>\n",
       "      <td>0.542213</td>\n",
       "      <td>0.714578</td>\n",
       "      <td>1.000000</td>\n",
       "      <td>0.259282</td>\n",
       "      <td>0.476496</td>\n",
       "      <td>0.872353</td>\n",
       "      <td>-0.759604</td>\n",
       "      <td>0.488717</td>\n",
       "      <td>0.733609</td>\n",
       "      <td>0.201821</td>\n",
       "      <td>...</td>\n",
       "      <td>0.718851</td>\n",
       "      <td>-0.792876</td>\n",
       "      <td>0.850709</td>\n",
       "      <td>0.722161</td>\n",
       "      <td>-0.758967</td>\n",
       "      <td>0.806615</td>\n",
       "      <td>0.911106</td>\n",
       "      <td>0.939185</td>\n",
       "      <td>-0.067235</td>\n",
       "      <td>0.776052</td>\n",
       "    </tr>\n",
       "    <tr>\n",
       "      <th>NASDAQ.ADI</th>\n",
       "      <td>0.209446</td>\n",
       "      <td>0.264269</td>\n",
       "      <td>0.259282</td>\n",
       "      <td>1.000000</td>\n",
       "      <td>-0.085074</td>\n",
       "      <td>0.470756</td>\n",
       "      <td>-0.323603</td>\n",
       "      <td>-0.409747</td>\n",
       "      <td>0.504019</td>\n",
       "      <td>0.042083</td>\n",
       "      <td>...</td>\n",
       "      <td>0.203224</td>\n",
       "      <td>-0.160317</td>\n",
       "      <td>0.308948</td>\n",
       "      <td>0.050697</td>\n",
       "      <td>-0.024428</td>\n",
       "      <td>-0.017967</td>\n",
       "      <td>0.067258</td>\n",
       "      <td>0.261173</td>\n",
       "      <td>0.130786</td>\n",
       "      <td>0.351893</td>\n",
       "    </tr>\n",
       "    <tr>\n",
       "      <th>NASDAQ.ADP</th>\n",
       "      <td>0.245801</td>\n",
       "      <td>0.265641</td>\n",
       "      <td>0.476496</td>\n",
       "      <td>-0.085074</td>\n",
       "      <td>1.000000</td>\n",
       "      <td>0.325630</td>\n",
       "      <td>-0.229119</td>\n",
       "      <td>0.572143</td>\n",
       "      <td>0.099934</td>\n",
       "      <td>0.447506</td>\n",
       "      <td>...</td>\n",
       "      <td>0.321414</td>\n",
       "      <td>-0.438662</td>\n",
       "      <td>0.443773</td>\n",
       "      <td>0.347293</td>\n",
       "      <td>-0.463670</td>\n",
       "      <td>0.589464</td>\n",
       "      <td>0.634191</td>\n",
       "      <td>0.418591</td>\n",
       "      <td>-0.201805</td>\n",
       "      <td>0.160213</td>\n",
       "    </tr>\n",
       "  </tbody>\n",
       "</table>\n",
       "<p>5 rows × 500 columns</p>\n",
       "</div>"
      ],
      "text/plain": [
       "             NASDAQ.AAL  NASDAQ.AAPL  NASDAQ.ADBE  NASDAQ.ADI  NASDAQ.ADP  \\\n",
       "NASDAQ.AAL     1.000000     0.082065     0.542213    0.209446    0.245801   \n",
       "NASDAQ.AAPL    0.082065     1.000000     0.714578    0.264269    0.265641   \n",
       "NASDAQ.ADBE    0.542213     0.714578     1.000000    0.259282    0.476496   \n",
       "NASDAQ.ADI     0.209446     0.264269     0.259282    1.000000   -0.085074   \n",
       "NASDAQ.ADP     0.245801     0.265641     0.476496   -0.085074    1.000000   \n",
       "\n",
       "             NASDAQ.ADSK  NASDAQ.AKAM  NASDAQ.ALXN  NASDAQ.AMAT  NASDAQ.AMD  \\\n",
       "NASDAQ.AAL      0.610881    -0.441142     0.009581     0.681863    0.272518   \n",
       "NASDAQ.AAPL     0.645233    -0.712522     0.326712     0.545541   -0.238091   \n",
       "NASDAQ.ADBE     0.872353    -0.759604     0.488717     0.733609    0.201821   \n",
       "NASDAQ.ADI      0.470756    -0.323603    -0.409747     0.504019    0.042083   \n",
       "NASDAQ.ADP      0.325630    -0.229119     0.572143     0.099934    0.447506   \n",
       "\n",
       "             ...  NYSE.WYN  NYSE.XEC  NYSE.XEL   NYSE.XL  NYSE.XOM  NYSE.XRX  \\\n",
       "NASDAQ.AAL   ...  0.798624 -0.744085  0.284370  0.810955 -0.070950  0.522341   \n",
       "NASDAQ.AAPL  ...  0.306664 -0.250959  0.738655  0.266994 -0.671488  0.341687   \n",
       "NASDAQ.ADBE  ...  0.718851 -0.792876  0.850709  0.722161 -0.758967  0.806615   \n",
       "NASDAQ.ADI   ...  0.203224 -0.160317  0.308948  0.050697 -0.024428 -0.017967   \n",
       "NASDAQ.ADP   ...  0.321414 -0.438662  0.443773  0.347293 -0.463670  0.589464   \n",
       "\n",
       "             NYSE.XYL  NYSE.YUM  NYSE.ZBH  NYSE.ZTS  \n",
       "NASDAQ.AAL   0.395730  0.642336  0.588241  0.753567  \n",
       "NASDAQ.AAPL  0.693062  0.627531 -0.580055  0.442600  \n",
       "NASDAQ.ADBE  0.911106  0.939185 -0.067235  0.776052  \n",
       "NASDAQ.ADI   0.067258  0.261173  0.130786  0.351893  \n",
       "NASDAQ.ADP   0.634191  0.418591 -0.201805  0.160213  \n",
       "\n",
       "[5 rows x 500 columns]"
      ]
     },
     "execution_count": 8,
     "metadata": {},
     "output_type": "execute_result"
    }
   ],
   "source": [
    "cor_df = pd.DataFrame(data=cor.values, columns=cor.index, index = cor.index)\n",
    "cor_df.head()"
   ]
  },
  {
   "cell_type": "markdown",
   "metadata": {},
   "source": [
    "## Problem 1: There are various stocks for which we have collected a data set, which all stocks are apparently similar in performance"
   ]
  },
  {
   "cell_type": "code",
   "execution_count": 9,
   "metadata": {},
   "outputs": [
    {
     "name": "stdout",
     "output_type": "stream",
     "text": [
      "List of Stock which are apparently similar in performance positively : \n",
      "['NYSE.DAL and NASDAQ.AAL', 'NASDAQ.ATVI and NASDAQ.ADBE', 'NASDAQ.AVGO and NASDAQ.ADBE', 'NASDAQ.CBOE and NASDAQ.ADBE', 'NASDAQ.CTSH and NASDAQ.ADBE', 'NASDAQ.EA and NASDAQ.ADBE', 'NASDAQ.EQIX and NASDAQ.ADBE', 'NASDAQ.FB and NASDAQ.ADBE', 'NASDAQ.ISRG and NASDAQ.ADBE', 'NASDAQ.LKQ and NASDAQ.ADBE', 'NASDAQ.MNST and NASDAQ.ADBE', 'NASDAQ.MSFT and NASDAQ.ADBE', 'NASDAQ.NVDA and NASDAQ.ADBE', 'NASDAQ.PYPL and NASDAQ.ADBE', 'NASDAQ.VRSN and NASDAQ.ADBE', 'NYSE.A and NASDAQ.ADBE', 'NYSE.ACN and NASDAQ.ADBE', 'NYSE.AET and NASDAQ.ADBE', 'NYSE.AMT and NASDAQ.ADBE', 'NYSE.AON and NASDAQ.ADBE', 'NYSE.APH and NASDAQ.ADBE', 'NYSE.AVY and NASDAQ.ADBE', 'NYSE.BAX and NASDAQ.ADBE', 'NYSE.CAT and NASDAQ.ADBE', 'NYSE.CCL and NASDAQ.ADBE', 'NYSE.CI and NASDAQ.ADBE', 'NYSE.CNC and NASDAQ.ADBE', 'NYSE.COO and NASDAQ.ADBE', 'NYSE.DLPH and NASDAQ.ADBE', 'NYSE.EL and NASDAQ.ADBE', 'NYSE.FIS and NASDAQ.ADBE', 'NYSE.GPN and NASDAQ.ADBE', 'NYSE.HON and NASDAQ.ADBE', 'NYSE.HUM and NASDAQ.ADBE', 'NYSE.LMT and NASDAQ.ADBE', 'NYSE.MA and NASDAQ.ADBE', 'NYSE.MCD and NASDAQ.ADBE', 'NYSE.NEE and NASDAQ.ADBE', 'NYSE.NI and NASDAQ.ADBE', 'NYSE.NOC and NASDAQ.ADBE', 'NYSE.PGR and NASDAQ.ADBE', 'NYSE.PLD and NASDAQ.ADBE', 'NYSE.RCL and NASDAQ.ADBE', 'NYSE.RHT and NASDAQ.ADBE', 'NYSE.RTN and NASDAQ.ADBE', 'NYSE.SPGI and NASDAQ.ADBE', 'NYSE.STZ and NASDAQ.ADBE', 'NYSE.TSS and NASDAQ.ADBE', 'NYSE.UNH and NASDAQ.ADBE', 'NYSE.V and NASDAQ.ADBE', 'NYSE.XYL and NASDAQ.ADBE', 'NYSE.YUM and NASDAQ.ADBE', 'NASDAQ.ATVI and NASDAQ.ADSK', 'NASDAQ.AVGO and NASDAQ.ADSK', 'NASDAQ.CTSH and NASDAQ.ADSK', 'NASDAQ.EA and NASDAQ.ADSK', 'NASDAQ.INTU and NASDAQ.ADSK', 'NASDAQ.MCHP and NASDAQ.ADSK', 'NYSE.A and NASDAQ.ADSK', 'NYSE.GPN and NASDAQ.ADSK', 'NYSE.KO and NASDAQ.ADSK', 'NYSE.YUM and NASDAQ.ADSK', 'NASDAQ.VIAB and NASDAQ.AKAM', 'NYSE.MOS and NASDAQ.AKAM', 'NASDAQ.GOOG and NASDAQ.AMAT', 'NASDAQ.GOOGL and NASDAQ.AMAT', 'NASDAQ.LRCX and NASDAQ.AMAT', 'NASDAQ.CELG and NASDAQ.AMGN', 'NYSE.RJF and NASDAQ.AMGN', 'NASDAQ.EXPE and NASDAQ.AMZN', 'NASDAQ.FISV and NASDAQ.AMZN', 'NASDAQ.AVGO and NASDAQ.ATVI', 'NASDAQ.CTSH and NASDAQ.ATVI', 'NASDAQ.EA and NASDAQ.ATVI', 'NASDAQ.EQIX and NASDAQ.ATVI', 'NASDAQ.ISRG and NASDAQ.ATVI', 'NASDAQ.LKQ and NASDAQ.ATVI', 'NASDAQ.MNST and NASDAQ.ATVI', 'NASDAQ.MSFT and NASDAQ.ATVI', 'NASDAQ.NVDA and NASDAQ.ATVI', 'NASDAQ.PYPL and NASDAQ.ATVI', 'NASDAQ.WLTW and NASDAQ.ATVI', 'NYSE.A and NASDAQ.ATVI', 'NYSE.ACN and NASDAQ.ATVI', 'NYSE.AET and NASDAQ.ATVI', 'NYSE.AME and NASDAQ.ATVI', 'NYSE.AMT and NASDAQ.ATVI', 'NYSE.ANTM and NASDAQ.ATVI', 'NYSE.AON and NASDAQ.ATVI', 'NYSE.APH and NASDAQ.ATVI', 'NYSE.BAX and NASDAQ.ATVI', 'NYSE.CAT and NASDAQ.ATVI', 'NYSE.CCL and NASDAQ.ATVI', 'NYSE.CI and NASDAQ.ATVI', 'NYSE.COO and NASDAQ.ATVI', 'NYSE.DLPH and NASDAQ.ATVI', 'NYSE.EL and NASDAQ.ATVI', 'NYSE.ESS and NASDAQ.ATVI', 'NYSE.FIS and NASDAQ.ATVI', 'NYSE.GPN and NASDAQ.ATVI', 'NYSE.HON and NASDAQ.ATVI', 'NYSE.HUM and NASDAQ.ATVI', 'NYSE.KO and NASDAQ.ATVI', 'NYSE.MA and NASDAQ.ATVI', 'NYSE.MCD and NASDAQ.ATVI', 'NYSE.NEE and NASDAQ.ATVI', 'NYSE.NI and NASDAQ.ATVI', 'NYSE.NOC and NASDAQ.ATVI', 'NYSE.PGR and NASDAQ.ATVI', 'NYSE.RCL and NASDAQ.ATVI', 'NYSE.ROP and NASDAQ.ATVI', 'NYSE.SPGI and NASDAQ.ATVI', 'NYSE.TDG and NASDAQ.ATVI', 'NYSE.TSS and NASDAQ.ATVI', 'NYSE.UNH and NASDAQ.ATVI', 'NYSE.V and NASDAQ.ATVI', 'NYSE.YUM and NASDAQ.ATVI', 'NASDAQ.CTSH and NASDAQ.AVGO', 'NASDAQ.EA and NASDAQ.AVGO', 'NASDAQ.MSFT and NASDAQ.AVGO', 'NASDAQ.NVDA and NASDAQ.AVGO', 'NASDAQ.PYPL and NASDAQ.AVGO', 'NYSE.ACN and NASDAQ.AVGO', 'NYSE.AET and NASDAQ.AVGO', 'NYSE.AON and NASDAQ.AVGO', 'NYSE.GPN and NASDAQ.AVGO', 'NYSE.MA and NASDAQ.AVGO', 'NYSE.MCD and NASDAQ.AVGO', 'NYSE.SPGI and NASDAQ.AVGO', 'NYSE.SYK and NASDAQ.AVGO', 'NYSE.YUM and NASDAQ.AVGO', 'NASDAQ.ORLY and NASDAQ.BBBY', 'NASDAQ.ROST and NASDAQ.BBBY', 'NYSE.AAP and NASDAQ.BBBY', 'NYSE.APC and NASDAQ.BBBY', 'NYSE.AZO and NASDAQ.BBBY', 'NYSE.BHI and NASDAQ.BBBY', 'NYSE.CAG and NASDAQ.BBBY', 'NYSE.GE and NASDAQ.BBBY', 'NYSE.NFX and NASDAQ.BBBY', 'NYSE.TJX and NASDAQ.BBBY', 'NASDAQ.GILD and NASDAQ.BIIB', 'NASDAQ.ETFC and NASDAQ.CBOE', 'NASDAQ.ISRG and NASDAQ.CBOE', 'NASDAQ.MNST and NASDAQ.CBOE', 'NASDAQ.PYPL and NASDAQ.CBOE', 'NASDAQ.TROW and NASDAQ.CBOE', 'NASDAQ.VRSN and NASDAQ.CBOE', 'NYSE.ABT and NASDAQ.CBOE', 'NYSE.AET and NASDAQ.CBOE', 'NYSE.AFL and NASDAQ.CBOE', 'NYSE.ALL and NASDAQ.CBOE', 'NYSE.AMT and NASDAQ.CBOE', 'NYSE.AON and NASDAQ.CBOE', 'NYSE.APH and NASDAQ.CBOE', 'NYSE.AVY and NASDAQ.CBOE', 'NYSE.BA and NASDAQ.CBOE', 'NYSE.BK and NASDAQ.CBOE', 'NYSE.BRK.B and NASDAQ.CBOE', 'NYSE.C and NASDAQ.CBOE', 'NYSE.CAT and NASDAQ.CBOE', 'NYSE.CCL and NASDAQ.CBOE', 'NYSE.CI and NASDAQ.CBOE', 'NYSE.CNC and NASDAQ.CBOE', 'NYSE.EL and NASDAQ.CBOE', 'NYSE.FIS and NASDAQ.CBOE', 'NYSE.HIG and NASDAQ.CBOE', 'NYSE.HUM and NASDAQ.CBOE', 'NYSE.KSU and NASDAQ.CBOE', 'NYSE.LMT and NASDAQ.CBOE', 'NYSE.MA and NASDAQ.CBOE', 'NYSE.MCO and NASDAQ.CBOE', 'NYSE.MHK and NASDAQ.CBOE', 'NYSE.NEE and NASDAQ.CBOE', 'NYSE.NOC and NASDAQ.CBOE', 'NYSE.PGR and NASDAQ.CBOE', 'NYSE.PLD and NASDAQ.CBOE', 'NYSE.PVH and NASDAQ.CBOE', 'NYSE.RHT and NASDAQ.CBOE', 'NYSE.RTN and NASDAQ.CBOE', 'NYSE.SPGI and NASDAQ.CBOE', 'NYSE.STT and NASDAQ.CBOE', 'NYSE.STZ and NASDAQ.CBOE', 'NYSE.TSO and NASDAQ.CBOE', 'NYSE.TSS and NASDAQ.CBOE', 'NYSE.UNH and NASDAQ.CBOE', 'NYSE.V and NASDAQ.CBOE', 'NYSE.XYL and NASDAQ.CBOE', 'NYSE.LH and NASDAQ.CELG', 'NYSE.BSX and NASDAQ.CERN', 'NYSE.WAT and NASDAQ.CERN', 'NASDAQ.CINF and NASDAQ.CHTR', 'NASDAQ.NDAQ and NASDAQ.CHTR', 'NYSE.BA and NASDAQ.CHTR', 'NYSE.BRK.B and NASDAQ.CHTR', 'NYSE.COL and NASDAQ.CHTR', 'NYSE.FMC and NASDAQ.CHTR', 'NYSE.HRS and NASDAQ.CHTR', 'NYSE.VFC and NASDAQ.CHTR', 'NASDAQ.NDAQ and NASDAQ.CINF', 'NYSE.AMP and NASDAQ.CINF', 'NYSE.BA and NASDAQ.CINF', 'NYSE.BRK.B and NASDAQ.CINF', 'NYSE.PVH and NASDAQ.CINF', 'NYSE.VFC and NASDAQ.CINF', 'NASDAQ.VRTX and NASDAQ.CTAS', 'NASDAQ.EA and NASDAQ.CTSH', 'NASDAQ.EQIX and NASDAQ.CTSH', 'NASDAQ.ISRG and NASDAQ.CTSH', 'NASDAQ.LKQ and NASDAQ.CTSH', 'NASDAQ.MNST and NASDAQ.CTSH', 'NASDAQ.MSFT and NASDAQ.CTSH', 'NASDAQ.NVDA and NASDAQ.CTSH', 'NASDAQ.PYPL and NASDAQ.CTSH', 'NASDAQ.WLTW and NASDAQ.CTSH', 'NYSE.A and NASDAQ.CTSH', 'NYSE.ACN and NASDAQ.CTSH', 'NYSE.AET and NASDAQ.CTSH', 'NYSE.ALL and NASDAQ.CTSH', 'NYSE.AME and NASDAQ.CTSH', 'NYSE.ANTM and NASDAQ.CTSH', 'NYSE.AON and NASDAQ.CTSH', 'NYSE.ARE and NASDAQ.CTSH', 'NYSE.BAX and NASDAQ.CTSH', 'NYSE.CCL and NASDAQ.CTSH', 'NYSE.CI and NASDAQ.CTSH', 'NYSE.COO and NASDAQ.CTSH', 'NYSE.DLPH and NASDAQ.CTSH', 'NYSE.EL and NASDAQ.CTSH', 'NYSE.ESS and NASDAQ.CTSH', 'NYSE.GPN and NASDAQ.CTSH', 'NYSE.HON and NASDAQ.CTSH', 'NYSE.HUM and NASDAQ.CTSH', 'NYSE.KO and NASDAQ.CTSH', 'NYSE.MA and NASDAQ.CTSH', 'NYSE.MCD and NASDAQ.CTSH', 'NYSE.NEE and NASDAQ.CTSH', 'NYSE.NI and NASDAQ.CTSH', 'NYSE.NOC and NASDAQ.CTSH', 'NYSE.PGR and NASDAQ.CTSH', 'NYSE.RCL and NASDAQ.CTSH', 'NYSE.ROP and NASDAQ.CTSH', 'NYSE.SPGI and NASDAQ.CTSH', 'NYSE.STZ and NASDAQ.CTSH', 'NYSE.TDG and NASDAQ.CTSH', 'NYSE.YUM and NASDAQ.CTSH', 'NASDAQ.DISCK and NASDAQ.DISCA', 'NASDAQ.VIAB and NASDAQ.DISCA', 'NYSE.DVA and NASDAQ.DISCA', 'NYSE.FLR and NASDAQ.DISCA', 'NYSE.HP and NASDAQ.DISCA', 'NYSE.MOS and NASDAQ.DISCA', 'NYSE.NBL and NASDAQ.DISCA', 'NYSE.RRC and NASDAQ.DISCA', 'NASDAQ.FFIV and NASDAQ.DISCK', 'NASDAQ.MAT and NASDAQ.DISCK', 'NASDAQ.VIAB and NASDAQ.DISCK', 'NYSE.DVA and NASDAQ.DISCK', 'NYSE.FLR and NASDAQ.DISCK', 'NYSE.HP and NASDAQ.DISCK', 'NYSE.MOS and NASDAQ.DISCK', 'NYSE.NBL and NASDAQ.DISCK', 'NYSE.PXD and NASDAQ.DISCK', 'NYSE.RRC and NASDAQ.DISCK', 'NASDAQ.EQIX and NASDAQ.EA', 'NASDAQ.ISRG and NASDAQ.EA', 'NASDAQ.MCHP and NASDAQ.EA', 'NASDAQ.MNST and NASDAQ.EA', 'NASDAQ.NVDA and NASDAQ.EA', 'NASDAQ.PYPL and NASDAQ.EA', 'NASDAQ.WLTW and NASDAQ.EA', 'NYSE.A and NASDAQ.EA', 'NYSE.AET and NASDAQ.EA', 'NYSE.AME and NASDAQ.EA', 'NYSE.AON and NASDAQ.EA', 'NYSE.APH and NASDAQ.EA', 'NYSE.EL and NASDAQ.EA', 'NYSE.ESS and NASDAQ.EA', 'NYSE.GPN and NASDAQ.EA', 'NYSE.HON and NASDAQ.EA', 'NYSE.KO and NASDAQ.EA', 'NYSE.MCD and NASDAQ.EA', 'NYSE.NEE and NASDAQ.EA', 'NYSE.NI and NASDAQ.EA', 'NYSE.RCL and NASDAQ.EA', 'NYSE.YUM and NASDAQ.EA', 'NASDAQ.MNST and NASDAQ.EQIX', 'NASDAQ.PYPL and NASDAQ.EQIX', 'NYSE.A and NASDAQ.EQIX', 'NYSE.AMT and NASDAQ.EQIX', 'NYSE.APH and NASDAQ.EQIX', 'NYSE.CRM and NASDAQ.EQIX', 'NYSE.DLPH and NASDAQ.EQIX', 'NYSE.EL and NASDAQ.EQIX', 'NYSE.GPN and NASDAQ.EQIX', 'NYSE.MA and NASDAQ.EQIX', 'NYSE.NEE and NASDAQ.EQIX', 'NYSE.NI and NASDAQ.EQIX', 'NYSE.RCL and NASDAQ.EQIX', 'NYSE.TSS and NASDAQ.EQIX', 'NYSE.V and NASDAQ.EQIX', 'NYSE.YUM and NASDAQ.EQIX', 'NASDAQ.FB and NASDAQ.ETFC', 'NASDAQ.FITB and NASDAQ.ETFC', 'NASDAQ.NDAQ and NASDAQ.ETFC', 'NASDAQ.TROW and NASDAQ.ETFC', 'NASDAQ.VRSN and NASDAQ.ETFC', 'NASDAQ.VRTX and NASDAQ.ETFC', 'NASDAQ.ZION and NASDAQ.ETFC', 'NYSE.ABT and NASDAQ.ETFC', 'NYSE.AMG and NASDAQ.ETFC', 'NYSE.AVY and NASDAQ.ETFC', 'NYSE.AXP and NASDAQ.ETFC', 'NYSE.BA and NASDAQ.ETFC', 'NYSE.BBT and NASDAQ.ETFC', 'NYSE.BK and NASDAQ.ETFC', 'NYSE.BRK.B and NASDAQ.ETFC', 'NYSE.C and NASDAQ.ETFC', 'NYSE.FIS and NASDAQ.ETFC', 'NYSE.HBI and NASDAQ.ETFC', 'NYSE.HIG and NASDAQ.ETFC', 'NYSE.LH and NASDAQ.ETFC', 'NYSE.MCO and NASDAQ.ETFC', 'NYSE.MS and NASDAQ.ETFC', 'NYSE.PGR and NASDAQ.ETFC', 'NYSE.PLD and NASDAQ.ETFC', 'NYSE.PNC and NASDAQ.ETFC', 'NYSE.PSX and NASDAQ.ETFC', 'NYSE.PVH and NASDAQ.ETFC', 'NYSE.STT and NASDAQ.ETFC', 'NYSE.TSO and NASDAQ.ETFC', 'NYSE.UNH and NASDAQ.ETFC', 'NYSE.XRX and NASDAQ.ETFC', 'NYSE.XYL and NASDAQ.ETFC', 'NASDAQ.FISV and NASDAQ.EXPE', 'NASDAQ.REGN and NASDAQ.EXPE', 'NYSE.AET and NASDAQ.EXPE', 'NYSE.BAX and NASDAQ.EXPE', 'NYSE.IT and NASDAQ.EXPE', 'NYSE.PKI and NASDAQ.EXPE', 'NYSE.ROP and NASDAQ.EXPE', 'NYSE.SPGI and NASDAQ.EXPE', 'NYSE.TDG and NASDAQ.EXPE', 'NYSE.WYN and NASDAQ.EXPE', 'NYSE.ZTS and NASDAQ.EXPE', 'NYSE.GWW and NASDAQ.FAST', 'NASDAQ.LKQ and NASDAQ.FB', 'NASDAQ.MSFT and NASDAQ.FB', 'NASDAQ.PYPL and NASDAQ.FB', 'NASDAQ.TROW and NASDAQ.FB', 'NASDAQ.VRSN and NASDAQ.FB', 'NASDAQ.VRTX and NASDAQ.FB', 'NYSE.AMT and NASDAQ.FB', 'NYSE.AVY and NASDAQ.FB', 'NYSE.BA and NASDAQ.FB', 'NYSE.CAT and NASDAQ.FB', 'NYSE.CI and NASDAQ.FB', 'NYSE.FIS and NASDAQ.FB', 'NYSE.HIG and NASDAQ.FB', 'NYSE.LMT and NASDAQ.FB', 'NYSE.MA and NASDAQ.FB', 'NYSE.MCO and NASDAQ.FB', 'NYSE.PGR and NASDAQ.FB', 'NYSE.PVH and NASDAQ.FB', 'NYSE.RTN and NASDAQ.FB', 'NYSE.TSS and NASDAQ.FB', 'NYSE.UNH and NASDAQ.FB', 'NYSE.V and NASDAQ.FB', 'NYSE.XYL and NASDAQ.FB', 'NASDAQ.STX and NASDAQ.FFIV', 'NYSE.HP and NASDAQ.FFIV', 'NYSE.TDG and NASDAQ.FISV', 'NYSE.TEL and NASDAQ.FISV', 'NYSE.WYN and NASDAQ.FISV', 'NASDAQ.ZION and NASDAQ.FITB', 'NYSE.AXP and NASDAQ.FITB', 'NYSE.BBT and NASDAQ.FITB', 'NYSE.BK and NASDAQ.FITB', 'NYSE.JPM and NASDAQ.FITB', 'NYSE.PNC and NASDAQ.FITB', 'NYSE.PSX and NASDAQ.FITB', 'NYSE.UNM and NASDAQ.FITB', 'NASDAQ.FOXA and NASDAQ.FOX', 'NASDAQ.GOOGL and NASDAQ.GOOG', 'NASDAQ.MAR and NASDAQ.GOOG', 'NASDAQ.XLNX and NASDAQ.GOOG', 'NASDAQ.XLNX and NASDAQ.GOOGL', 'NYSE.DAL and NASDAQ.HAS', 'NYSE.ITW and NASDAQ.HAS', 'NASDAQ.XRAY and NASDAQ.HOLX', 'NYSE.LEG and NASDAQ.HOLX', 'NYSE.ED and NASDAQ.INTU', 'NYSE.ESS and NASDAQ.INTU', 'NYSE.KO and NASDAQ.INTU', 'NYSE.UDR and NASDAQ.INTU', 'NYSE.YUM and NASDAQ.INTU', 'NYSE.ZTS and NASDAQ.INTU', 'NASDAQ.LKQ and NASDAQ.ISRG', 'NASDAQ.MNST and NASDAQ.ISRG', 'NASDAQ.NVDA and NASDAQ.ISRG', 'NASDAQ.PYPL and NASDAQ.ISRG', 'NASDAQ.WLTW and NASDAQ.ISRG', 'NYSE.A and NASDAQ.ISRG', 'NYSE.AET and NASDAQ.ISRG', 'NYSE.AME and NASDAQ.ISRG', 'NYSE.AMT and NASDAQ.ISRG', 'NYSE.ANTM and NASDAQ.ISRG', 'NYSE.AON and NASDAQ.ISRG', 'NYSE.BAX and NASDAQ.ISRG', 'NYSE.CCL and NASDAQ.ISRG', 'NYSE.CI and NASDAQ.ISRG', 'NYSE.COO and NASDAQ.ISRG', 'NYSE.DLPH and NASDAQ.ISRG', 'NYSE.EL and NASDAQ.ISRG', 'NYSE.ESS and NASDAQ.ISRG', 'NYSE.GPN and NASDAQ.ISRG', 'NYSE.HON and NASDAQ.ISRG', 'NYSE.HUM and NASDAQ.ISRG', 'NYSE.KSU and NASDAQ.ISRG', 'NYSE.MA and NASDAQ.ISRG', 'NYSE.MCD and NASDAQ.ISRG', 'NYSE.NEE and NASDAQ.ISRG', 'NYSE.NI and NASDAQ.ISRG', 'NYSE.NOC and NASDAQ.ISRG', 'NYSE.PGR and NASDAQ.ISRG', 'NYSE.RCL and NASDAQ.ISRG', 'NYSE.ROP and NASDAQ.ISRG', 'NYSE.SPGI and NASDAQ.ISRG', 'NYSE.STZ and NASDAQ.ISRG', 'NYSE.TDG and NASDAQ.ISRG', 'NYSE.UNH and NASDAQ.ISRG', 'NYSE.YUM and NASDAQ.ISRG', 'NYSE.CAG and NASDAQ.KHC', 'NYSE.CPB and NASDAQ.KHC', 'NYSE.SJM and NASDAQ.KHC', 'NASDAQ.SBUX and NASDAQ.KLAC', 'NASDAQ.MSFT and NASDAQ.LKQ', 'NASDAQ.PYPL and NASDAQ.LKQ', 'NASDAQ.WLTW and NASDAQ.LKQ', 'NYSE.ACN and NASDAQ.LKQ', 'NYSE.AET and NASDAQ.LKQ', 'NYSE.ALL and NASDAQ.LKQ', 'NYSE.AME and NASDAQ.LKQ', 'NYSE.AMT and NASDAQ.LKQ', 'NYSE.ANTM and NASDAQ.LKQ', 'NYSE.AON and NASDAQ.LKQ', 'NYSE.APH and NASDAQ.LKQ', 'NYSE.CAT and NASDAQ.LKQ', 'NYSE.CCL and NASDAQ.LKQ', 'NYSE.CI and NASDAQ.LKQ', 'NYSE.DLPH and NASDAQ.LKQ', 'NYSE.EL and NASDAQ.LKQ', 'NYSE.FIS and NASDAQ.LKQ', 'NYSE.GPN and NASDAQ.LKQ', 'NYSE.HON and NASDAQ.LKQ', 'NYSE.HUM and NASDAQ.LKQ', 'NYSE.MA and NASDAQ.LKQ', 'NYSE.MCD and NASDAQ.LKQ', 'NYSE.NEE and NASDAQ.LKQ', 'NYSE.NOC and NASDAQ.LKQ', 'NYSE.PGR and NASDAQ.LKQ', 'NYSE.RCL and NASDAQ.LKQ', 'NYSE.SPGI and NASDAQ.LKQ', 'NYSE.STT and NASDAQ.LKQ', 'NYSE.TSS and NASDAQ.LKQ', 'NYSE.UNH and NASDAQ.LKQ', 'NYSE.V and NASDAQ.LKQ', 'NYSE.YUM and NASDAQ.LKQ', 'NASDAQ.MSFT and NASDAQ.LRCX', 'NYSE.CHK and NASDAQ.MAT', 'NYSE.FLR and NASDAQ.MAT', 'NYSE.HAL and NASDAQ.MAT', 'NYSE.HP and NASDAQ.MAT', 'NYSE.NBL and NASDAQ.MAT', 'NYSE.PXD and NASDAQ.MAT', 'NYSE.RRC and NASDAQ.MAT', 'NASDAQ.NVDA and NASDAQ.MNST', 'NASDAQ.PYPL and NASDAQ.MNST', 'NASDAQ.VRSN and NASDAQ.MNST', 'NYSE.A and NASDAQ.MNST', 'NYSE.ACN and NASDAQ.MNST', 'NYSE.AET and NASDAQ.MNST', 'NYSE.ALL and NASDAQ.MNST', 'NYSE.AMT and NASDAQ.MNST', 'NYSE.AON and NASDAQ.MNST', 'NYSE.APH and NASDAQ.MNST', 'NYSE.CAT and NASDAQ.MNST', 'NYSE.CCL and NASDAQ.MNST', 'NYSE.CI and NASDAQ.MNST', 'NYSE.COO and NASDAQ.MNST', 'NYSE.EL and NASDAQ.MNST', 'NYSE.FIS and NASDAQ.MNST', 'NYSE.GPN and NASDAQ.MNST', 'NYSE.KO and NASDAQ.MNST', 'NYSE.LMT and NASDAQ.MNST', 'NYSE.MA and NASDAQ.MNST', 'NYSE.MCD and NASDAQ.MNST', 'NYSE.NEE and NASDAQ.MNST', 'NYSE.NI and NASDAQ.MNST', 'NYSE.NOC and NASDAQ.MNST', 'NYSE.PGR and NASDAQ.MNST', 'NYSE.PLD and NASDAQ.MNST', 'NYSE.RCL and NASDAQ.MNST', 'NYSE.RTN and NASDAQ.MNST', 'NYSE.SPGI and NASDAQ.MNST', 'NYSE.TSO and NASDAQ.MNST', 'NYSE.TSS and NASDAQ.MNST', 'NYSE.UNH and NASDAQ.MNST', 'NYSE.V and NASDAQ.MNST', 'NYSE.XEL and NASDAQ.MNST', 'NYSE.XYL and NASDAQ.MNST', 'NYSE.YUM and NASDAQ.MNST', 'NASDAQ.PYPL and NASDAQ.MSFT', 'NYSE.A and NASDAQ.MSFT', 'NYSE.ACN and NASDAQ.MSFT', 'NYSE.AET and NASDAQ.MSFT', 'NYSE.CCL and NASDAQ.MSFT', 'NYSE.CI and NASDAQ.MSFT', 'NYSE.FIS and NASDAQ.MSFT', 'NYSE.HON and NASDAQ.MSFT', 'NYSE.MA and NASDAQ.MSFT', 'NYSE.RCL and NASDAQ.MSFT', 'NYSE.SPGI and NASDAQ.MSFT', 'NYSE.TDG and NASDAQ.MSFT', 'NYSE.TSS and NASDAQ.MSFT', 'NYSE.V and NASDAQ.MSFT', 'NYSE.VAR and NASDAQ.MU', 'NASDAQ.TROW and NASDAQ.NDAQ', 'NYSE.AFL and NASDAQ.NDAQ', 'NYSE.BA and NASDAQ.NDAQ', 'NYSE.BRK.B and NASDAQ.NDAQ', 'NYSE.HIG and NASDAQ.NDAQ', 'NYSE.PVH and NASDAQ.NDAQ', 'NYSE.VFC and NASDAQ.NDAQ', 'NYSE.XYL and NASDAQ.NDAQ', 'NASDAQ.PYPL and NASDAQ.NVDA', 'NASDAQ.WLTW and NASDAQ.NVDA', 'NYSE.A and NASDAQ.NVDA', 'NYSE.ACN and NASDAQ.NVDA', 'NYSE.AET and NASDAQ.NVDA', 'NYSE.ALL and NASDAQ.NVDA', 'NYSE.ANTM and NASDAQ.NVDA', 'NYSE.AON and NASDAQ.NVDA', 'NYSE.ARE and NASDAQ.NVDA', 'NYSE.BAX and NASDAQ.NVDA', 'NYSE.BLK and NASDAQ.NVDA', 'NYSE.CCL and NASDAQ.NVDA', 'NYSE.CI and NASDAQ.NVDA', 'NYSE.COO and NASDAQ.NVDA', 'NYSE.CSRA and NASDAQ.NVDA', 'NYSE.ESS and NASDAQ.NVDA', 'NYSE.GPN and NASDAQ.NVDA', 'NYSE.HON and NASDAQ.NVDA', 'NYSE.KSU and NASDAQ.NVDA', 'NYSE.MA and NASDAQ.NVDA', 'NYSE.MCD and NASDAQ.NVDA', 'NYSE.NEE and NASDAQ.NVDA', 'NYSE.NI and NASDAQ.NVDA', 'NYSE.NOC and NASDAQ.NVDA', 'NYSE.PGR and NASDAQ.NVDA', 'NYSE.ROP and NASDAQ.NVDA', 'NYSE.SPGI and NASDAQ.NVDA', 'NYSE.TDG and NASDAQ.NVDA', 'NYSE.TSO and NASDAQ.NVDA', 'NYSE.YUM and NASDAQ.NVDA', 'NASDAQ.NWSA and NASDAQ.NWS', 'NASDAQ.ROST and NASDAQ.ORLY', 'NYSE.AAP and NASDAQ.ORLY', 'NYSE.AZO and NASDAQ.ORLY', 'NYSE.BHI and NASDAQ.ORLY', 'NYSE.CAG and NASDAQ.ORLY', 'NYSE.NFX and NASDAQ.ORLY', 'NYSE.MO and NASDAQ.PDCO', 'NASDAQ.VRSN and NASDAQ.PYPL', 'NASDAQ.WLTW and NASDAQ.PYPL', 'NYSE.A and NASDAQ.PYPL', 'NYSE.ACN and NASDAQ.PYPL', 'NYSE.AET and NASDAQ.PYPL', 'NYSE.ALL and NASDAQ.PYPL', 'NYSE.AMT and NASDAQ.PYPL', 'NYSE.ANTM and NASDAQ.PYPL', 'NYSE.AON and NASDAQ.PYPL', 'NYSE.APH and NASDAQ.PYPL', 'NYSE.AVY and NASDAQ.PYPL', 'NYSE.BAX and NASDAQ.PYPL', 'NYSE.BDX and NASDAQ.PYPL', 'NYSE.C and NASDAQ.PYPL', 'NYSE.CAT and NASDAQ.PYPL', 'NYSE.CCL and NASDAQ.PYPL', 'NYSE.CI and NASDAQ.PYPL', 'NYSE.CNC and NASDAQ.PYPL', 'NYSE.COO and NASDAQ.PYPL', 'NYSE.DLPH and NASDAQ.PYPL', 'NYSE.EL and NASDAQ.PYPL', 'NYSE.FIS and NASDAQ.PYPL', 'NYSE.GPN and NASDAQ.PYPL', 'NYSE.HIG and NASDAQ.PYPL', 'NYSE.HON and NASDAQ.PYPL', 'NYSE.HUM and NASDAQ.PYPL', 'NYSE.KSU and NASDAQ.PYPL', 'NYSE.MA and NASDAQ.PYPL', 'NYSE.MCD and NASDAQ.PYPL', 'NYSE.MCO and NASDAQ.PYPL', 'NYSE.NEE and NASDAQ.PYPL', 'NYSE.NI and NASDAQ.PYPL', 'NYSE.NOC and NASDAQ.PYPL', 'NYSE.PGR and NASDAQ.PYPL', 'NYSE.PLD and NASDAQ.PYPL', 'NYSE.RCL and NASDAQ.PYPL', 'NYSE.RHT and NASDAQ.PYPL', 'NYSE.RTN and NASDAQ.PYPL', 'NYSE.SPGI and NASDAQ.PYPL', 'NYSE.STT and NASDAQ.PYPL', 'NYSE.STZ and NASDAQ.PYPL', 'NYSE.TDG and NASDAQ.PYPL', 'NYSE.TSO and NASDAQ.PYPL', 'NYSE.TSS and NASDAQ.PYPL', 'NYSE.UNH and NASDAQ.PYPL', 'NYSE.V and NASDAQ.PYPL', 'NYSE.XYL and NASDAQ.PYPL', 'NYSE.YUM and NASDAQ.PYPL', 'NYSE.AET and NASDAQ.REGN', 'NYSE.BAX and NASDAQ.REGN', 'NYSE.COO and NASDAQ.REGN', 'NYSE.PKI and NASDAQ.REGN', 'NYSE.ROP and NASDAQ.REGN', 'NYSE.TMO and NASDAQ.REGN', 'NYSE.VAR and NASDAQ.REGN', 'NYSE.YUM and NASDAQ.REGN', 'NYSE.ZTS and NASDAQ.REGN', 'NYSE.AZO and NASDAQ.ROST', 'NYSE.TJX and NASDAQ.ROST', 'NYSE.FCX and NASDAQ.SNI', 'NYSE.FE and NASDAQ.SNI', 'NYSE.APH and NASDAQ.SNPS', 'NYSE.MA and NASDAQ.SNPS', 'NYSE.TSS and NASDAQ.SNPS', 'NYSE.V and NASDAQ.SNPS', 'NYSE.AAP and NASDAQ.SRCL', 'NYSE.FL and NASDAQ.SRCL', 'NYSE.LOW and NASDAQ.SRCL', 'NYSE.NFX and NASDAQ.SRCL', 'NYSE.SNA and NASDAQ.SRCL', 'NYSE.GE and NASDAQ.STX', 'NYSE.VNO and NASDAQ.STX', 'NASDAQ.VRSN and NASDAQ.TROW', 'NASDAQ.VRTX and NASDAQ.TROW', 'NYSE.AVY and NASDAQ.TROW', 'NYSE.AXP and NASDAQ.TROW', 'NYSE.BA and NASDAQ.TROW', 'NYSE.BK and NASDAQ.TROW', 'NYSE.BRK.B and NASDAQ.TROW', 'NYSE.FIS and NASDAQ.TROW', 'NYSE.HBI and NASDAQ.TROW', 'NYSE.HIG and NASDAQ.TROW', 'NYSE.LH and NASDAQ.TROW', 'NYSE.LMT and NASDAQ.TROW', 'NYSE.MCO and NASDAQ.TROW', 'NYSE.NRG and NASDAQ.TROW', 'NYSE.PGR and NASDAQ.TROW', 'NYSE.PLD and NASDAQ.TROW', 'NYSE.PVH and NASDAQ.TROW', 'NYSE.RTN and NASDAQ.TROW', 'NYSE.UNH and NASDAQ.TROW', 'NYSE.V and NASDAQ.TROW', 'NYSE.VFC and NASDAQ.TROW', 'NYSE.XYL and NASDAQ.TROW', 'NYSE.RIG and NASDAQ.TSCO', 'NYSE.CMG and NASDAQ.ULTA', 'NYSE.APC and NASDAQ.VIAB', 'NYSE.FLR and NASDAQ.VIAB', 'NYSE.HP and NASDAQ.VIAB', 'NYSE.IBM and NASDAQ.VIAB', 'NYSE.MAC and NASDAQ.VIAB', 'NYSE.MOS and NASDAQ.VIAB', 'NYSE.NBL and NASDAQ.VIAB', 'NYSE.NOV and NASDAQ.VIAB', 'NASDAQ.VRTX and NASDAQ.VRSN', 'NYSE.ABT and NASDAQ.VRSN', 'NYSE.AMT and NASDAQ.VRSN', 'NYSE.AVY and NASDAQ.VRSN', 'NYSE.BA and NASDAQ.VRSN', 'NYSE.BDX and NASDAQ.VRSN', 'NYSE.BK and NASDAQ.VRSN', 'NYSE.C and NASDAQ.VRSN', 'NYSE.CAT and NASDAQ.VRSN', 'NYSE.CI and NASDAQ.VRSN', 'NYSE.CNC and NASDAQ.VRSN', 'NYSE.FIS and NASDAQ.VRSN', 'NYSE.HIG and NASDAQ.VRSN', 'NYSE.LMT and NASDAQ.VRSN', 'NYSE.MA and NASDAQ.VRSN', 'NYSE.MCO and NASDAQ.VRSN', 'NYSE.NOC and NASDAQ.VRSN', 'NYSE.PGR and NASDAQ.VRSN', 'NYSE.PLD and NASDAQ.VRSN', 'NYSE.PVH and NASDAQ.VRSN', 'NYSE.RHT and NASDAQ.VRSN', 'NYSE.RTN and NASDAQ.VRSN', 'NYSE.SPGI and NASDAQ.VRSN', 'NYSE.STT and NASDAQ.VRSN', 'NYSE.STZ and NASDAQ.VRSN', 'NYSE.TSO and NASDAQ.VRSN', 'NYSE.UNH and NASDAQ.VRSN', 'NYSE.V and NASDAQ.VRSN', 'NYSE.XYL and NASDAQ.VRSN', 'NYSE.AVY and NASDAQ.VRTX', 'NYSE.BA and NASDAQ.VRTX', 'NYSE.BK and NASDAQ.VRTX', 'NYSE.FIS and NASDAQ.VRTX', 'NYSE.MA and NASDAQ.VRTX', 'NYSE.MCO and NASDAQ.VRTX', 'NYSE.PGR and NASDAQ.VRTX', 'NYSE.PLD and NASDAQ.VRTX', 'NYSE.PVH and NASDAQ.VRTX', 'NYSE.UNH and NASDAQ.VRTX', 'NYSE.V and NASDAQ.VRTX', 'NYSE.XYL and NASDAQ.VRTX', 'NYSE.A and NASDAQ.WLTW', 'NYSE.AET and NASDAQ.WLTW', 'NYSE.AME and NASDAQ.WLTW', 'NYSE.ANTM and NASDAQ.WLTW', 'NYSE.AON and NASDAQ.WLTW', 'NYSE.BAX and NASDAQ.WLTW', 'NYSE.CCL and NASDAQ.WLTW', 'NYSE.DLPH and NASDAQ.WLTW', 'NYSE.ESS and NASDAQ.WLTW', 'NYSE.GPN and NASDAQ.WLTW', 'NYSE.HON and NASDAQ.WLTW', 'NYSE.KO and NASDAQ.WLTW', 'NYSE.MCD and NASDAQ.WLTW', 'NYSE.RCL and NASDAQ.WLTW', 'NYSE.ROP and NASDAQ.WLTW', 'NYSE.SPGI and NASDAQ.WLTW', 'NYSE.TMO and NASDAQ.WLTW', 'NYSE.YUM and NASDAQ.WLTW', 'NYSE.ZTS and NASDAQ.WLTW', 'NYSE.ANTM and NASDAQ.WYNN', 'NYSE.AXP and NASDAQ.ZION', 'NYSE.BBT and NASDAQ.ZION', 'NYSE.BK and NASDAQ.ZION', 'NYSE.C and NASDAQ.ZION', 'NYSE.HIG and NASDAQ.ZION', 'NYSE.ICE and NASDAQ.ZION', 'NYSE.JPM and NASDAQ.ZION', 'NYSE.MS and NASDAQ.ZION', 'NYSE.PNC and NASDAQ.ZION', 'NYSE.PSX and NASDAQ.ZION', 'NYSE.RJF and NASDAQ.ZION', 'NYSE.STT and NASDAQ.ZION', 'NYSE.TSO and NASDAQ.ZION', 'NYSE.XRX and NASDAQ.ZION', 'NYSE.AET and NYSE.A', 'NYSE.AMT and NYSE.A', 'NYSE.ANTM and NYSE.A', 'NYSE.AON and NYSE.A', 'NYSE.BAX and NYSE.A', 'NYSE.CCL and NYSE.A', 'NYSE.CI and NYSE.A', 'NYSE.COO and NYSE.A', 'NYSE.DLPH and NYSE.A', 'NYSE.EL and NYSE.A', 'NYSE.MA and NYSE.A', 'NYSE.MCD and NYSE.A', 'NYSE.NEE and NYSE.A', 'NYSE.NI and NYSE.A', 'NYSE.NOC and NYSE.A', 'NYSE.RCL and NYSE.A', 'NYSE.ROP and NYSE.A', 'NYSE.SPGI and NYSE.A', 'NYSE.TMO and NYSE.A', 'NYSE.YUM and NYSE.A', 'NYSE.AZO and NYSE.AAP', 'NYSE.BHI and NYSE.AAP', 'NYSE.CMG and NYSE.AAP', 'NYSE.LOW and NYSE.AAP', 'NYSE.NFX and NYSE.AAP', 'NYSE.ABT and NYSE.ABBV', 'NYSE.CNC and NYSE.ABBV', 'NYSE.COO and NYSE.ABBV', 'NYSE.EMN and NYSE.ABBV', 'NYSE.FDX and NYSE.ABBV', 'NYSE.ICE and NYSE.ABBV', 'NYSE.KSU and NYSE.ABBV', 'NYSE.TSO and NYSE.ABBV', 'NYSE.XRX and NYSE.ABBV', 'NYSE.AET and NYSE.ABT', 'NYSE.AON and NYSE.ABT', 'NYSE.AVY and NYSE.ABT', 'NYSE.AXP and NYSE.ABT', 'NYSE.BDX and NYSE.ABT', 'NYSE.BK and NYSE.ABT', 'NYSE.BLK and NYSE.ABT', 'NYSE.C and NYSE.ABT', 'NYSE.CCL and NYSE.ABT', 'NYSE.CI and NYSE.ABT', 'NYSE.CNC and NYSE.ABT', 'NYSE.COO and NYSE.ABT', 'NYSE.CSRA and NYSE.ABT', 'NYSE.EMN and NYSE.ABT', 'NYSE.FDX and NYSE.ABT', 'NYSE.HIG and NYSE.ABT', 'NYSE.ICE and NYSE.ABT', 'NYSE.KSU and NYSE.ABT', 'NYSE.PGR and NYSE.ABT', 'NYSE.PLD and NYSE.ABT', 'NYSE.SPGI and NYSE.ABT', 'NYSE.STT and NYSE.ABT', 'NYSE.TSO and NYSE.ABT', 'NYSE.UNH and NYSE.ABT', 'NYSE.XRX and NYSE.ABT', 'NYSE.AET and NYSE.ACN', 'NYSE.ALL and NYSE.ACN', 'NYSE.AON and NYSE.ACN', 'NYSE.APH and NYSE.ACN', 'NYSE.CAT and NYSE.ACN', 'NYSE.CCL and NYSE.ACN', 'NYSE.CI and NYSE.ACN', 'NYSE.EL and NYSE.ACN', 'NYSE.FIS and NYSE.ACN', 'NYSE.GPN and NYSE.ACN', 'NYSE.HON and NYSE.ACN', 'NYSE.MA and NYSE.ACN', 'NYSE.NEE and NYSE.ACN', 'NYSE.NI and NYSE.ACN', 'NYSE.NOC and NYSE.ACN', 'NYSE.PGR and NYSE.ACN', 'NYSE.RCL and NYSE.ACN', 'NYSE.SPGI and NYSE.ACN', 'NYSE.TSS and NYSE.ACN', 'NYSE.UNH and NYSE.ACN', 'NYSE.V and NYSE.ACN', 'NYSE.YUM and NYSE.ACN', 'NYSE.LNT and NYSE.AEE', 'NYSE.PNW and NYSE.AEE', 'NYSE.SRE and NYSE.AEE', 'NYSE.WEC and NYSE.AEE', 'NYSE.XEL and NYSE.AEE', 'NYSE.CCI and NYSE.AEP', 'NYSE.CMS and NYSE.AEP', 'NYSE.DTE and NYSE.AEP', 'NYSE.DUK and NYSE.AEP', 'NYSE.ED and NYSE.AEP', 'NYSE.ES and NYSE.AEP', 'NYSE.LNT and NYSE.AEP', 'NYSE.PNW and NYSE.AEP', 'NYSE.WEC and NYSE.AEP', 'NYSE.XEL and NYSE.AEP', 'NYSE.ALL and NYSE.AET', 'NYSE.AME and NYSE.AET', 'NYSE.ANTM and NYSE.AET', 'NYSE.AON and NYSE.AET', 'NYSE.ARE and NYSE.AET', 'NYSE.AVY and NYSE.AET', 'NYSE.BAX and NYSE.AET', 'NYSE.BLK and NYSE.AET', 'NYSE.C and NYSE.AET', 'NYSE.CAT and NYSE.AET', 'NYSE.CCL and NYSE.AET', 'NYSE.CI and NYSE.AET', 'NYSE.CNC and NYSE.AET', 'NYSE.COO and NYSE.AET', 'NYSE.CSRA and NYSE.AET', 'NYSE.DLPH and NYSE.AET', 'NYSE.EL and NYSE.AET', 'NYSE.ESS and NYSE.AET', 'NYSE.GPN and NYSE.AET', 'NYSE.HON and NYSE.AET', 'NYSE.HRB and NYSE.AET', 'NYSE.HUM and NYSE.AET', 'NYSE.KSU and NYSE.AET', 'NYSE.MA and NYSE.AET', 'NYSE.MCD and NYSE.AET', 'NYSE.NEE and NYSE.AET', 'NYSE.NOC and NYSE.AET', 'NYSE.PGR and NYSE.AET', 'NYSE.RCL and NYSE.AET', 'NYSE.ROP and NYSE.AET', 'NYSE.SPGI and NYSE.AET', 'NYSE.STT and NYSE.AET', 'NYSE.STZ and NYSE.AET', 'NYSE.TDG and NYSE.AET', 'NYSE.TMO and NYSE.AET', 'NYSE.TSO and NYSE.AET', 'NYSE.UNH and NYSE.AET', 'NYSE.YUM and NYSE.AET', 'NYSE.ALL and NYSE.AFL', 'NYSE.BA and NYSE.AFL', 'NYSE.BRK.B and NYSE.AFL', 'NYSE.C and NYSE.AFL', 'NYSE.CAT and NYSE.AFL', 'NYSE.CCL and NYSE.AFL', 'NYSE.CI and NYSE.AFL', 'NYSE.HBI and NYSE.AFL', 'NYSE.HIG and NYSE.AFL', 'NYSE.LMT and NYSE.AFL', 'NYSE.MHK and NYSE.AFL', 'NYSE.NOC and NYSE.AFL', 'NYSE.PGR and NYSE.AFL', 'NYSE.PLD and NYSE.AFL', 'NYSE.PVH and NYSE.AFL', 'NYSE.RTN and NYSE.AFL', 'NYSE.STT and NYSE.AFL', 'NYSE.TSO and NYSE.AFL', 'NYSE.UNH and NYSE.AFL', 'NYSE.XYL and NYSE.AFL', 'NYSE.AON and NYSE.ALL', 'NYSE.APH and NYSE.ALL', 'NYSE.C and NYSE.ALL', 'NYSE.CAT and NYSE.ALL', 'NYSE.CCL and NYSE.ALL', 'NYSE.CI and NYSE.ALL', 'NYSE.EL and NYSE.ALL', 'NYSE.FTV and NYSE.ALL', 'NYSE.HIG and NYSE.ALL', 'NYSE.HON and NYSE.ALL', 'NYSE.HUM and NYSE.ALL', 'NYSE.LMT and NYSE.ALL', 'NYSE.MA and NYSE.ALL', 'NYSE.NEE and NYSE.ALL', 'NYSE.NOC and NYSE.ALL', 'NYSE.PGR and NYSE.ALL', 'NYSE.PLD and NYSE.ALL', 'NYSE.RCL and NYSE.ALL', 'NYSE.RTN and NYSE.ALL', 'NYSE.SPGI and NYSE.ALL', 'NYSE.STT and NYSE.ALL', 'NYSE.TSO and NYSE.ALL', 'NYSE.UNH and NYSE.ALL', 'NYSE.XYL and NYSE.ALL', 'NYSE.YUM and NYSE.ALL', 'NYSE.ANTM and NYSE.AME', 'NYSE.APD and NYSE.AME', 'NYSE.BCR and NYSE.AME', 'NYSE.DLPH and NYSE.AME', 'NYSE.ESS and NYSE.AME', 'NYSE.GPN and NYSE.AME', 'NYSE.HON and NYSE.AME', 'NYSE.MCD and NYSE.AME', 'NYSE.RCL and NYSE.AME', 'NYSE.ROP and NYSE.AME', 'NYSE.TMO and NYSE.AME', 'NYSE.YUM and NYSE.AME', 'NYSE.BK and NYSE.AMG', 'NYSE.LH and NYSE.AMG', 'NYSE.BBT and NYSE.AMP', 'NYSE.UNM and NYSE.AMP', 'NYSE.APH and NYSE.AMT', 'NYSE.CAT and NYSE.AMT', 'NYSE.CCL and NYSE.AMT', 'NYSE.CI and NYSE.AMT', 'NYSE.CNC and NYSE.AMT', 'NYSE.EL and NYSE.AMT', 'NYSE.FIS and NYSE.AMT', 'NYSE.HUM and NYSE.AMT', 'NYSE.LMT and NYSE.AMT', 'NYSE.MA and NYSE.AMT', 'NYSE.MCO and NYSE.AMT', 'NYSE.NEE and NYSE.AMT', 'NYSE.NI and NYSE.AMT', 'NYSE.NOC and NYSE.AMT', 'NYSE.PGR and NYSE.AMT', 'NYSE.PLD and NYSE.AMT', 'NYSE.RCL and NYSE.AMT', 'NYSE.RHT and NYSE.AMT', 'NYSE.RTN and NYSE.AMT', 'NYSE.STZ and NYSE.AMT', 'NYSE.TSS and NYSE.AMT', 'NYSE.UNH and NYSE.AMT', 'NYSE.V and NYSE.AMT', 'NYSE.XYL and NYSE.AMT', 'NYSE.AON and NYSE.ANTM', 'NYSE.BAX and NYSE.ANTM', 'NYSE.CCL and NYSE.ANTM', 'NYSE.CI and NYSE.ANTM', 'NYSE.COO and NYSE.ANTM', 'NYSE.ESS and NYSE.ANTM', 'NYSE.HON and NYSE.ANTM', 'NYSE.HUM and NYSE.ANTM', 'NYSE.KSU and NYSE.ANTM', 'NYSE.MCD and NYSE.ANTM', 'NYSE.NOC and NYSE.ANTM', 'NYSE.ROP and NYSE.ANTM', 'NYSE.SPGI and NYSE.ANTM', 'NYSE.TMO and NYSE.ANTM', 'NYSE.YUM and NYSE.ANTM', 'NYSE.ARE and NYSE.AON', 'NYSE.BAX and NYSE.AON', 'NYSE.BDX and NYSE.AON', 'NYSE.BLK and NYSE.AON', 'NYSE.C and NYSE.AON', 'NYSE.CAT and NYSE.AON', 'NYSE.CB and NYSE.AON', 'NYSE.CCL and NYSE.AON', 'NYSE.CI and NYSE.AON', 'NYSE.COO and NYSE.AON', 'NYSE.CSRA and NYSE.AON', 'NYSE.EL and NYSE.AON', 'NYSE.FIS and NYSE.AON', 'NYSE.GPN and NYSE.AON', 'NYSE.HIG and NYSE.AON', 'NYSE.HON and NYSE.AON', 'NYSE.HRB and NYSE.AON', 'NYSE.JNJ and NYSE.AON', 'NYSE.KO and NYSE.AON', 'NYSE.KSU and NYSE.AON', 'NYSE.MA and NYSE.AON', 'NYSE.MCD and NYSE.AON', 'NYSE.MMC and NYSE.AON', 'NYSE.NEE and NYSE.AON', 'NYSE.NI and NYSE.AON', 'NYSE.NOC and NYSE.AON', 'NYSE.PGR and NYSE.AON', 'NYSE.PLD and NYSE.AON', 'NYSE.ROP and NYSE.AON', 'NYSE.SPGI and NYSE.AON', 'NYSE.STT and NYSE.AON', 'NYSE.STZ and NYSE.AON', 'NYSE.TDG and NYSE.AON', 'NYSE.TSO and NYSE.AON', 'NYSE.UNH and NYSE.AON', 'NYSE.YUM and NYSE.AON', 'NYSE.CHK and NYSE.APA', 'NYSE.HAL and NYSE.APA', 'NYSE.NBL and NYSE.APA', 'NYSE.PXD and NYSE.APA', 'NYSE.COP and NYSE.APC', 'NYSE.DVN and NYSE.APC', 'NYSE.FTI and NYSE.APC', 'NYSE.HAL and NYSE.APC', 'NYSE.HP and NYSE.APC', 'NYSE.MRO and NYSE.APC', 'NYSE.NBL and NYSE.APC', 'NYSE.NFX and NYSE.APC', 'NYSE.RIG and NYSE.APC', 'NYSE.RRC and NYSE.APC', 'NYSE.SLB and NYSE.APC', 'NYSE.BCR and NYSE.APD', 'NYSE.CAT and NYSE.APH', 'NYSE.CCL and NYSE.APH', 'NYSE.CI and NYSE.APH', 'NYSE.EL and NYSE.APH', 'NYSE.FIS and NYSE.APH', 'NYSE.HUM and NYSE.APH', 'NYSE.LMT and NYSE.APH', 'NYSE.MA and NYSE.APH', 'NYSE.NEE and NYSE.APH', 'NYSE.NI and NYSE.APH', 'NYSE.NOC and NYSE.APH', 'NYSE.PGR and NYSE.APH', 'NYSE.RCL and NYSE.APH', 'NYSE.RTN and NYSE.APH', 'NYSE.TSS and NYSE.APH', 'NYSE.V and NYSE.APH', 'NYSE.WEC and NYSE.APH', 'NYSE.XEL and NYSE.APH', 'NYSE.XYL and NYSE.APH', 'NYSE.YUM and NYSE.APH', 'NYSE.COO and NYSE.ARE', 'NYSE.SPGI and NYSE.ARE', 'NYSE.YUM and NYSE.ARE', 'NYSE.AXP and NYSE.AVY', 'NYSE.BA and NYSE.AVY', 'NYSE.BDX and NYSE.AVY', 'NYSE.BK and NYSE.AVY', 'NYSE.C and NYSE.AVY', 'NYSE.CCL and NYSE.AVY', 'NYSE.CI and NYSE.AVY', 'NYSE.CNC and NYSE.AVY', 'NYSE.FIS and NYSE.AVY', 'NYSE.HIG and NYSE.AVY', 'NYSE.KSU and NYSE.AVY', 'NYSE.MA and NYSE.AVY', 'NYSE.MCO and NYSE.AVY', 'NYSE.MHK and NYSE.AVY', 'NYSE.NOC and NYSE.AVY', 'NYSE.PGR and NYSE.AVY', 'NYSE.PLD and NYSE.AVY', 'NYSE.PVH and NYSE.AVY', 'NYSE.RHT and NYSE.AVY', 'NYSE.RTN and NYSE.AVY', 'NYSE.SPGI and NYSE.AVY', 'NYSE.STT and NYSE.AVY', 'NYSE.STZ and NYSE.AVY', 'NYSE.TSO and NYSE.AVY', 'NYSE.UNH and NYSE.AVY', 'NYSE.XRX and NYSE.AVY', 'NYSE.XYL and NYSE.AVY', 'NYSE.BK and NYSE.AXP', 'NYSE.C and NYSE.AXP', 'NYSE.EMN and NYSE.AXP', 'NYSE.HBI and NYSE.AXP', 'NYSE.HIG and NYSE.AXP', 'NYSE.ICE and NYSE.AXP', 'NYSE.JPM and NYSE.AXP', 'NYSE.LH and NYSE.AXP', 'NYSE.MCO and NYSE.AXP', 'NYSE.MS and NYSE.AXP', 'NYSE.PVH and NYSE.AXP', 'NYSE.RHT and NYSE.AXP', 'NYSE.STT and NYSE.AXP', 'NYSE.TSO and NYSE.AXP', 'NYSE.UNH and NYSE.AXP', 'NYSE.UPS and NYSE.AXP', 'NYSE.XRX and NYSE.AXP', 'NYSE.BHI and NYSE.AZO', 'NYSE.FL and NYSE.AZO', 'NYSE.LOW and NYSE.AZO', 'NYSE.MRO and NYSE.AZO', 'NYSE.NFX and NYSE.AZO', 'NYSE.TJX and NYSE.AZO', 'NYSE.XEC and NYSE.AZO', 'NYSE.BRK.B and NYSE.BA', 'NYSE.CAT and NYSE.BA', 'NYSE.FIS and NYSE.BA', 'NYSE.HIG and NYSE.BA', 'NYSE.LMT and NYSE.BA', 'NYSE.MA and NYSE.BA', 'NYSE.MCO and NYSE.BA', 'NYSE.PGR and NYSE.BA', 'NYSE.PLD and NYSE.BA', 'NYSE.PVH and NYSE.BA', 'NYSE.RTN and NYSE.BA', 'NYSE.TSO and NYSE.BA', 'NYSE.UNH and NYSE.BA', 'NYSE.V and NYSE.BA', 'NYSE.VFC and NYSE.BA', 'NYSE.XYL and NYSE.BA', 'NYSE.CCL and NYSE.BAX', 'NYSE.CI and NYSE.BAX', 'NYSE.COO and NYSE.BAX', 'NYSE.MCD and NYSE.BAX', 'NYSE.PKI and NYSE.BAX', 'NYSE.ROP and NYSE.BAX', 'NYSE.SPGI and NYSE.BAX', 'NYSE.STZ and NYSE.BAX', 'NYSE.TDG and NYSE.BAX', 'NYSE.TMO and NYSE.BAX', 'NYSE.YUM and NYSE.BAX', 'NYSE.ZTS and NYSE.BAX', 'NYSE.BK and NYSE.BBT', 'NYSE.JPM and NYSE.BBT', 'NYSE.PNC and NYSE.BBT', 'NYSE.PSX and NYSE.BBT', 'NYSE.UNM and NYSE.BBT', 'NYSE.DGX and NYSE.BCR', 'NYSE.EW and NYSE.BCR', 'NYSE.HON and NYSE.BCR', 'NYSE.MCD and NYSE.BCR', 'NYSE.TMO and NYSE.BCR', 'NYSE.BK and NYSE.BDX', 'NYSE.BLK and NYSE.BDX', 'NYSE.COO and NYSE.BDX', 'NYSE.CSRA and NYSE.BDX', 'NYSE.HIG and NYSE.BDX', 'NYSE.ICE and NYSE.BDX', 'NYSE.KSU and NYSE.BDX', 'NYSE.PGR and NYSE.BDX', 'NYSE.SPGI and NYSE.BDX', 'NYSE.TSO and NYSE.BDX', 'NYSE.UNH and NYSE.BDX', 'NYSE.IVZ and NYSE.BEN', 'NYSE.CAG and NYSE.BHI', 'NYSE.CMG and NYSE.BHI', 'NYSE.GE and NYSE.BHI', 'NYSE.GPC and NYSE.BHI', 'NYSE.C and NYSE.BK', 'NYSE.DHI and NYSE.BK', 'NYSE.HIG and NYSE.BK', 'NYSE.ICE and NYSE.BK', 'NYSE.LH and NYSE.BK', 'NYSE.MCO and NYSE.BK', 'NYSE.MS and NYSE.BK', 'NYSE.PGR and NYSE.BK', 'NYSE.PNC and NYSE.BK', 'NYSE.PSX and NYSE.BK', 'NYSE.PVH and NYSE.BK', 'NYSE.RJF and NYSE.BK', 'NYSE.STT and NYSE.BK', 'NYSE.TSO and NYSE.BK', 'NYSE.UNH and NYSE.BK', 'NYSE.XRX and NYSE.BK', 'NYSE.XYL and NYSE.BK', 'NYSE.CB and NYSE.BLK', 'NYSE.COO and NYSE.BLK', 'NYSE.CSRA and NYSE.BLK', 'NYSE.FDX and NYSE.BLK', 'NYSE.HRB and NYSE.BLK', 'NYSE.ICE and NYSE.BLK', 'NYSE.IT and NYSE.BLK', 'NYSE.JNJ and NYSE.BLK', 'NYSE.KSU and NYSE.BLK', 'NYSE.MMC and NYSE.BLK', 'NYSE.ROP and NYSE.BLK', 'NYSE.SPGI and NYSE.BLK', 'NYSE.TDG and NYSE.BLK', 'NYSE.TSO and NYSE.BLK', 'NYSE.HIG and NYSE.BRK.B', 'NYSE.LMT and NYSE.BRK.B', 'NYSE.MCO and NYSE.BRK.B', 'NYSE.PGR and NYSE.BRK.B', 'NYSE.PLD and NYSE.BRK.B', 'NYSE.PVH and NYSE.BRK.B', 'NYSE.VFC and NYSE.BRK.B', 'NYSE.XYL and NYSE.BRK.B', 'NYSE.DGX and NYSE.BSX', 'NYSE.EW and NYSE.BSX', 'NYSE.GD and NYSE.BSX', 'NYSE.PX and NYSE.BSX', 'NYSE.SHW and NYSE.BSX', 'NYSE.WAT and NYSE.BSX', 'NYSE.ZTS and NYSE.BSX', 'NYSE.FIS and NYSE.BWA', 'NYSE.CI and NYSE.C', 'NYSE.HIG and NYSE.C', 'NYSE.ICE and NYSE.C', 'NYSE.KSU and NYSE.C', 'NYSE.MS and NYSE.C', 'NYSE.PGR and NYSE.C', 'NYSE.PNC and NYSE.C', 'NYSE.PSX and NYSE.C', 'NYSE.SPGI and NYSE.C', 'NYSE.STT and NYSE.C', 'NYSE.STZ and NYSE.C', 'NYSE.TSO and NYSE.C', 'NYSE.UNH and NYSE.C', 'NYSE.XRX and NYSE.C', 'NYSE.XYL and NYSE.C', 'NYSE.K and NYSE.CAG', 'NYSE.CCL and NYSE.CAT', 'NYSE.CI and NYSE.CAT', 'NYSE.EL and NYSE.CAT', 'NYSE.FIS and NYSE.CAT', 'NYSE.HIG and NYSE.CAT', 'NYSE.HON and NYSE.CAT', 'NYSE.HUM and NYSE.CAT', 'NYSE.LMT and NYSE.CAT', 'NYSE.MA and NYSE.CAT', 'NYSE.MCD and NYSE.CAT', 'NYSE.MCO and NYSE.CAT', 'NYSE.NEE and NYSE.CAT', 'NYSE.NOC and NYSE.CAT', 'NYSE.PGR and NYSE.CAT', 'NYSE.PLD and NYSE.CAT', 'NYSE.RCL and NYSE.CAT', 'NYSE.RTN and NYSE.CAT', 'NYSE.SPGI and NYSE.CAT', 'NYSE.STT and NYSE.CAT', 'NYSE.TSO and NYSE.CAT', 'NYSE.TSS and NYSE.CAT', 'NYSE.UNH and NYSE.CAT', 'NYSE.V and NYSE.CAT', 'NYSE.XYL and NYSE.CAT', 'NYSE.CSRA and NYSE.CB', 'NYSE.DE and NYSE.CB', 'NYSE.JNJ and NYSE.CB', 'NYSE.MMC and NYSE.CB', 'NYSE.TRV and NYSE.CB', 'NYSE.CMS and NYSE.CCI', 'NYSE.DTE and NYSE.CCI', 'NYSE.XEL and NYSE.CCI', 'NYSE.CI and NYSE.CCL', 'NYSE.CNC and NYSE.CCL', 'NYSE.COO and NYSE.CCL', 'NYSE.DLPH and NYSE.CCL', 'NYSE.EL and NYSE.CCL', 'NYSE.FIS and NYSE.CCL', 'NYSE.FTV and NYSE.CCL', 'NYSE.HIG and NYSE.CCL', 'NYSE.HON and NYSE.CCL', 'NYSE.HUM and NYSE.CCL', 'NYSE.KSU and NYSE.CCL', 'NYSE.MA and NYSE.CCL', 'NYSE.MCD and NYSE.CCL', 'NYSE.MHK and NYSE.CCL', 'NYSE.NEE and NYSE.CCL', 'NYSE.NI and NYSE.CCL', 'NYSE.NOC and NYSE.CCL', 'NYSE.PGR and NYSE.CCL', 'NYSE.PLD and NYSE.CCL', 'NYSE.RCL and NYSE.CCL', 'NYSE.ROP and NYSE.CCL', 'NYSE.RTN and NYSE.CCL', 'NYSE.SPGI and NYSE.CCL', 'NYSE.STT and NYSE.CCL', 'NYSE.STZ and NYSE.CCL', 'NYSE.TDG and NYSE.CCL', 'NYSE.TSO and NYSE.CCL', 'NYSE.UNH and NYSE.CCL', 'NYSE.V and NYSE.CCL', 'NYSE.XYL and NYSE.CCL', 'NYSE.YUM and NYSE.CCL', 'NYSE.FTI and NYSE.CHK', 'NYSE.HAL and NYSE.CHK', 'NYSE.HES and NYSE.CHK', 'NYSE.HP and NYSE.CHK', 'NYSE.MRO and NYSE.CHK', 'NYSE.NBL and NYSE.CHK', 'NYSE.NFX and NYSE.CHK', 'NYSE.PXD and NYSE.CHK', 'NYSE.RRC and NYSE.CHK', 'NYSE.SLB and NYSE.CHK', 'NYSE.CNC and NYSE.CI', 'NYSE.COO and NYSE.CI', 'NYSE.DLPH and NYSE.CI', 'NYSE.EL and NYSE.CI', 'NYSE.FIS and NYSE.CI', 'NYSE.HIG and NYSE.CI', 'NYSE.HON and NYSE.CI', 'NYSE.HUM and NYSE.CI', 'NYSE.KSU and NYSE.CI', 'NYSE.LMT and NYSE.CI', 'NYSE.MA and NYSE.CI', 'NYSE.MCD and NYSE.CI', 'NYSE.MHK and NYSE.CI', 'NYSE.NEE and NYSE.CI', 'NYSE.NI and NYSE.CI', 'NYSE.NOC and NYSE.CI', 'NYSE.PGR and NYSE.CI', 'NYSE.PLD and NYSE.CI', 'NYSE.RCL and NYSE.CI', 'NYSE.RHT and NYSE.CI', 'NYSE.RTN and NYSE.CI', 'NYSE.SPGI and NYSE.CI', 'NYSE.STT and NYSE.CI', 'NYSE.STZ and NYSE.CI', 'NYSE.TSO and NYSE.CI', 'NYSE.TSS and NYSE.CI', 'NYSE.UNH and NYSE.CI', 'NYSE.V and NYSE.CI', 'NYSE.XYL and NYSE.CI', 'NYSE.YUM and NYSE.CI', 'NYSE.FLS and NYSE.CMG', 'NYSE.GPC and NYSE.CMG', 'NYSE.DTE and NYSE.CMS', 'NYSE.DUK and NYSE.CMS', 'NYSE.ED and NYSE.CMS', 'NYSE.ES and NYSE.CMS', 'NYSE.LNT and NYSE.CMS', 'NYSE.PNW and NYSE.CMS', 'NYSE.WEC and NYSE.CMS', 'NYSE.XEL and NYSE.CMS', 'NYSE.KSU and NYSE.CNC', 'NYSE.MA and NYSE.CNC', 'NYSE.PGR and NYSE.CNC', 'NYSE.RHT and NYSE.CNC', 'NYSE.SPGI and NYSE.CNC', 'NYSE.STT and NYSE.CNC', 'NYSE.STZ and NYSE.CNC', 'NYSE.TSO and NYSE.CNC', 'NYSE.UNH and NYSE.CNC', 'NYSE.PCG and NYSE.CNP', 'NYSE.FMC and NYSE.COL', 'NYSE.HRS and NYSE.COL', 'NYSE.LMT and NYSE.COL', 'NYSE.RTN and NYSE.COL', 'NYSE.V and NYSE.COL', 'NYSE.XYL and NYSE.COL', 'NYSE.CSRA and NYSE.COO', 'NYSE.FDX and NYSE.COO', 'NYSE.HRB and NYSE.COO', 'NYSE.JNJ and NYSE.COO', 'NYSE.KSU and NYSE.COO', 'NYSE.MCD and NYSE.COO', 'NYSE.MMC and NYSE.COO', 'NYSE.NOC and NYSE.COO', 'NYSE.PGR and NYSE.COO', 'NYSE.ROP and NYSE.COO', 'NYSE.SPGI and NYSE.COO', 'NYSE.TDG and NYSE.COO', 'NYSE.TSO and NYSE.COO', 'NYSE.UNH and NYSE.COO', 'NYSE.YUM and NYSE.COO', 'NYSE.DVN and NYSE.COP', 'NYSE.MRO and NYSE.COP', 'NYSE.RIG and NYSE.COP', 'NYSE.SLB and NYSE.COP', 'NYSE.HRB and NYSE.CSRA', 'NYSE.ICE and NYSE.CSRA', 'NYSE.IT and NYSE.CSRA', 'NYSE.KSU and NYSE.CSRA', 'NYSE.MMC and NYSE.CSRA', 'NYSE.ROP and NYSE.CSRA', 'NYSE.SPGI and NYSE.CSRA', 'NYSE.SYK and NYSE.CSRA', 'NYSE.TDG and NYSE.CSRA', 'NYSE.TEL and NYSE.CSRA', 'NYSE.WRK and NYSE.CSRA', 'NYSE.LVLT and NYSE.CTL', 'NYSE.DOW and NYSE.DD', 'NYSE.EW and NYSE.DGX', 'NYSE.MAS and NYSE.DGX', 'NYSE.WYN and NYSE.DGX', 'NYSE.M and NYSE.DIS', 'NYSE.EL and NYSE.DLPH', 'NYSE.GPN and NYSE.DLPH', 'NYSE.HON and NYSE.DLPH', 'NYSE.HUM and NYSE.DLPH', 'NYSE.MA and NYSE.DLPH', 'NYSE.MCD and NYSE.DLPH', 'NYSE.RCL and NYSE.DLPH', 'NYSE.TSS and NYSE.DLPH', 'NYSE.YUM and NYSE.DLPH', 'NYSE.DUK and NYSE.DTE', 'NYSE.ED and NYSE.DTE', 'NYSE.ES and NYSE.DTE', 'NYSE.LNT and NYSE.DTE', 'NYSE.PNW and NYSE.DTE', 'NYSE.SRE and NYSE.DTE', 'NYSE.WEC and NYSE.DTE', 'NYSE.XEL and NYSE.DTE', 'NYSE.ED and NYSE.DUK', 'NYSE.ES and NYSE.DUK', 'NYSE.LNT and NYSE.DUK', 'NYSE.NI and NYSE.DUK', 'NYSE.PNW and NYSE.DUK', 'NYSE.WEC and NYSE.DUK', 'NYSE.XEL and NYSE.DUK', 'NYSE.FLR and NYSE.DVA', 'NYSE.FLS and NYSE.DVA', 'NYSE.PXD and NYSE.DVA', 'NYSE.FTI and NYSE.DVN', 'NYSE.MRO and NYSE.DVN', 'NYSE.NFX and NYSE.DVN', 'NYSE.RIG and NYSE.DVN', 'NYSE.SLB and NYSE.DVN', 'NYSE.XEC and NYSE.DVN', 'NYSE.MMC and NYSE.ECL', 'NYSE.ES and NYSE.ED', 'NYSE.KO and NYSE.ED', 'NYSE.LNT and NYSE.ED', 'NYSE.NI and NYSE.ED', 'NYSE.PNW and NYSE.ED', 'NYSE.WEC and NYSE.ED', 'NYSE.XEL and NYSE.ED', 'NYSE.HUM and NYSE.EL', 'NYSE.MA and NYSE.EL', 'NYSE.MCD and NYSE.EL', 'NYSE.NEE and NYSE.EL', 'NYSE.NI and NYSE.EL', 'NYSE.NOC and NYSE.EL', 'NYSE.PGR and NYSE.EL', 'NYSE.PLD and NYSE.EL', 'NYSE.RCL and NYSE.EL', 'NYSE.RTN and NYSE.EL', 'NYSE.TSS and NYSE.EL', 'NYSE.UNH and NYSE.EL', 'NYSE.V and NYSE.EL', 'NYSE.XEL and NYSE.EL', 'NYSE.YUM and NYSE.EL', 'NYSE.ICE and NYSE.EMN', 'NYSE.ESS and NYSE.EQR', 'NYSE.UDR and NYSE.EQR', 'NYSE.LNT and NYSE.ES', 'NYSE.PNW and NYSE.ES', 'NYSE.WEC and NYSE.ES', 'NYSE.XEL and NYSE.ES', 'NYSE.GPN and NYSE.ESS', 'NYSE.KO and NYSE.ESS', 'NYSE.MCD and NYSE.ESS', 'NYSE.UDR and NYSE.ESS', 'NYSE.YUM and NYSE.ESS', 'NYSE.ZTS and NYSE.ESS', 'NYSE.MAS and NYSE.EW', 'NYSE.PX and NYSE.EW', 'NYSE.ROP and NYSE.EW', 'NYSE.TMO and NYSE.EW', 'NYSE.WAT and NYSE.EW', 'NYSE.WYN and NYSE.EW', 'NYSE.ZTS and NYSE.EW', 'NYSE.ICE and NYSE.FDX', 'NYSE.PG and NYSE.FE', 'NYSE.HIG and NYSE.FIS', 'NYSE.HON and NYSE.FIS', 'NYSE.LMT and NYSE.FIS', 'NYSE.MA and NYSE.FIS', 'NYSE.MCO and NYSE.FIS', 'NYSE.NEE and NYSE.FIS', 'NYSE.NOC and NYSE.FIS', 'NYSE.PGR and NYSE.FIS', 'NYSE.PLD and NYSE.FIS', 'NYSE.RHT and NYSE.FIS', 'NYSE.RTN and NYSE.FIS', 'NYSE.SPGI and NYSE.FIS', 'NYSE.STT and NYSE.FIS', 'NYSE.STZ and NYSE.FIS', 'NYSE.TSO and NYSE.FIS', 'NYSE.TSS and NYSE.FIS', 'NYSE.UNH and NYSE.FIS', 'NYSE.V and NYSE.FIS', 'NYSE.XYL and NYSE.FIS', 'NYSE.FTI and NYSE.FL', 'NYSE.LOW and NYSE.FL', 'NYSE.MRO and NYSE.FL', 'NYSE.NFX and NYSE.FL', 'NYSE.SNA and NYSE.FL', 'NYSE.GE and NYSE.FLR', 'NYSE.HP and NYSE.FLR', 'NYSE.MOS and NYSE.FLR', 'NYSE.NBL and NYSE.FLR', 'NYSE.PXD and NYSE.FLR', 'NYSE.RRC and NYSE.FLR', 'NYSE.LMT and NYSE.FMC', 'NYSE.KIM and NYSE.FRT', 'NYSE.HAL and NYSE.FTI', 'NYSE.HES and NYSE.FTI', 'NYSE.HP and NYSE.FTI', 'NYSE.MRO and NYSE.FTI', 'NYSE.NBL and NYSE.FTI', 'NYSE.NFX and NYSE.FTI', 'NYSE.RIG and NYSE.FTI', 'NYSE.RRC and NYSE.FTI', 'NYSE.SLB and NYSE.FTI', 'NYSE.XEC and NYSE.FTI', 'NYSE.PX and NYSE.GD', 'NYSE.WAT and NYSE.GD', 'NYSE.ZTS and NYSE.GD', 'NYSE.HOG and NYSE.GE', 'NYSE.NBL and NYSE.GE', 'NYSE.RRC and NYSE.GE', 'NYSE.VNO and NYSE.GE', 'NYSE.K and NYSE.GIS', 'NYSE.HON and NYSE.GPN', 'NYSE.KMX and NYSE.GPN', 'NYSE.KO and NYSE.GPN', 'NYSE.MCD and NYSE.GPN', 'NYSE.NEE and NYSE.GPN', 'NYSE.RCL and NYSE.GPN', 'NYSE.SPGI and NYSE.GPN', 'NYSE.YUM and NYSE.GPN', 'NYSE.IBM and NYSE.GWW', 'NYSE.NOV and NYSE.GWW', 'NYSE.HES and NYSE.HAL', 'NYSE.HP and NYSE.HAL', 'NYSE.MRO and NYSE.HAL', 'NYSE.NBL and NYSE.HAL', 'NYSE.NFX and NYSE.HAL', 'NYSE.NOV and NYSE.HAL', 'NYSE.PXD and NYSE.HAL', 'NYSE.RRC and NYSE.HAL', 'NYSE.SLB and NYSE.HAL', 'NYSE.NFX and NYSE.HES', 'NYSE.KSU and NYSE.HIG', 'NYSE.LMT and NYSE.HIG', 'NYSE.MA and NYSE.HIG', 'NYSE.MCO and NYSE.HIG', 'NYSE.MHK and NYSE.HIG', 'NYSE.NOC and NYSE.HIG', 'NYSE.PGR and NYSE.HIG', 'NYSE.PLD and NYSE.HIG', 'NYSE.PNC and NYSE.HIG', 'NYSE.PVH and NYSE.HIG', 'NYSE.RTN and NYSE.HIG', 'NYSE.SPGI and NYSE.HIG', 'NYSE.STT and NYSE.HIG', 'NYSE.TSO and NYSE.HIG', 'NYSE.UNH and NYSE.HIG', 'NYSE.V and NYSE.HIG', 'NYSE.XRX and NYSE.HIG', 'NYSE.XYL and NYSE.HIG', 'NYSE.IBM and NYSE.HOG', 'NYSE.RRC and NYSE.HOG', 'NYSE.VNO and NYSE.HOG', 'NYSE.MA and NYSE.HON', 'NYSE.MCD and NYSE.HON', 'NYSE.NEE and NYSE.HON', 'NYSE.NOC and NYSE.HON', 'NYSE.RCL and NYSE.HON', 'NYSE.ROP and NYSE.HON', 'NYSE.SPGI and NYSE.HON', 'NYSE.TDG and NYSE.HON', 'NYSE.TMO and NYSE.HON', 'NYSE.TSS and NYSE.HON', 'NYSE.UNH and NYSE.HON', 'NYSE.YUM and NYSE.HON', 'NYSE.MOS and NYSE.HP', 'NYSE.NBL and NYSE.HP', 'NYSE.NOV and NYSE.HP', 'NYSE.PXD and NYSE.HP', 'NYSE.RRC and NYSE.HP', 'NYSE.SLB and NYSE.HP', 'NYSE.KSU and NYSE.HRB', 'NYSE.ROP and NYSE.HRB', 'NYSE.XRX and NYSE.HRB', 'NYSE.LLL and NYSE.HRS', 'NYSE.LMT and NYSE.HRS', 'NYSE.MA and NYSE.HUM', 'NYSE.MCD and NYSE.HUM', 'NYSE.NEE and NYSE.HUM', 'NYSE.NOC and NYSE.HUM', 'NYSE.RCL and NYSE.HUM', 'NYSE.RTN and NYSE.HUM', 'NYSE.TSS and NYSE.HUM', 'NYSE.UNH and NYSE.HUM', 'NYSE.YUM and NYSE.HUM', 'NYSE.KSU and NYSE.ICE', 'NYSE.STT and NYSE.ICE', 'NYSE.TSO and NYSE.ICE', 'NYSE.XRX and NYSE.ICE', 'NYSE.IVZ and NYSE.IP', 'NYSE.SHW and NYSE.IP', 'NYSE.WRK and NYSE.IP', 'NYSE.UTX and NYSE.IR', 'NYSE.IVZ and NYSE.IT', 'NYSE.MMC and NYSE.IT', 'NYSE.PKI and NYSE.IT', 'NYSE.TEL and NYSE.IT', 'NYSE.WRK and NYSE.IT', 'NYSE.SHW and NYSE.ITW', 'NYSE.SWK and NYSE.IVZ', 'NYSE.WRK and NYSE.IVZ', 'NYSE.KSU and NYSE.JNJ', 'NYSE.MMC and NYSE.JNJ', 'NYSE.PNC and NYSE.JPM', 'NYSE.PSX and NYSE.JPM', 'NYSE.O and NYSE.KIM', 'NYSE.NEE and NYSE.KO', 'NYSE.NI and NYSE.KO', 'NYSE.PEP and NYSE.KO', 'NYSE.XEL and NYSE.KO', 'NYSE.YUM and NYSE.KO', 'NYSE.MHK and NYSE.KSU', 'NYSE.NOC and NYSE.KSU', 'NYSE.PGR and NYSE.KSU', 'NYSE.SPGI and NYSE.KSU', 'NYSE.STT and NYSE.KSU', 'NYSE.TSO and NYSE.KSU', 'NYSE.UNH and NYSE.KSU', 'NYSE.XRX and NYSE.KSU', 'NYSE.YUM and NYSE.KSU', 'NYSE.ORCL and NYSE.LH', 'NYSE.PVH and NYSE.LH', 'NYSE.MA and NYSE.LMT', 'NYSE.MCO and NYSE.LMT', 'NYSE.NEE and NYSE.LMT', 'NYSE.NOC and NYSE.LMT', 'NYSE.PGR and NYSE.LMT', 'NYSE.PLD and NYSE.LMT', 'NYSE.PVH and NYSE.LMT', 'NYSE.RTN and NYSE.LMT', 'NYSE.TSS and NYSE.LMT', 'NYSE.UNH and NYSE.LMT', 'NYSE.V and NYSE.LMT', 'NYSE.XYL and NYSE.LMT', 'NYSE.PNC and NYSE.LNC', 'NYSE.TMK and NYSE.LNC', 'NYSE.UNM and NYSE.LNC', 'NYSE.PNW and NYSE.LNT', 'NYSE.SRE and NYSE.LNT', 'NYSE.WEC and NYSE.LNT', 'NYSE.XEL and NYSE.LNT', 'NYSE.SNA and NYSE.LOW', 'NYSE.MCD and NYSE.MA', 'NYSE.MCO and NYSE.MA', 'NYSE.NEE and NYSE.MA', 'NYSE.NI and NYSE.MA', 'NYSE.NOC and NYSE.MA', 'NYSE.PGR and NYSE.MA', 'NYSE.PLD and NYSE.MA', 'NYSE.RCL and NYSE.MA', 'NYSE.RHT and NYSE.MA', 'NYSE.RTN and NYSE.MA', 'NYSE.SPGI and NYSE.MA', 'NYSE.STZ and NYSE.MA', 'NYSE.TSO and NYSE.MA', 'NYSE.TSS and NYSE.MA', 'NYSE.UNH and NYSE.MA', 'NYSE.V and NYSE.MA', 'NYSE.XYL and NYSE.MA', 'NYSE.YUM and NYSE.MA', 'NYSE.SHW and NYSE.MAS', 'NYSE.WYN and NYSE.MAS', 'NYSE.NEE and NYSE.MCD', 'NYSE.NI and NYSE.MCD', 'NYSE.NOC and NYSE.MCD', 'NYSE.RCL and NYSE.MCD', 'NYSE.ROP and NYSE.MCD', 'NYSE.SPGI and NYSE.MCD', 'NYSE.STZ and NYSE.MCD', 'NYSE.TDG and NYSE.MCD', 'NYSE.TMO and NYSE.MCD', 'NYSE.UNH and NYSE.MCD', 'NYSE.YUM and NYSE.MCD', 'NYSE.ZTS and NYSE.MCD', 'NYSE.PGR and NYSE.MCO', 'NYSE.PLD and NYSE.MCO', 'NYSE.PVH and NYSE.MCO', 'NYSE.RHT and NYSE.MCO', 'NYSE.RTN and NYSE.MCO', 'NYSE.STT and NYSE.MCO', 'NYSE.UNH and NYSE.MCO', 'NYSE.V and NYSE.MCO', 'NYSE.XYL and NYSE.MCO', 'NYSE.NOC and NYSE.MHK', 'NYSE.PGR and NYSE.MHK', 'NYSE.STT and NYSE.MHK', 'NYSE.TSO and NYSE.MHK', 'NYSE.UNH and NYSE.MHK', 'NYSE.VMC and NYSE.MLM', 'NYSE.SPGI and NYSE.MMC', 'NYSE.WAT and NYSE.MMM', 'NYSE.NBL and NYSE.MOS', 'NYSE.NOV and NYSE.MOS', 'NYSE.NBL and NYSE.MRO', 'NYSE.NFX and NYSE.MRO', 'NYSE.RIG and NYSE.MRO', 'NYSE.SLB and NYSE.MRO', 'NYSE.XEC and NYSE.MRO', 'NYSE.PNC and NYSE.MS', 'NYSE.RJF and NYSE.MS', 'NYSE.STT and NYSE.MS', 'NYSE.NFX and NYSE.NBL', 'NYSE.NOV and NYSE.NBL', 'NYSE.PXD and NYSE.NBL', 'NYSE.RRC and NYSE.NBL', 'NYSE.SLB and NYSE.NBL', 'NYSE.NI and NYSE.NEE', 'NYSE.NOC and NYSE.NEE', 'NYSE.PGR and NYSE.NEE', 'NYSE.PLD and NYSE.NEE', 'NYSE.RCL and NYSE.NEE', 'NYSE.RTN and NYSE.NEE', 'NYSE.SPGI and NYSE.NEE', 'NYSE.TSS and NYSE.NEE', 'NYSE.UNH and NYSE.NEE', 'NYSE.V and NYSE.NEE', 'NYSE.XEL and NYSE.NEE', 'NYSE.XYL and NYSE.NEE', 'NYSE.YUM and NYSE.NEE', 'NYSE.RIG and NYSE.NFX', 'NYSE.RRC and NYSE.NFX', 'NYSE.SLB and NYSE.NFX', 'NYSE.XEC and NYSE.NFX', 'NYSE.NOC and NYSE.NI', 'NYSE.PGR and NYSE.NI', 'NYSE.RCL and NYSE.NI', 'NYSE.SPGI and NYSE.NI', 'NYSE.UNH and NYSE.NI', 'NYSE.V and NYSE.NI', 'NYSE.WEC and NYSE.NI', 'NYSE.XEL and NYSE.NI', 'NYSE.YUM and NYSE.NI', 'NYSE.PGR and NYSE.NOC', 'NYSE.PLD and NYSE.NOC', 'NYSE.RCL and NYSE.NOC', 'NYSE.RTN and NYSE.NOC', 'NYSE.SPGI and NYSE.NOC', 'NYSE.STT and NYSE.NOC', 'NYSE.STZ and NYSE.NOC', 'NYSE.TDG and NYSE.NOC', 'NYSE.TSO and NYSE.NOC', 'NYSE.TSS and NYSE.NOC', 'NYSE.UNH and NYSE.NOC', 'NYSE.V and NYSE.NOC', 'NYSE.XYL and NYSE.NOC', 'NYSE.YUM and NYSE.NOC', 'NYSE.SLB and NYSE.NOV', 'NYSE.PNW and NYSE.PCG', 'NYSE.PLD and NYSE.PGR', 'NYSE.PVH and NYSE.PGR', 'NYSE.RHT and NYSE.PGR', 'NYSE.RTN and NYSE.PGR', 'NYSE.SPGI and NYSE.PGR', 'NYSE.STT and NYSE.PGR', 'NYSE.STZ and NYSE.PGR', 'NYSE.TSO and NYSE.PGR', 'NYSE.UNH and NYSE.PGR', 'NYSE.V and NYSE.PGR', 'NYSE.XRX and NYSE.PGR', 'NYSE.XYL and NYSE.PGR', 'NYSE.YUM and NYSE.PGR', 'NYSE.ROP and NYSE.PKI', 'NYSE.SWK and NYSE.PKI', 'NYSE.VAR and NYSE.PKI', 'NYSE.PVH and NYSE.PLD', 'NYSE.RHT and NYSE.PLD', 'NYSE.RTN and NYSE.PLD', 'NYSE.SPGI and NYSE.PLD', 'NYSE.STT and NYSE.PLD', 'NYSE.TSO and NYSE.PLD', 'NYSE.UNH and NYSE.PLD', 'NYSE.V and NYSE.PLD', 'NYSE.XYL and NYSE.PLD', 'NYSE.PSX and NYSE.PNC', 'NYSE.STT and NYSE.PNC', 'NYSE.UNM and NYSE.PNC', 'NYSE.UAL and NYSE.PNR', 'NYSE.SRE and NYSE.PNW', 'NYSE.WEC and NYSE.PNW', 'NYSE.XEL and NYSE.PNW', 'NYSE.STT and NYSE.PSX', 'NYSE.RHT and NYSE.PVH', 'NYSE.RTN and NYSE.PVH', 'NYSE.TSO and NYSE.PVH', 'NYSE.UNH and NYSE.PVH', 'NYSE.V and NYSE.PVH', 'NYSE.VFC and NYSE.PVH', 'NYSE.XYL and NYSE.PVH', 'NYSE.ROP and NYSE.PX', 'NYSE.TMO and NYSE.PX', 'NYSE.WAT and NYSE.PX', 'NYSE.ZTS and NYSE.PX', 'NYSE.RRC and NYSE.PXD', 'NYSE.RTN and NYSE.RCL', 'NYSE.TSS and NYSE.RCL', 'NYSE.UNH and NYSE.RCL', 'NYSE.V and NYSE.RCL', 'NYSE.YUM and NYSE.RCL', 'NYSE.TSO and NYSE.RHT', 'NYSE.UNH and NYSE.RHT', 'NYSE.V and NYSE.RHT', 'NYSE.XYL and NYSE.RHT', 'NYSE.SLB and NYSE.RIG', 'NYSE.XEC and NYSE.RIG', 'NYSE.TEL and NYSE.ROK', 'NYSE.SPGI and NYSE.ROP', 'NYSE.TDG and NYSE.ROP', 'NYSE.TEL and NYSE.ROP', 'NYSE.TMO and NYSE.ROP', 'NYSE.WYN and NYSE.ROP', 'NYSE.YUM and NYSE.ROP', 'NYSE.ZTS and NYSE.ROP', 'NYSE.SLB and NYSE.RRC', 'NYSE.TSS and NYSE.RTN', 'NYSE.UNH and NYSE.RTN', 'NYSE.V and NYSE.RTN', 'NYSE.XYL and NYSE.RTN', 'NYSE.STT and NYSE.SPGI', 'NYSE.STZ and NYSE.SPGI', 'NYSE.TDG and NYSE.SPGI', 'NYSE.TSO and NYSE.SPGI', 'NYSE.UNH and NYSE.SPGI', 'NYSE.YUM and NYSE.SPGI', 'NYSE.XEL and NYSE.SRE', 'NYSE.TSO and NYSE.STT', 'NYSE.UNH and NYSE.STT', 'NYSE.XRX and NYSE.STT', 'NYSE.XYL and NYSE.STT', 'NYSE.TSO and NYSE.STZ', 'NYSE.UNH and NYSE.STZ', 'NYSE.WRK and NYSE.SWK', 'NYSE.TDG and NYSE.SYK', 'NYSE.TEL and NYSE.SYK', 'NYSE.TEL and NYSE.TDG', 'NYSE.YUM and NYSE.TDG', 'NYSE.WRK and NYSE.TEL', 'NYSE.XEC and NYSE.TJX', 'NYSE.UNM and NYSE.TMK', 'NYSE.WAT and NYSE.TMO', 'NYSE.ZTS and NYSE.TMO', 'NYSE.UNH and NYSE.TSO', 'NYSE.XRX and NYSE.TSO', 'NYSE.XYL and NYSE.TSO', 'NYSE.UNH and NYSE.TSS', 'NYSE.V and NYSE.TSS', 'NYSE.XYL and NYSE.TSS', 'NYSE.UAA and NYSE.UA', 'NYSE.V and NYSE.UNH', 'NYSE.XYL and NYSE.UNH', 'NYSE.YUM and NYSE.UNH', 'NYSE.WM and NYSE.UPS', 'NYSE.XYL and NYSE.V', 'NYSE.ZTS and NYSE.WAT', 'NYSE.XEL and NYSE.WEC', 'NYSE.ZTS and NYSE.WYN']\n"
     ]
    }
   ],
   "source": [
    "pos_cor = []\n",
    "list = []\n",
    "for col in cor_df.columns:\n",
    "    for indx in cor_df.index:\n",
    "        if indx not in list:\n",
    "            if cor_df[indx][col] > 0.9 and cor_df[indx][col] != 1:\n",
    "                a = str(indx) + ' and ' + str(col)\n",
    "                pos_cor.append(a)\n",
    "    list.append(col)       \n",
    "print('List of Stock which are apparently similar in performance positively : ') \n",
    "\n",
    "print(pos_cor)"
   ]
  },
  {
   "cell_type": "code",
   "execution_count": 10,
   "metadata": {},
   "outputs": [
    {
     "data": {
      "text/plain": [
       "1865"
      ]
     },
     "execution_count": 10,
     "metadata": {},
     "output_type": "execute_result"
    }
   ],
   "source": [
    "len(pos_cor)"
   ]
  },
  {
   "cell_type": "code",
   "execution_count": 11,
   "metadata": {},
   "outputs": [
    {
     "data": {
      "text/plain": [
       "0.00746"
      ]
     },
     "execution_count": 11,
     "metadata": {},
     "output_type": "execute_result"
    }
   ],
   "source": [
    "1865/(500**2)"
   ]
  },
  {
   "cell_type": "code",
   "execution_count": 12,
   "metadata": {},
   "outputs": [
    {
     "name": "stdout",
     "output_type": "stream",
     "text": [
      "List of Stock which are apparently similar in performance negatively : \n",
      "['NASDAQ.BBBY and NASDAQ.ADBE', 'NYSE.APC and NASDAQ.ADBE', 'NYSE.AZO and NASDAQ.ADBE', 'NYSE.FL and NASDAQ.ADBE', 'NYSE.GE and NASDAQ.ADBE', 'NYSE.HOG and NASDAQ.ADBE', 'NYSE.NBL and NASDAQ.ADBE', 'NYSE.NFX and NASDAQ.ADBE', 'NYSE.RRC and NASDAQ.ADBE', 'NYSE.SLB and NASDAQ.ADBE', 'NYSE.APC and NASDAQ.ATVI', 'NYSE.GWW and NASDAQ.ATVI', 'NYSE.HP and NASDAQ.ATVI', 'NYSE.MRO and NASDAQ.ATVI', 'NYSE.NBL and NASDAQ.ATVI', 'NYSE.RRC and NASDAQ.ATVI', 'NYSE.SLB and NASDAQ.ATVI', 'NASDAQ.CBOE and NASDAQ.BBBY', 'NASDAQ.CTSH and NASDAQ.BBBY', 'NASDAQ.NVDA and NASDAQ.BBBY', 'NASDAQ.PYPL and NASDAQ.BBBY', 'NASDAQ.VRSN and NASDAQ.BBBY', 'NYSE.AET and NASDAQ.BBBY', 'NYSE.AON and NASDAQ.BBBY', 'NYSE.AVY and NASDAQ.BBBY', 'NYSE.BAX and NASDAQ.BBBY', 'NYSE.BDX and NASDAQ.BBBY', 'NYSE.C and NASDAQ.BBBY', 'NYSE.CCL and NASDAQ.BBBY', 'NYSE.CI and NASDAQ.BBBY', 'NYSE.CNC and NASDAQ.BBBY', 'NYSE.COO and NASDAQ.BBBY', 'NYSE.HIG and NASDAQ.BBBY', 'NYSE.HRB and NASDAQ.BBBY', 'NYSE.KSU and NASDAQ.BBBY', 'NYSE.NOC and NASDAQ.BBBY', 'NYSE.ORCL and NASDAQ.BBBY', 'NYSE.PGR and NASDAQ.BBBY', 'NYSE.RHT and NASDAQ.BBBY', 'NYSE.SPGI and NASDAQ.BBBY', 'NYSE.STT and NASDAQ.BBBY', 'NYSE.STZ and NASDAQ.BBBY', 'NYSE.TSO and NASDAQ.BBBY', 'NYSE.UNH and NASDAQ.BBBY', 'NASDAQ.MAT and NASDAQ.CBOE', 'NASDAQ.SRCL and NASDAQ.CBOE', 'NASDAQ.STX and NASDAQ.CBOE', 'NYSE.AAP and NASDAQ.CBOE', 'NYSE.APC and NASDAQ.CBOE', 'NYSE.AZO and NASDAQ.CBOE', 'NYSE.BHI and NASDAQ.CBOE', 'NYSE.CHK and NASDAQ.CBOE', 'NYSE.CMG and NASDAQ.CBOE', 'NYSE.FL and NASDAQ.CBOE', 'NYSE.FLR and NASDAQ.CBOE', 'NYSE.FTI and NASDAQ.CBOE', 'NYSE.GE and NASDAQ.CBOE', 'NYSE.HAL and NASDAQ.CBOE', 'NYSE.NBL and NASDAQ.CBOE', 'NYSE.NFX and NASDAQ.CBOE', 'NYSE.PXD and NASDAQ.CBOE', 'NYSE.RRC and NASDAQ.CBOE', 'NASDAQ.VIAB and NASDAQ.CTSH', 'NYSE.APC and NASDAQ.CTSH', 'NYSE.RRC and NASDAQ.CTSH', 'NYSE.SLB and NASDAQ.CTSH', 'NYSE.EL and NASDAQ.DISCA', 'NYSE.HUM and NASDAQ.DISCA', 'NYSE.APH and NASDAQ.DISCK', 'NYSE.EL and NASDAQ.DISCK', 'NYSE.HUM and NASDAQ.DISCK', 'NYSE.NEE and NASDAQ.DISCK', 'NYSE.RTN and NASDAQ.DISCK', 'NYSE.TSS and NASDAQ.DISCK', 'NASDAQ.VIAB and NASDAQ.EA', 'NYSE.HP and NASDAQ.EA', 'NYSE.M and NASDAQ.EA', 'NYSE.HP and NASDAQ.EQIX', 'NYSE.AAP and NASDAQ.ETFC', 'NYSE.BHI and NASDAQ.ETFC', 'NYSE.CMG and NASDAQ.ETFC', 'NYSE.RIG and NASDAQ.EXPE', 'NASDAQ.STX and NASDAQ.FB', 'NYSE.GE and NASDAQ.FB', 'NYSE.HOG and NASDAQ.FB', 'NYSE.RRC and NASDAQ.FB', 'NYSE.VNO and NASDAQ.FB', 'NYSE.RTN and NASDAQ.FFIV', 'NYSE.TSS and NASDAQ.FFIV', 'NYSE.APC and NASDAQ.ISRG', 'NYSE.COP and NASDAQ.ISRG', 'NYSE.DVN and NASDAQ.ISRG', 'NYSE.FL and NASDAQ.ISRG', 'NYSE.FTI and NASDAQ.ISRG', 'NYSE.GWW and NASDAQ.ISRG', 'NYSE.HP and NASDAQ.ISRG', 'NYSE.MRO and NASDAQ.ISRG', 'NYSE.NBL and NASDAQ.ISRG', 'NYSE.NFX and NASDAQ.ISRG', 'NYSE.RIG and NASDAQ.ISRG', 'NYSE.RRC and NASDAQ.ISRG', 'NYSE.SLB and NASDAQ.ISRG', 'NASDAQ.STX and NASDAQ.LKQ', 'NYSE.APC and NASDAQ.LKQ', 'NYSE.HP and NASDAQ.LKQ', 'NYSE.IBM and NASDAQ.LKQ', 'NYSE.RRC and NASDAQ.LKQ', 'NYSE.SLB and NASDAQ.LKQ', 'NYSE.GWW and NASDAQ.LRCX', 'NYSE.AMT and NASDAQ.MAT', 'NYSE.APH and NASDAQ.MAT', 'NYSE.CI and NASDAQ.MAT', 'NYSE.COL and NASDAQ.MAT', 'NYSE.EL and NASDAQ.MAT', 'NYSE.HUM and NASDAQ.MAT', 'NYSE.NEE and NASDAQ.MAT', 'NYSE.RTN and NASDAQ.MAT', 'NYSE.TSS and NASDAQ.MAT', 'NYSE.V and NASDAQ.MAT', 'NYSE.XYL and NASDAQ.MAT', 'NYSE.FL and NASDAQ.MNST', 'NYSE.FLR and NASDAQ.MNST', 'NYSE.GE and NASDAQ.MNST', 'NYSE.HP and NASDAQ.MNST', 'NYSE.NBL and NASDAQ.MNST', 'NYSE.NFX and NASDAQ.MNST', 'NYSE.RRC and NASDAQ.MNST', 'NYSE.CMG and NASDAQ.NDAQ', 'NYSE.APC and NASDAQ.NVDA', 'NYSE.AZO and NASDAQ.NVDA', 'NYSE.DVN and NASDAQ.NVDA', 'NYSE.FL and NASDAQ.NVDA', 'NYSE.M and NASDAQ.NVDA', 'NYSE.MRO and NASDAQ.NVDA', 'NYSE.NFX and NASDAQ.NVDA', 'NYSE.RIG and NASDAQ.NVDA', 'NYSE.AVY and NASDAQ.ORLY', 'NYSE.BDX and NASDAQ.ORLY', 'NYSE.BK and NASDAQ.ORLY', 'NYSE.C and NASDAQ.ORLY', 'NYSE.TSO and NASDAQ.ORLY', 'NASDAQ.STX and NASDAQ.PYPL', 'NYSE.APC and NASDAQ.PYPL', 'NYSE.AZO and NASDAQ.PYPL', 'NYSE.GE and NASDAQ.PYPL', 'NYSE.HOG and NASDAQ.PYPL', 'NYSE.HP and NASDAQ.PYPL', 'NYSE.IBM and NASDAQ.PYPL', 'NYSE.MRO and NASDAQ.PYPL', 'NYSE.NBL and NASDAQ.PYPL', 'NYSE.NFX and NASDAQ.PYPL', 'NYSE.RRC and NASDAQ.PYPL', 'NYSE.SLB and NASDAQ.PYPL', 'NYSE.RIG and NASDAQ.REGN', 'NYSE.BDX and NASDAQ.ROST', 'NYSE.BK and NASDAQ.ROST', 'NYSE.XRX and NASDAQ.ROST', 'NYSE.UAL and NASDAQ.SNI', 'NYSE.TSO and NASDAQ.SRCL', 'NASDAQ.TROW and NASDAQ.STX', 'NASDAQ.VRSN and NASDAQ.STX', 'NYSE.ALL and NASDAQ.STX', 'NYSE.AMT and NASDAQ.STX', 'NYSE.BA and NASDAQ.STX', 'NYSE.CAT and NASDAQ.STX', 'NYSE.FIS and NASDAQ.STX', 'NYSE.HIG and NASDAQ.STX', 'NYSE.LMT and NASDAQ.STX', 'NYSE.MA and NASDAQ.STX', 'NYSE.MCO and NASDAQ.STX', 'NYSE.PGR and NASDAQ.STX', 'NYSE.PLD and NASDAQ.STX', 'NYSE.PVH and NASDAQ.STX', 'NYSE.RTN and NASDAQ.STX', 'NYSE.STT and NASDAQ.STX', 'NYSE.TSS and NASDAQ.STX', 'NYSE.UNH and NASDAQ.STX', 'NYSE.V and NASDAQ.STX', 'NYSE.XYL and NASDAQ.STX', 'NYSE.BHI and NASDAQ.TROW', 'NYSE.CMG and NASDAQ.TROW', 'NYSE.EW and NASDAQ.TSCO', 'NYSE.ROP and NASDAQ.TSCO', 'NYSE.ZTS and NASDAQ.TSCO', 'NASDAQ.WLTW and NASDAQ.VIAB', 'NYSE.AME and NASDAQ.VIAB', 'NYSE.DLPH and NASDAQ.VIAB', 'NYSE.EL and NASDAQ.VIAB', 'NYSE.GPN and NASDAQ.VIAB', 'NYSE.HUM and NASDAQ.VIAB', 'NYSE.MCD and NASDAQ.VIAB', 'NYSE.AAP and NASDAQ.VRSN', 'NYSE.BHI and NASDAQ.VRSN', 'NYSE.CMG and NASDAQ.VRSN', 'NYSE.GE and NASDAQ.VRSN', 'NYSE.VNO and NASDAQ.VRSN', 'NYSE.CMG and NASDAQ.VRTX', 'NYSE.VNO and NASDAQ.VRTX', 'NYSE.KR and NASDAQ.WFM', 'NYSE.APC and NASDAQ.WLTW', 'NYSE.DVN and NASDAQ.WYNN', 'NYSE.APC and NYSE.A', 'NYSE.COP and NYSE.A', 'NYSE.DVN and NYSE.A', 'NYSE.FTI and NYSE.A', 'NYSE.MRO and NYSE.A', 'NYSE.SLB and NYSE.A', 'NYSE.AVY and NYSE.AAP', 'NYSE.AXP and NYSE.AAP', 'NYSE.BDX and NYSE.AAP', 'NYSE.BK and NYSE.AAP', 'NYSE.C and NYSE.AAP', 'NYSE.CNC and NYSE.AAP', 'NYSE.HIG and NYSE.AAP', 'NYSE.KSU and NYSE.AAP', 'NYSE.PGR and NYSE.AAP', 'NYSE.PVH and NYSE.AAP', 'NYSE.RHT and NYSE.AAP', 'NYSE.STZ and NYSE.AAP', 'NYSE.TSO and NYSE.AAP', 'NYSE.UNH and NYSE.AAP', 'NYSE.UPS and NYSE.AAP', 'NYSE.XRX and NYSE.AAP', 'NYSE.KR and NYSE.ABBV', 'NYSE.NFX and NYSE.ABBV', 'NYSE.XEC and NYSE.ABBV', 'NYSE.AZO and NYSE.ABT', 'NYSE.FL and NYSE.ABT', 'NYSE.MRO and NYSE.ABT', 'NYSE.NFX and NYSE.ABT', 'NYSE.XEC and NYSE.ABT', 'NYSE.RRC and NYSE.ACN', 'NYSE.APC and NYSE.AET', 'NYSE.AZO and NYSE.AET', 'NYSE.COP and NYSE.AET', 'NYSE.DVN and NYSE.AET', 'NYSE.FTI and NYSE.AET', 'NYSE.MRO and NYSE.AET', 'NYSE.NFX and NYSE.AET', 'NYSE.RIG and NYSE.AET', 'NYSE.RRC and NYSE.AET', 'NYSE.SLB and NYSE.AET', 'NYSE.HAL and NYSE.AFL', 'NYSE.NFX and NYSE.AFL', 'NYSE.PXD and NYSE.AFL', 'NYSE.RRC and NYSE.AFL', 'NYSE.APC and NYSE.ALL', 'NYSE.FLR and NYSE.ALL', 'NYSE.HP and NYSE.ALL', 'NYSE.NBL and NYSE.ALL', 'NYSE.NFX and NYSE.ALL', 'NYSE.RRC and NYSE.ALL', 'NYSE.APC and NYSE.AME', 'NYSE.CHK and NYSE.AMT', 'NYSE.FLR and NYSE.AMT', 'NYSE.GE and NYSE.AMT', 'NYSE.HAL and NYSE.AMT', 'NYSE.HOG and NYSE.AMT', 'NYSE.HP and NYSE.AMT', 'NYSE.NBL and NYSE.AMT', 'NYSE.PXD and NYSE.AMT', 'NYSE.RRC and NYSE.AMT', 'NYSE.VNO and NYSE.AMT', 'NYSE.APC and NYSE.ANTM', 'NYSE.DVN and NYSE.ANTM', 'NYSE.FTI and NYSE.ANTM', 'NYSE.MRO and NYSE.ANTM', 'NYSE.NFX and NYSE.ANTM', 'NYSE.RIG and NYSE.ANTM', 'NYSE.SLB and NYSE.ANTM', 'NYSE.APC and NYSE.AON', 'NYSE.AZO and NYSE.AON', 'NYSE.DVN and NYSE.AON', 'NYSE.FL and NYSE.AON', 'NYSE.MRO and NYSE.AON', 'NYSE.NFX and NYSE.AON', 'NYSE.RIG and NYSE.AON', 'NYSE.RRC and NYSE.AON', 'NYSE.XEC and NYSE.AON', 'NYSE.BAX and NYSE.APC', 'NYSE.CCL and NYSE.APC', 'NYSE.CI and NYSE.APC', 'NYSE.CNC and NYSE.APC', 'NYSE.COO and NYSE.APC', 'NYSE.DLPH and NYSE.APC', 'NYSE.EL and NYSE.APC', 'NYSE.ESS and NYSE.APC', 'NYSE.HON and NYSE.APC', 'NYSE.HRB and NYSE.APC', 'NYSE.HUM and NYSE.APC', 'NYSE.KSU and NYSE.APC', 'NYSE.MCD and NYSE.APC', 'NYSE.NEE and NYSE.APC', 'NYSE.NOC and NYSE.APC', 'NYSE.PGR and NYSE.APC', 'NYSE.RCL and NYSE.APC', 'NYSE.ROP and NYSE.APC', 'NYSE.SPGI and NYSE.APC', 'NYSE.STT and NYSE.APC', 'NYSE.STZ and NYSE.APC', 'NYSE.TMO and NYSE.APC', 'NYSE.TSO and NYSE.APC', 'NYSE.UNH and NYSE.APC', 'NYSE.YUM and NYSE.APC', 'NYSE.CHK and NYSE.APH', 'NYSE.FLR and NYSE.APH', 'NYSE.HP and NYSE.APH', 'NYSE.NBL and NYSE.APH', 'NYSE.PXD and NYSE.APH', 'NYSE.RRC and NYSE.APH', 'NYSE.AZO and NYSE.AVY', 'NYSE.BHI and NYSE.AVY', 'NYSE.CAG and NYSE.AVY', 'NYSE.GE and NYSE.AVY', 'NYSE.NFX and NYSE.AVY', 'NYSE.BAX and NYSE.AZO', 'NYSE.BDX and NYSE.AZO', 'NYSE.BK and NYSE.AZO', 'NYSE.BLK and NYSE.AZO', 'NYSE.C and NYSE.AZO', 'NYSE.CI and NYSE.AZO', 'NYSE.COO and NYSE.AZO', 'NYSE.KSU and NYSE.AZO', 'NYSE.NOC and NYSE.AZO', 'NYSE.PGR and NYSE.AZO', 'NYSE.SPGI and NYSE.AZO', 'NYSE.STZ and NYSE.AZO', 'NYSE.TSO and NYSE.AZO', 'NYSE.UNH and NYSE.AZO', 'NYSE.CMG and NYSE.BA', 'NYSE.FLS and NYSE.BA', 'NYSE.GE and NYSE.BA', 'NYSE.VNO and NYSE.BA', 'NYSE.COP and NYSE.BAX', 'NYSE.DVN and NYSE.BAX', 'NYSE.MRO and NYSE.BAX', 'NYSE.NFX and NYSE.BAX', 'NYSE.RIG and NYSE.BAX', 'NYSE.SLB and NYSE.BAX', 'NYSE.GWW and NYSE.BCR', 'NYSE.NFX and NYSE.BDX', 'NYSE.TJX and NYSE.BDX', 'NYSE.BK and NYSE.BHI', 'NYSE.C and NYSE.BHI', 'NYSE.DHI and NYSE.BHI', 'NYSE.FIS and NYSE.BHI', 'NYSE.HIG and NYSE.BHI', 'NYSE.MCO and NYSE.BHI', 'NYSE.PVH and NYSE.BHI', 'NYSE.STZ and NYSE.BHI', 'NYSE.TSO and NYSE.BHI', 'NYSE.CMG and NYSE.BK', 'NYSE.DVN and NYSE.BLK', 'NYSE.NFX and NYSE.BLK', 'NYSE.RIG and NYSE.BLK', 'NYSE.TJX and NYSE.BLK', 'NYSE.XEC and NYSE.BLK', 'NYSE.CMG and NYSE.BRK.B', 'NYSE.FLS and NYSE.BRK.B', 'NYSE.TMO and NYSE.BXP', 'NYSE.NFX and NYSE.C', 'NYSE.CNC and NYSE.CAG', 'NYSE.STZ and NYSE.CAG', 'NYSE.GE and NYSE.CAT', 'NYSE.RRC and NYSE.CAT', 'NYSE.XEC and NYSE.CB', 'NYSE.CHK and NYSE.CCL', 'NYSE.DVN and NYSE.CCL', 'NYSE.FTI and NYSE.CCL', 'NYSE.HAL and NYSE.CCL', 'NYSE.HP and NYSE.CCL', 'NYSE.MRO and NYSE.CCL', 'NYSE.NBL and NYSE.CCL', 'NYSE.NFX and NYSE.CCL', 'NYSE.RRC and NYSE.CCL', 'NYSE.SLB and NYSE.CCL', 'NYSE.CI and NYSE.CHK', 'NYSE.EL and NYSE.CHK', 'NYSE.HUM and NYSE.CHK', 'NYSE.MA and NYSE.CHK', 'NYSE.NEE and NYSE.CHK', 'NYSE.NOC and NYSE.CHK', 'NYSE.RTN and NYSE.CHK', 'NYSE.UNH and NYSE.CHK', 'NYSE.V and NYSE.CHK', 'NYSE.FLR and NYSE.CI', 'NYSE.FTI and NYSE.CI', 'NYSE.GE and NYSE.CI', 'NYSE.HAL and NYSE.CI', 'NYSE.HP and NYSE.CI', 'NYSE.MRO and NYSE.CI', 'NYSE.NBL and NYSE.CI', 'NYSE.NFX and NYSE.CI', 'NYSE.RRC and NYSE.CI', 'NYSE.SLB and NYSE.CI', 'NYSE.HIG and NYSE.CMG', 'NYSE.LH and NYSE.CMG', 'NYSE.LMT and NYSE.CMG', 'NYSE.MCO and NYSE.CMG', 'NYSE.NRG and NYSE.CMG', 'NYSE.PGR and NYSE.CMG', 'NYSE.PLD and NYSE.CMG', 'NYSE.PVH and NYSE.CMG', 'NYSE.RHT and NYSE.CMG', 'NYSE.VFC and NYSE.CMG', 'NYSE.XYL and NYSE.CMG', 'NYSE.NFX and NYSE.CNC', 'NYSE.SLB and NYSE.CNC', 'NYSE.DVA and NYSE.COL', 'NYSE.PXD and NYSE.COL', 'NYSE.DVN and NYSE.COO', 'NYSE.FL and NYSE.COO', 'NYSE.FTI and NYSE.COO', 'NYSE.MRO and NYSE.COO', 'NYSE.NFX and NYSE.COO', 'NYSE.RIG and NYSE.COO', 'NYSE.TJX and NYSE.COO', 'NYSE.XEC and NYSE.COO', 'NYSE.MCD and NYSE.COP', 'NYSE.RIG and NYSE.CSRA', 'NYSE.XEC and NYSE.CSRA', 'NYSE.IBM and NYSE.DLPH', 'NYSE.FMC and NYSE.DVA', 'NYSE.HRB and NYSE.DVN', 'NYSE.JNJ and NYSE.DVN', 'NYSE.KSU and NYSE.DVN', 'NYSE.MCD and NYSE.DVN', 'NYSE.MMM and NYSE.DVN', 'NYSE.ROP and NYSE.DVN', 'NYSE.SPGI and NYSE.DVN', 'NYSE.YUM and NYSE.DVN', 'NYSE.FLR and NYSE.EL', 'NYSE.HAL and NYSE.EL', 'NYSE.HP and NYSE.EL', 'NYSE.IBM and NYSE.EL', 'NYSE.MOS and NYSE.EL', 'NYSE.NBL and NYSE.EL', 'NYSE.PXD and NYSE.EL', 'NYSE.RRC and NYSE.EL', 'NYSE.SLB and NYSE.EL', 'NYSE.XEC and NYSE.FDX', 'NYSE.GE and NYSE.FIS', 'NYSE.HOG and NYSE.FIS', 'NYSE.RRC and NYSE.FIS', 'NYSE.VNO and NYSE.FIS', 'NYSE.KSU and NYSE.FL', 'NYSE.MA and NYSE.FL', 'NYSE.NEE and NYSE.FL', 'NYSE.NI and NYSE.FL', 'NYSE.PGR and NYSE.FL', 'NYSE.PLD and NYSE.FL', 'NYSE.SPGI and NYSE.FL', 'NYSE.TSO and NYSE.FL', 'NYSE.UNH and NYSE.FL', 'NYSE.YUM and NYSE.FL', 'NYSE.HUM and NYSE.FLR', 'NYSE.LMT and NYSE.FLR', 'NYSE.NEE and NYSE.FLR', 'NYSE.RCL and NYSE.FLR', 'NYSE.RTN and NYSE.FLR', 'NYSE.TSS and NYSE.FLR', 'NYSE.V and NYSE.FLR', 'NYSE.XEL and NYSE.FLR', 'NYSE.LMT and NYSE.FLS', 'NYSE.KSU and NYSE.FTI', 'NYSE.MCD and NYSE.FTI', 'NYSE.NEE and NYSE.FTI', 'NYSE.NI and NYSE.FTI', 'NYSE.NOC and NYSE.FTI', 'NYSE.PGR and NYSE.FTI', 'NYSE.UNH and NYSE.FTI', 'NYSE.YUM and NYSE.FTI', 'NYSE.RRC and NYSE.FTV', 'NYSE.LMT and NYSE.GE', 'NYSE.MA and NYSE.GE', 'NYSE.MCO and NYSE.GE', 'NYSE.NEE and NYSE.GE', 'NYSE.NOC and NYSE.GE', 'NYSE.PGR and NYSE.GE', 'NYSE.PLD and NYSE.GE', 'NYSE.PVH and NYSE.GE', 'NYSE.RHT and NYSE.GE', 'NYSE.RTN and NYSE.GE', 'NYSE.STZ and NYSE.GE', 'NYSE.TSS and NYSE.GE', 'NYSE.UNH and NYSE.GE', 'NYSE.V and NYSE.GE', 'NYSE.XYL and NYSE.GE', 'NYSE.NRG and NYSE.GPC', 'NYSE.GWW and NYSE.GPN', 'NYSE.IBM and NYSE.GPN', 'NYSE.HON and NYSE.GWW', 'NYSE.MCD and NYSE.GWW', 'NYSE.HUM and NYSE.HAL', 'NYSE.NEE and NYSE.HAL', 'NYSE.RTN and NYSE.HAL', 'NYSE.UNH and NYSE.HAL', 'NYSE.NFX and NYSE.HIG', 'NYSE.RRC and NYSE.HIG', 'NYSE.MA and NYSE.HOG', 'NYSE.NEE and NYSE.HOG', 'NYSE.NOC and NYSE.HOG', 'NYSE.RTN and NYSE.HOG', 'NYSE.TSS and NYSE.HOG', 'NYSE.V and NYSE.HOG', 'NYSE.IBM and NYSE.HON', 'NYSE.SLB and NYSE.HON', 'NYSE.HUM and NYSE.HP', 'NYSE.MA and NYSE.HP', 'NYSE.MCD and NYSE.HP', 'NYSE.NEE and NYSE.HP', 'NYSE.NI and NYSE.HP', 'NYSE.NOC and NYSE.HP', 'NYSE.RCL and NYSE.HP', 'NYSE.RTN and NYSE.HP', 'NYSE.TSS and NYSE.HP', 'NYSE.V and NYSE.HP', 'NYSE.XEL and NYSE.HP', 'NYSE.YUM and NYSE.HP', 'NYSE.NFX and NYSE.HRB', 'NYSE.RIG and NYSE.HRB', 'NYSE.XEC and NYSE.HRB', 'NYSE.MOS and NYSE.HUM', 'NYSE.NBL and NYSE.HUM', 'NYSE.NOV and NYSE.HUM', 'NYSE.PXD and NYSE.HUM', 'NYSE.RRC and NYSE.HUM', 'NYSE.SLB and NYSE.HUM', 'NYSE.RCL and NYSE.IBM', 'NYSE.TSS and NYSE.IBM', 'NYSE.NFX and NYSE.ICE', 'NYSE.XEC and NYSE.ICE', 'NYSE.TJX and NYSE.JNJ', 'NYSE.XEC and NYSE.JNJ', 'NYSE.XRX and NYSE.KR', 'NYSE.MRO and NYSE.KSU', 'NYSE.NFX and NYSE.KSU', 'NYSE.RIG and NYSE.KSU', 'NYSE.SLB and NYSE.KSU', 'NYSE.XEC and NYSE.KSU', 'NYSE.NBL and NYSE.LMT', 'NYSE.PXD and NYSE.LMT', 'NYSE.RRC and NYSE.LMT', 'NYSE.VNO and NYSE.LMT', 'NYSE.YUM and NYSE.M', 'NYSE.NBL and NYSE.MA', 'NYSE.NFX and NYSE.MA', 'NYSE.RRC and NYSE.MA', 'NYSE.VNO and NYSE.MA', 'NYSE.MRO and NYSE.MCD', 'NYSE.NBL and NYSE.MCD', 'NYSE.NFX and NYSE.MCD', 'NYSE.RIG and NYSE.MCD', 'NYSE.RRC and NYSE.MCD', 'NYSE.SLB and NYSE.MCD', 'NYSE.VNO and NYSE.MCO', 'NYSE.NFX and NYSE.MHK', 'NYSE.RIG and NYSE.MMC', 'NYSE.XEC and NYSE.MMC', 'NYSE.RIG and NYSE.MMM', 'NYSE.XEC and NYSE.MMM', 'NYSE.NOC and NYSE.MRO', 'NYSE.SPGI and NYSE.MRO', 'NYSE.UNH and NYSE.MRO', 'NYSE.YUM and NYSE.MRO', 'NYSE.NEE and NYSE.NBL', 'NYSE.NI and NYSE.NBL', 'NYSE.NOC and NYSE.NBL', 'NYSE.PGR and NYSE.NBL', 'NYSE.RCL and NYSE.NBL', 'NYSE.RTN and NYSE.NBL', 'NYSE.TSS and NYSE.NBL', 'NYSE.UNH and NYSE.NBL', 'NYSE.V and NYSE.NBL', 'NYSE.YUM and NYSE.NBL', 'NYSE.NFX and NYSE.NEE', 'NYSE.PXD and NYSE.NEE', 'NYSE.RRC and NYSE.NEE', 'NYSE.SLB and NYSE.NEE', 'NYSE.NOC and NYSE.NFX', 'NYSE.PGR and NYSE.NFX', 'NYSE.PLD and NYSE.NFX', 'NYSE.RHT and NYSE.NFX', 'NYSE.SPGI and NYSE.NFX', 'NYSE.STT and NYSE.NFX', 'NYSE.STZ and NYSE.NFX', 'NYSE.TSO and NYSE.NFX', 'NYSE.UNH and NYSE.NFX', 'NYSE.XRX and NYSE.NFX', 'NYSE.YUM and NYSE.NFX', 'NYSE.RRC and NYSE.NI', 'NYSE.RRC and NYSE.NOC', 'NYSE.SLB and NYSE.NOC', 'NYSE.RRC and NYSE.PGR', 'NYSE.RIG and NYSE.PKI', 'NYSE.RRC and NYSE.PLD', 'NYSE.RTN and NYSE.PXD', 'NYSE.V and NYSE.PXD', 'NYSE.XYL and NYSE.PXD', 'NYSE.RRC and NYSE.RCL', 'NYSE.ROP and NYSE.RIG', 'NYSE.SPGI and NYSE.RIG', 'NYSE.YUM and NYSE.RIG', 'NYSE.ZTS and NYSE.RIG', 'NYSE.RTN and NYSE.RRC', 'NYSE.TSS and NYSE.RRC', 'NYSE.UNH and NYSE.RRC', 'NYSE.V and NYSE.RRC', 'NYSE.XYL and NYSE.RRC', 'NYSE.YUM and NYSE.RRC', 'NYSE.VNO and NYSE.RTN', 'NYSE.SPGI and NYSE.SLB', 'NYSE.UNH and NYSE.SLB', 'NYSE.YUM and NYSE.SLB', 'NYSE.VNO and NYSE.TSS', 'NYSE.VNO and NYSE.V', 'NYSE.XYL and NYSE.VNO']\n"
     ]
    }
   ],
   "source": [
    "neg_cor = []\n",
    "list = []\n",
    "for col in cor_df.columns:\n",
    "    for indx in cor_df.index:\n",
    "        if indx not in list:\n",
    "            if cor_df[indx][col] < - 0.9 and cor_df[indx][col] != 1:\n",
    "                a = str(indx) + ' and ' + str(col)\n",
    "                neg_cor.append(a)\n",
    "    list.append(col)       \n",
    "print('List of Stock which are apparently similar in performance negatively : ') \n",
    "\n",
    "print(neg_cor)"
   ]
  },
  {
   "cell_type": "code",
   "execution_count": 13,
   "metadata": {},
   "outputs": [
    {
     "data": {
      "text/plain": [
       "617"
      ]
     },
     "execution_count": 13,
     "metadata": {},
     "output_type": "execute_result"
    }
   ],
   "source": [
    "len(neg_cor)"
   ]
  },
  {
   "cell_type": "code",
   "execution_count": 14,
   "metadata": {},
   "outputs": [
    {
     "data": {
      "text/plain": [
       "0.002468"
      ]
     },
     "execution_count": 14,
     "metadata": {},
     "output_type": "execute_result"
    }
   ],
   "source": [
    "617/(500**2)"
   ]
  },
  {
   "cell_type": "markdown",
   "metadata": {},
   "source": [
    "## Problem 2: How many Unique patterns that exist in the historical stock data set, based on fluctuations in price."
   ]
  },
  {
   "cell_type": "code",
   "execution_count": 15,
   "metadata": {},
   "outputs": [
    {
     "data": {
      "text/html": [
       "<div>\n",
       "<style scoped>\n",
       "    .dataframe tbody tr th:only-of-type {\n",
       "        vertical-align: middle;\n",
       "    }\n",
       "\n",
       "    .dataframe tbody tr th {\n",
       "        vertical-align: top;\n",
       "    }\n",
       "\n",
       "    .dataframe thead th {\n",
       "        text-align: right;\n",
       "    }\n",
       "</style>\n",
       "<table border=\"1\" class=\"dataframe\">\n",
       "  <thead>\n",
       "    <tr style=\"text-align: right;\">\n",
       "      <th></th>\n",
       "      <th>NASDAQ.AAL</th>\n",
       "      <th>NASDAQ.AAPL</th>\n",
       "      <th>NASDAQ.ADBE</th>\n",
       "      <th>NASDAQ.ADI</th>\n",
       "      <th>NASDAQ.ADP</th>\n",
       "    </tr>\n",
       "  </thead>\n",
       "  <tbody>\n",
       "    <tr>\n",
       "      <th>NASDAQ.AAL</th>\n",
       "      <td>1.000000</td>\n",
       "      <td>0.082065</td>\n",
       "      <td>0.542213</td>\n",
       "      <td>0.209446</td>\n",
       "      <td>0.245801</td>\n",
       "    </tr>\n",
       "    <tr>\n",
       "      <th>NASDAQ.AAPL</th>\n",
       "      <td>0.082065</td>\n",
       "      <td>1.000000</td>\n",
       "      <td>0.714578</td>\n",
       "      <td>0.264269</td>\n",
       "      <td>0.265641</td>\n",
       "    </tr>\n",
       "    <tr>\n",
       "      <th>NASDAQ.ADBE</th>\n",
       "      <td>0.542213</td>\n",
       "      <td>0.714578</td>\n",
       "      <td>1.000000</td>\n",
       "      <td>0.259282</td>\n",
       "      <td>0.476496</td>\n",
       "    </tr>\n",
       "    <tr>\n",
       "      <th>NASDAQ.ADI</th>\n",
       "      <td>0.209446</td>\n",
       "      <td>0.264269</td>\n",
       "      <td>0.259282</td>\n",
       "      <td>1.000000</td>\n",
       "      <td>-0.085074</td>\n",
       "    </tr>\n",
       "    <tr>\n",
       "      <th>NASDAQ.ADP</th>\n",
       "      <td>0.245801</td>\n",
       "      <td>0.265641</td>\n",
       "      <td>0.476496</td>\n",
       "      <td>-0.085074</td>\n",
       "      <td>1.000000</td>\n",
       "    </tr>\n",
       "  </tbody>\n",
       "</table>\n",
       "</div>"
      ],
      "text/plain": [
       "             NASDAQ.AAL  NASDAQ.AAPL  NASDAQ.ADBE  NASDAQ.ADI  NASDAQ.ADP\n",
       "NASDAQ.AAL     1.000000     0.082065     0.542213    0.209446    0.245801\n",
       "NASDAQ.AAPL    0.082065     1.000000     0.714578    0.264269    0.265641\n",
       "NASDAQ.ADBE    0.542213     0.714578     1.000000    0.259282    0.476496\n",
       "NASDAQ.ADI     0.209446     0.264269     0.259282    1.000000   -0.085074\n",
       "NASDAQ.ADP     0.245801     0.265641     0.476496   -0.085074    1.000000"
      ]
     },
     "execution_count": 15,
     "metadata": {},
     "output_type": "execute_result"
    }
   ],
   "source": [
    "cor_df.iloc[0:5,0:5]"
   ]
  },
  {
   "cell_type": "code",
   "execution_count": 16,
   "metadata": {},
   "outputs": [],
   "source": [
    "from sklearn.preprocessing import StandardScaler\n",
    "import seaborn as sns\n",
    "feature = data_n.values\n",
    "sc = StandardScaler()\n",
    "X_scaled = sc.fit_transform(feature)"
   ]
  },
  {
   "cell_type": "code",
   "execution_count": 17,
   "metadata": {},
   "outputs": [
    {
     "data": {
      "image/png": "[encoded data removed]",
      "text/plain": [
       "<Figure size 1080x360 with 1 Axes>"
      ]
     },
     "metadata": {
      "needs_background": "light"
     },
     "output_type": "display_data"
    }
   ],
   "source": [
    "from sklearn.cluster import KMeans\n",
    "X = X_scaled.copy()\n",
    "wcss =[]\n",
    "for k in range(2,20):\n",
    "    k_means = KMeans(n_clusters = k)\n",
    "    k_means.fit(X)\n",
    "    wcss.append(k_means.inertia_)\n",
    "\n",
    "fig = plt.figure(figsize=(15,5))\n",
    "plt.plot(range(2,20),wcss)\n",
    "plt.grid(True)\n",
    "plt.title('Elbow-Curve')\n",
    "plt.show()"
   ]
  },
  {
   "cell_type": "code",
   "execution_count": 18,
   "metadata": {},
   "outputs": [
    {
     "data": {
      "text/plain": [
       "KMeans(algorithm='auto', copy_x=True, init='k-means++', max_iter=300,\n",
       "       n_clusters=5, n_init=10, n_jobs=None, precompute_distances='auto',\n",
       "       random_state=None, tol=0.0001, verbose=0)"
      ]
     },
     "execution_count": 18,
     "metadata": {},
     "output_type": "execute_result"
    }
   ],
   "source": [
    "k_means = KMeans(n_clusters = 5)\n",
    "k_means.fit(X)"
   ]
  },
  {
   "cell_type": "code",
   "execution_count": 19,
   "metadata": {},
   "outputs": [
    {
     "name": "stdout",
     "output_type": "stream",
     "text": [
      "[1 1 1 ... 2 2 2]\n"
     ]
    }
   ],
   "source": [
    "y_kmeans = k_means.fit_predict(X)\n",
    "print(y_kmeans)"
   ]
  },
  {
   "cell_type": "code",
   "execution_count": 34,
   "metadata": {},
   "outputs": [
    {
     "data": {
      "text/plain": [
       "Text(0.5, 1.0, 'Number of obsevation per Cluster')"
      ]
     },
     "execution_count": 34,
     "metadata": {},
     "output_type": "execute_result"
    },
    {
     "data": {
      "image/png": "[encoded data removed]",
      "text/plain": [
       "<Figure size 432x288 with 1 Axes>"
      ]
     },
     "metadata": {
      "needs_background": "light"
     },
     "output_type": "display_data"
    }
   ],
   "source": [
    "import seaborn as sns\n",
    "sns.countplot(x=y_kmeans)\n",
    "plt.title('Number of obsevation per Cluster')"
   ]
  },
  {
   "cell_type": "code",
   "execution_count": 35,
   "metadata": {},
   "outputs": [
    {
     "data": {
      "text/plain": [
       "Text(0.5, 1.0, 'Boxplot for SP500 according to Clusters')"
      ]
     },
     "execution_count": 35,
     "metadata": {},
     "output_type": "execute_result"
    },
    {
     "data": {
      "image/png": "[encoded data removed]",
      "text/plain": [
       "<Figure size 432x288 with 1 Axes>"
      ]
     },
     "metadata": {
      "needs_background": "light"
     },
     "output_type": "display_data"
    }
   ],
   "source": [
    "df = pd.DataFrame([data['SP500'],y_kmeans]).T\n",
    "df.columns = ['SP500','Cluster']\n",
    "sns.boxplot(x='Cluster',y='SP500',data = df)\n",
    "plt.title('Boxplot for SP500 according to Clusters')"
   ]
  },
  {
   "cell_type": "code",
   "execution_count": null,
   "metadata": {},
   "outputs": [],
   "source": []
  },
  {
   "cell_type": "code",
   "execution_count": null,
   "metadata": {},
   "outputs": [],
   "source": []
  },
  {
   "cell_type": "code",
   "execution_count": null,
   "metadata": {},
   "outputs": [],
   "source": []
  },
  {
   "cell_type": "code",
   "execution_count": null,
   "metadata": {},
   "outputs": [],
   "source": []
  },
  {
   "cell_type": "code",
   "execution_count": null,
   "metadata": {},
   "outputs": [],
   "source": []
  }
 ],
 "metadata": {
  "kernelspec": {
   "display_name": "Python 3",
   "language": "python",
   "name": "python3"
  },
  "language_info": {
   "codemirror_mode": {
    "name": "ipython",
    "version": 3
   },
   "file_extension": ".py",
   "mimetype": "text/x-python",
   "name": "python",
   "nbconvert_exporter": "python",
   "pygments_lexer": "ipython3",
   "version": "3.7.7"
  }
 },
 "nbformat": 4,
 "nbformat_minor": 4
}
