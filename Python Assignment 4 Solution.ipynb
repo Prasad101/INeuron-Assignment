{
 "cells": [
  {
   "cell_type": "markdown",
   "metadata": {},
   "source": [
    "# Assignment 4"
   ]
  },
  {
   "cell_type": "markdown",
   "metadata": {},
   "source": [
    "### Q 1.1. Write a Python Program(with class concepts) to find the area of the triangle using the below formula.\n",
    "### area = (s*(s-a)*(s-b)*(s-c)) ** 0.5\n",
    "### Function to take the length of the sides of triangle from user should be defined in the parent class and function to calculate the area should be defined in subclass."
   ]
  },
  {
   "cell_type": "code",
   "execution_count": 112,
   "metadata": {},
   "outputs": [],
   "source": [
    "class triangle:\n",
    "    def __init__(self, a, b, c):\n",
    "        self.a = a\n",
    "        self.b = b\n",
    "        self.c = c \n",
    "\n",
    "class tri_area(triangle):\n",
    "    def __init__(self , *args):\n",
    "        super(tri_area,self).__init__(*args)\n",
    "        \n",
    "    def __str__(self): \n",
    "        s = (self.a + self.b + self.c)/2\n",
    "        area = (s*(s-self.a)*(s-self.b)*(s-self.c))**0.5\n",
    "        return \"The Half of the perimeter for triangle is %5.2f and Area is %5.2f\" % (s,area)"
   ]
  },
  {
   "cell_type": "code",
   "execution_count": 113,
   "metadata": {},
   "outputs": [
    {
     "name": "stdout",
     "output_type": "stream",
     "text": [
      "True\n",
      "The Half of the perimeter for triangle is 10.50 and Area is  9.92\n"
     ]
    }
   ],
   "source": [
    "new = tri_area(3,8,10)\n",
    "print(isinstance(new,triangle))\n",
    "print(new)"
   ]
  },
  {
   "cell_type": "code",
   "execution_count": null,
   "metadata": {},
   "outputs": [],
   "source": []
  },
  {
   "cell_type": "markdown",
   "metadata": {},
   "source": [
    "### Q 1.2. Write a function filter_long_words() that takes a list of words and an integer n and returns the list of words that are longer than n."
   ]
  },
  {
   "cell_type": "code",
   "execution_count": 20,
   "metadata": {},
   "outputs": [
    {
     "name": "stdout",
     "output_type": "stream",
     "text": [
      "['Prasad', 'Rohit', 'Devendra', 45675]\n"
     ]
    }
   ],
   "source": [
    "def filter_long_word(list1,n):\n",
    "    l = []\n",
    "    for i in list1:\n",
    "        if len(str(i)) > n:\n",
    "            l.append(i)\n",
    "    print(l)\n",
    "\n",
    "list1 = ['Prasad','Rohit','Devendra','Sai','Om',45675]\n",
    "filter_long_word(list1,3)"
   ]
  },
  {
   "cell_type": "markdown",
   "metadata": {},
   "source": [
    "### Alternative solution using list comprehension"
   ]
  },
  {
   "cell_type": "code",
   "execution_count": 19,
   "metadata": {},
   "outputs": [
    {
     "name": "stdout",
     "output_type": "stream",
     "text": [
      "filter number : 3\n"
     ]
    },
    {
     "data": {
      "text/plain": [
       "['Prasad', 'Rohit', 'Devendra', 12345]"
      ]
     },
     "execution_count": 19,
     "metadata": {},
     "output_type": "execute_result"
    }
   ],
   "source": [
    "list2 = ['Prasad','Rohit','Devendra','Sai','Om',12345]\n",
    "n = int(input('filter number : '))\n",
    "[i for i in list2 if len(str(i)) > n]"
   ]
  },
  {
   "cell_type": "code",
   "execution_count": null,
   "metadata": {},
   "outputs": [],
   "source": []
  },
  {
   "cell_type": "code",
   "execution_count": null,
   "metadata": {},
   "outputs": [],
   "source": []
  },
  {
   "cell_type": "markdown",
   "metadata": {},
   "source": [
    "### Q 2.1 Write a Python program using function concept that maps list of words into a list of integers representing the lengths of the corresponding words.\n",
    "\n",
    "**Hint**: If a list [ ab,cde,erty] is passed on to the python function output should come as [2,3,4] Here 2,3 and 4 are the lengths of the words in the list."
   ]
  },
  {
   "cell_type": "code",
   "execution_count": 18,
   "metadata": {},
   "outputs": [
    {
     "name": "stdout",
     "output_type": "stream",
     "text": [
      "[6, 5, 8, 3, 2, 5]\n"
     ]
    }
   ],
   "source": [
    "def str_len(list1):\n",
    "    l = []\n",
    "    for i in list1:\n",
    "        i = str(i)\n",
    "        l.append(len(i))\n",
    "    print(l)\n",
    "\n",
    "############\n",
    "list1 = ['Prasad','Rohit','Devendra','Sai','Om',45268]\n",
    "str_len(list1)"
   ]
  },
  {
   "cell_type": "markdown",
   "metadata": {},
   "source": [
    "### Alternative solution using list comprehension"
   ]
  },
  {
   "cell_type": "code",
   "execution_count": 16,
   "metadata": {},
   "outputs": [
    {
     "data": {
      "text/plain": [
       "[6, 5, 8, 3, 2, 5]"
      ]
     },
     "execution_count": 16,
     "metadata": {},
     "output_type": "execute_result"
    }
   ],
   "source": [
    "list1 = ['Prasad','Rohit','Devendra','Sai','Om',45454]\n",
    "[len(str(i)) for i in list1]"
   ]
  },
  {
   "cell_type": "code",
   "execution_count": null,
   "metadata": {},
   "outputs": [],
   "source": []
  },
  {
   "cell_type": "code",
   "execution_count": null,
   "metadata": {},
   "outputs": [],
   "source": []
  },
  {
   "cell_type": "markdown",
   "metadata": {},
   "source": [
    "### Q2.2 Write a Python function which takes a character (i.e. a string of length 1) and returns True if it is a vowel, False otherwise."
   ]
  },
  {
   "cell_type": "code",
   "execution_count": 131,
   "metadata": {},
   "outputs": [],
   "source": [
    "def chk_vowl(ch):\n",
    "    if type(ch) != str or len(ch) != 1:\n",
    "        return 'Type of input should be string and only one charater is allowed'\n",
    "    else :\n",
    "        if ch.lower() in ['a','e','i','o','u']:\n",
    "            return \"The given character %s is Vowel. \" % (ch)\n",
    "        else:\n",
    "            return \"The given character %s is not Vowel. \" % (ch)"
   ]
  },
  {
   "cell_type": "code",
   "execution_count": 132,
   "metadata": {},
   "outputs": [
    {
     "data": {
      "text/plain": [
       "'Type of input should be string and only one charater is allowed'"
      ]
     },
     "execution_count": 132,
     "metadata": {},
     "output_type": "execute_result"
    }
   ],
   "source": [
    "chk_vowl('ads')"
   ]
  },
  {
   "cell_type": "code",
   "execution_count": 133,
   "metadata": {},
   "outputs": [
    {
     "name": "stdout",
     "output_type": "stream",
     "text": [
      "Type of input should be string and only one charater is allowed\n",
      "The given character A is Vowel. \n",
      "The given character i is Vowel. \n"
     ]
    }
   ],
   "source": [
    "print(chk_vowl(1214))\n",
    "print(chk_vowl('A'))\n",
    "print(chk_vowl('i'))"
   ]
  },
  {
   "cell_type": "code",
   "execution_count": null,
   "metadata": {},
   "outputs": [],
   "source": []
  },
  {
   "cell_type": "code",
   "execution_count": null,
   "metadata": {},
   "outputs": [],
   "source": []
  }
 ],
 "metadata": {
  "kernelspec": {
   "display_name": "Python 3",
   "language": "python",
   "name": "python3"
  },
  "language_info": {
   "codemirror_mode": {
    "name": "ipython",
    "version": 3
   },
   "file_extension": ".py",
   "mimetype": "text/x-python",
   "name": "python",
   "nbconvert_exporter": "python",
   "pygments_lexer": "ipython3",
   "version": "3.7.7"
  }
 },
 "nbformat": 4,
 "nbformat_minor": 4
}
