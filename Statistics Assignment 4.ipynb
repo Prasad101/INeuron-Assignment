{
 "cells": [
  {
   "cell_type": "markdown",
   "metadata": {},
   "source": [
    "# Statistics Assignment 4"
   ]
  },
  {
   "cell_type": "markdown",
   "metadata": {},
   "source": [
    "## Problem 1\n",
    "Is gender independent of education level? A random sample of 395 people were \n",
    "surveyed and each person was asked to report the highest education level they \n",
    "obtained. The data that resulted from the survey is summarized in the following table:\n",
    "\n",
    "               - High School  Bachelors  Masters  Ph.d.  Total\n",
    "\n",
    "      - Female       60        54         46      41     201\n",
    "\n",
    "      - Male         40        44         53      57     194\n",
    "\n",
    "      - Total        100       98         99      98     395\n",
    "\n",
    "Question: Are gender and education level dependent at 5% level of significance? In\n",
    "other words, given the data collected above, is there a relationship between the \n",
    "gender of an individual and the level of education that they have obtained?\n",
    "\n",
    "### Solution ==> \n",
    "     - We can use chi-squre test for independence to solve the problem.\n",
    "     - chi-squre = (sum((O - E)^2) / E).\n",
    "     - Here O represents the observed frequency. E is the expected frequency under the null           hypothesis and computed by : E = (row total * colun total) / (sample size).\n",
    "     - Using formula for expected freq we get following table :\n",
    "\n",
    "               - High School  Bachelors  Masters    Ph.d.     Total\n",
    "\n",
    "      - Female       50.89     49.87      50.38     49.87      201\n",
    "\n",
    "      - Male         49.11     48.13      48.62     48.13      194\n",
    "\n",
    "      - Total         100       98         99        98        395\n",
    "\n",
    "    - Using chi-squre formula we get:\n",
    "       chi-squre = (60-50.89)^2/50.89 + (54-49.87)^2/49.87 + ---- + (57-48.13)^2/48.13 = 8.02\n",
    "    - \n",
    "    - The critical value of  with 3 degree of freedom and 0.05 alpha is 7.815.\n",
    "    - Since 8.0 > 7.815, we reject the null hypothesis and conclude that the education level          depends on gender at a 5% level of significance."
   ]
  },
  {
   "cell_type": "code",
   "execution_count": 1,
   "metadata": {},
   "outputs": [
    {
     "name": "stdout",
     "output_type": "stream",
     "text": [
      "7.814727903251179\n"
     ]
    }
   ],
   "source": [
    "from scipy.stats import chi2\n",
    "p = 0.95\n",
    "df = 3\n",
    "value = chi2.ppf(p, df)\n",
    "print(value)"
   ]
  },
  {
   "cell_type": "code",
   "execution_count": null,
   "metadata": {},
   "outputs": [],
   "source": []
  },
  {
   "cell_type": "code",
   "execution_count": null,
   "metadata": {},
   "outputs": [],
   "source": []
  },
  {
   "cell_type": "markdown",
   "metadata": {},
   "source": [
    "## Problem 2\n",
    "Using the following data, perform a oneway analysis of variance using α=.05. Write \n",
    "up the results in APA format.\n",
    "    - [Group1: 51, 45, 33, 45, 67]   [Group2: 23, 43, 23, 43, 45]   [Group3: 56, 76, 74, 87, 56]\n",
    "    \n",
    "### Solution ==>\n",
    "      - ANOVA is used to test, is there any diffrence between overall mean of all group.\n",
    "      - In this case Ho : g1_x_bar = g2_x_bar = g3_x_bar ; H1 : atlest one group mean will differ       from others.\n",
    "      - general ANOVA table is as follows:\n",
    "              -   Source       d.f.   Sum_sq   Mean_sum_sq     F-statistics   p-value\n",
    "              - Treatment      k-1    SSTr    MSTr = SSTr/df   F = MSTr/MSE   Prob(>F)\n",
    "              -   Error        N-K    SSE      MSE = SSE/df         -            -\n",
    "              -   Total        N-1    SSTo       SSTo/df            -            -\n",
    "       \n",
    "       - If F-stat > F-table we reject Ho or if p-value < alpha we reject Ho.\n",
    "       - Here p-value is 0.0031 < 0.05 ==> we reject Ho means there is atlest one group with            diffrent mean ."
   ]
  },
  {
   "cell_type": "code",
   "execution_count": 2,
   "metadata": {},
   "outputs": [
    {
     "data": {
      "application/javascript": [
       "\n",
       "        if (window._pyforest_update_imports_cell) { window._pyforest_update_imports_cell('import pandas as pd'); }\n",
       "    "
      ],
      "text/plain": [
       "<IPython.core.display.Javascript object>"
      ]
     },
     "metadata": {},
     "output_type": "display_data"
    },
    {
     "name": "stdout",
     "output_type": "stream",
     "text": [
      "-------------------------Data----------------\n",
      "            0   1   2   3   4   5   6   7   8   9  10  11  12  13  14\n",
      "Treatment  g1  g1  g1  g1  g1  g2  g2  g2  g2  g2  g3  g3  g3  g3  g3\n",
      "score      51  45  33  45  67  23  43  23  43  45  56  76  74  87  56\n",
      "----------------------------------------------------------------------------------------------------\n",
      "-------------------------Mean by group----------------\n",
      "Treatment    g1    g2    g3\n",
      "score      48.2  35.4  69.8\n",
      "----------------------------------------------------------------------------------------------------\n",
      "-------------------------ANOVA Table----------------\n",
      "             df       sum_sq      mean_sq         F   PR(>F)\n",
      "Treatment   2.0  3022.933333  1511.466667  9.747206  0.00306\n",
      "Residual   12.0  1860.800000   155.066667       NaN      NaN\n",
      "----------------------------------------------------------------------------------------------------\n"
     ]
    }
   ],
   "source": [
    "g1 = [51, 45, 33, 45, 67]\n",
    "g2 = [23, 43, 23, 43, 45]\n",
    "g3 = [56, 76, 74, 87, 56]\n",
    "all_score = g1 + g2 + g3\n",
    "treatments = (['g1']*len(g1) + ['g2']*len(g2) + ['g3']*len(g3))\n",
    "data = pd.DataFrame({'Treatment' : treatments , 'score' : all_score})\n",
    "print('-------------------------Data----------------')\n",
    "print(data.T)\n",
    "print('-'*100)\n",
    "print('-------------------------Mean by group----------------')\n",
    "print(data.groupby('Treatment').mean().T)\n",
    "print('-'*100)\n",
    "import statsmodels.api as sm\n",
    "from statsmodels.formula.api import ols\n",
    "lm = ols('score~Treatment',data = data).fit()\n",
    "table = sm.stats.anova_lm(lm)\n",
    "print('-------------------------ANOVA Table----------------')\n",
    "print(table)\n",
    "print('-'*100)"
   ]
  },
  {
   "cell_type": "code",
   "execution_count": 3,
   "metadata": {},
   "outputs": [
    {
     "data": {
      "application/javascript": [
       "\n",
       "        if (window._pyforest_update_imports_cell) { window._pyforest_update_imports_cell('import numpy as np\\nimport pandas as pd'); }\n",
       "    "
      ],
      "text/plain": [
       "<IPython.core.display.Javascript object>"
      ]
     },
     "metadata": {},
     "output_type": "display_data"
    },
    {
     "data": {
      "application/javascript": [
       "\n",
       "        if (window._pyforest_update_imports_cell) { window._pyforest_update_imports_cell('import numpy as np\\nimport pandas as pd'); }\n",
       "    "
      ],
      "text/plain": [
       "<IPython.core.display.Javascript object>"
      ]
     },
     "metadata": {},
     "output_type": "display_data"
    },
    {
     "data": {
      "application/javascript": [
       "\n",
       "        if (window._pyforest_update_imports_cell) { window._pyforest_update_imports_cell('import numpy as np\\nimport pandas as pd'); }\n",
       "    "
      ],
      "text/plain": [
       "<IPython.core.display.Javascript object>"
      ]
     },
     "metadata": {},
     "output_type": "display_data"
    },
    {
     "data": {
      "text/plain": [
       "F_onewayResult(statistic=9.747205503009463, pvalue=0.0030597541434430556)"
      ]
     },
     "execution_count": 3,
     "metadata": {},
     "output_type": "execute_result"
    }
   ],
   "source": [
    "import scipy.stats as stats\n",
    "g1 = np.array([51, 45, 33, 45, 67])\n",
    "g2 = np.array([23, 43, 23, 43, 45])\n",
    "g3 = np.array([56, 76, 74, 87, 56])\n",
    "stats.f_oneway(g1,g2,g3)"
   ]
  },
  {
   "cell_type": "code",
   "execution_count": null,
   "metadata": {},
   "outputs": [],
   "source": []
  },
  {
   "cell_type": "markdown",
   "metadata": {},
   "source": [
    "## Problem 3\n",
    "Calculate F Test for given 10, 20, 30, 40, 50 and 5,10,15, 20, 25.\n",
    "\n",
    "### Solution ==>\n",
    "    - The F-test is used to test if the variances of two populations are equal.\n",
    "    - Ho : variance g1 = variance g2  ; H1 :variance g1 <> variance g2 (two tailed test).\n",
    "    - F_cal = s1^2/s2^2 , here s1^2 and s2^2 are sample variance of resepective group.\n",
    "    - Ho is rejected if F_cal > F_tab ; F_tab = F(alpha/2,n1-1,n2-1).\n"
   ]
  },
  {
   "cell_type": "code",
   "execution_count": 4,
   "metadata": {},
   "outputs": [
    {
     "data": {
      "application/javascript": [
       "\n",
       "        if (window._pyforest_update_imports_cell) { window._pyforest_update_imports_cell('import numpy as np\\nimport statistics\\nimport pandas as pd'); }\n",
       "    "
      ],
      "text/plain": [
       "<IPython.core.display.Javascript object>"
      ]
     },
     "metadata": {},
     "output_type": "display_data"
    },
    {
     "data": {
      "application/javascript": [
       "\n",
       "        if (window._pyforest_update_imports_cell) { window._pyforest_update_imports_cell('import numpy as np\\nimport statistics\\nimport pandas as pd'); }\n",
       "    "
      ],
      "text/plain": [
       "<IPython.core.display.Javascript object>"
      ]
     },
     "metadata": {},
     "output_type": "display_data"
    },
    {
     "name": "stdout",
     "output_type": "stream",
     "text": [
      "Varaince of 1st group is 250 and 2nd group is 62.5\n",
      "----------------------------------------------------------------------------------------------------\n",
      "If F calculate value 4.0 is greater than F crtical value 0.1 \n",
      "then reject Ho means there is diffrence between variance of two group\n"
     ]
    }
   ],
   "source": [
    "import scipy.stats\n",
    "g1 = [10, 20, 30, 40, 50]\n",
    "g2 = [5,10,15, 20, 25]\n",
    "s1_2 =statistics.variance(g1)\n",
    "s2_2 = statistics.variance(g2)\n",
    "F_tab = round(scipy.stats.f.ppf(0.05/2, dfn=5-1, dfd=5-1),2)\n",
    "F_cal = s1_2/s2_2 \n",
    "print('Varaince of 1st group is {} and 2nd group is {}'.format(s1_2,s2_2))\n",
    "print('-'*100)\n",
    "print('''If F calculate value {} is greater than F crtical value {} \n",
    "then reject Ho means there is diffrence between variance of two group'''.format(F_cal,F_tab))"
   ]
  },
  {
   "cell_type": "code",
   "execution_count": null,
   "metadata": {},
   "outputs": [],
   "source": []
  },
  {
   "cell_type": "code",
   "execution_count": null,
   "metadata": {},
   "outputs": [],
   "source": []
  },
  {
   "cell_type": "code",
   "execution_count": null,
   "metadata": {},
   "outputs": [],
   "source": []
  },
  {
   "cell_type": "code",
   "execution_count": null,
   "metadata": {},
   "outputs": [],
   "source": []
  },
  {
   "cell_type": "code",
   "execution_count": null,
   "metadata": {},
   "outputs": [],
   "source": []
  },
  {
   "cell_type": "code",
   "execution_count": null,
   "metadata": {},
   "outputs": [],
   "source": []
  },
  {
   "cell_type": "code",
   "execution_count": null,
   "metadata": {},
   "outputs": [],
   "source": []
  },
  {
   "cell_type": "code",
   "execution_count": null,
   "metadata": {},
   "outputs": [],
   "source": []
  },
  {
   "cell_type": "code",
   "execution_count": null,
   "metadata": {},
   "outputs": [],
   "source": []
  },
  {
   "cell_type": "code",
   "execution_count": null,
   "metadata": {},
   "outputs": [],
   "source": []
  },
  {
   "cell_type": "code",
   "execution_count": null,
   "metadata": {},
   "outputs": [],
   "source": []
  },
  {
   "cell_type": "code",
   "execution_count": null,
   "metadata": {},
   "outputs": [],
   "source": []
  },
  {
   "cell_type": "code",
   "execution_count": null,
   "metadata": {},
   "outputs": [],
   "source": []
  },
  {
   "cell_type": "code",
   "execution_count": null,
   "metadata": {},
   "outputs": [],
   "source": []
  },
  {
   "cell_type": "code",
   "execution_count": null,
   "metadata": {},
   "outputs": [],
   "source": []
  },
  {
   "cell_type": "code",
   "execution_count": null,
   "metadata": {},
   "outputs": [],
   "source": []
  },
  {
   "cell_type": "code",
   "execution_count": null,
   "metadata": {},
   "outputs": [],
   "source": []
  },
  {
   "cell_type": "code",
   "execution_count": null,
   "metadata": {},
   "outputs": [],
   "source": []
  },
  {
   "cell_type": "code",
   "execution_count": null,
   "metadata": {},
   "outputs": [],
   "source": []
  },
  {
   "cell_type": "code",
   "execution_count": null,
   "metadata": {},
   "outputs": [],
   "source": []
  },
  {
   "cell_type": "code",
   "execution_count": null,
   "metadata": {},
   "outputs": [],
   "source": []
  }
 ],
 "metadata": {
  "kernelspec": {
   "display_name": "Python 3",
   "language": "python",
   "name": "python3"
  },
  "language_info": {
   "codemirror_mode": {
    "name": "ipython",
    "version": 3
   },
   "file_extension": ".py",
   "mimetype": "text/x-python",
   "name": "python",
   "nbconvert_exporter": "python",
   "pygments_lexer": "ipython3",
   "version": "3.7.7"
  }
 },
 "nbformat": 4,
 "nbformat_minor": 4
}
