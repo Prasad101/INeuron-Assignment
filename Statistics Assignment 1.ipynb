{
 "cells": [
  {
   "cell_type": "markdown",
   "metadata": {},
   "source": [
    "# Statistics Assignment 1"
   ]
  },
  {
   "cell_type": "markdown",
   "metadata": {},
   "source": [
    "## Problem 1 (Calculate Mean, Median,Mode, std. dev.)\n",
    "The marks awarded for an assignment set for a Year 8 class of 20 students were as \n",
    "follows:\n",
    "\n",
    "6 7 5 7 7 8 7 6 9 7 4 10 6 8 8 9 5 6 4 8"
   ]
  },
  {
   "cell_type": "code",
   "execution_count": 1,
   "metadata": {},
   "outputs": [
    {
     "data": {
      "application/javascript": [
       "\n",
       "        if (window._pyforest_update_imports_cell) { window._pyforest_update_imports_cell('import numpy as np'); }\n",
       "    "
      ],
      "text/plain": [
       "<IPython.core.display.Javascript object>"
      ]
     },
     "metadata": {},
     "output_type": "display_data"
    },
    {
     "data": {
      "application/javascript": [
       "\n",
       "        if (window._pyforest_update_imports_cell) { window._pyforest_update_imports_cell('import numpy as np'); }\n",
       "    "
      ],
      "text/plain": [
       "<IPython.core.display.Javascript object>"
      ]
     },
     "metadata": {},
     "output_type": "display_data"
    },
    {
     "data": {
      "application/javascript": [
       "\n",
       "        if (window._pyforest_update_imports_cell) { window._pyforest_update_imports_cell('import numpy as np'); }\n",
       "    "
      ],
      "text/plain": [
       "<IPython.core.display.Javascript object>"
      ]
     },
     "metadata": {},
     "output_type": "display_data"
    },
    {
     "data": {
      "application/javascript": [
       "\n",
       "        if (window._pyforest_update_imports_cell) { window._pyforest_update_imports_cell('import numpy as np'); }\n",
       "    "
      ],
      "text/plain": [
       "<IPython.core.display.Javascript object>"
      ]
     },
     "metadata": {},
     "output_type": "display_data"
    },
    {
     "name": "stdout",
     "output_type": "stream",
     "text": [
      "Mean of given numbers is : 6\n",
      "Media of given numbers is : 7\n",
      "Mode of given numbers is : [7]\n",
      "Standard Deviation of given numbers is : 2.527500\n"
     ]
    }
   ],
   "source": [
    "a = [6 ,7 ,5 ,7 ,7 ,8 ,7 ,6 ,9 ,7 ,4 ,10 ,6 ,8 ,8 ,9 ,5 ,6 ,4 ,8]\n",
    "\n",
    "def mean1(a):\n",
    "    mean = sum(a)/len(a)\n",
    "    return mean\n",
    "mean = mean1(a)\n",
    "\n",
    "def med(a):\n",
    "    a.sort()\n",
    "    n = len(a)\n",
    "    if n % 2 ==0:\n",
    "        n_2 = int(n/2)\n",
    "        median = (a[n_2-1]+a[n_2])/2\n",
    "    else:\n",
    "        n_2 = int((n+1)/2)\n",
    "        median = a[n_2-1]\n",
    "    return median\n",
    "median = med(a)\n",
    "\n",
    "def mode1(a):\n",
    "    b=np.array(a)\n",
    "    uq = np.unique(b)\n",
    "    feq = []\n",
    "    for item in uq:\n",
    "        feq.append(a.count(item))\n",
    "    feq = np.array(feq)\n",
    "    mode = list(uq[feq==max(feq)])\n",
    "    return mode\n",
    "mode = mode1(a)\n",
    "\n",
    "def stdev1 (a):\n",
    "    b=np.array(a)\n",
    "    stdev = mean1((b-mean)**2)\n",
    "    return stdev\n",
    "\n",
    "stdev = stdev1(a)\n",
    "\n",
    "print('Mean of given numbers is : %d' %mean)\n",
    "print('Media of given numbers is : %d' %median)\n",
    "print('Mode of given numbers is : {}' .format(mode))\n",
    "print('Standard Deviation of given numbers is : %f' %stdev)"
   ]
  },
  {
   "cell_type": "code",
   "execution_count": null,
   "metadata": {},
   "outputs": [],
   "source": []
  },
  {
   "cell_type": "markdown",
   "metadata": {},
   "source": [
    "## Problem 2 (Calculate Mean, Median,Mode, std. dev.)\n",
    "The number of calls from motorists per day for roadside service was recorded for a \n",
    "particular month:\n",
    "\n",
    "28, 122, 217, 130, 120, 86, 80, 90, 140, 120, 70, 40, 145, 113, 90, 68, 174, 194, 170, \n",
    "100, 75, 104, 97, 75,\n",
    "123, 100, 75, 104, 97, 75, 123, 100, 89, 120, 109"
   ]
  },
  {
   "cell_type": "code",
   "execution_count": 2,
   "metadata": {},
   "outputs": [
    {
     "data": {
      "application/javascript": [
       "\n",
       "        if (window._pyforest_update_imports_cell) { window._pyforest_update_imports_cell('import numpy as np'); }\n",
       "    "
      ],
      "text/plain": [
       "<IPython.core.display.Javascript object>"
      ]
     },
     "metadata": {},
     "output_type": "display_data"
    },
    {
     "data": {
      "application/javascript": [
       "\n",
       "        if (window._pyforest_update_imports_cell) { window._pyforest_update_imports_cell('import numpy as np'); }\n",
       "    "
      ],
      "text/plain": [
       "<IPython.core.display.Javascript object>"
      ]
     },
     "metadata": {},
     "output_type": "display_data"
    },
    {
     "data": {
      "application/javascript": [
       "\n",
       "        if (window._pyforest_update_imports_cell) { window._pyforest_update_imports_cell('import numpy as np'); }\n",
       "    "
      ],
      "text/plain": [
       "<IPython.core.display.Javascript object>"
      ]
     },
     "metadata": {},
     "output_type": "display_data"
    },
    {
     "data": {
      "application/javascript": [
       "\n",
       "        if (window._pyforest_update_imports_cell) { window._pyforest_update_imports_cell('import numpy as np'); }\n",
       "    "
      ],
      "text/plain": [
       "<IPython.core.display.Javascript object>"
      ]
     },
     "metadata": {},
     "output_type": "display_data"
    },
    {
     "name": "stdout",
     "output_type": "stream",
     "text": [
      "Mean of given numbers is : 107\n",
      "Media of given numbers is : 100\n",
      "Mode of given numbers is : [75]\n",
      "Standard Deviation of given numbers is : 1503.335510\n"
     ]
    }
   ],
   "source": [
    "a = [28, 122, 217, 130, 120, 86, 80, 90, 140, 120, 70, 40, 145, 113, 90, 68,\n",
    "     174, 194, 170, 100, 75, 104, 97, 75, 123, 100, 75, 104, 97, 75, 123, 100, 89, 120, 109]\n",
    "\n",
    "def mean1(a):\n",
    "    mean = sum(a)/len(a)\n",
    "    return mean\n",
    "mean = mean1(a)\n",
    "\n",
    "def med(a):\n",
    "    a.sort()\n",
    "    n = len(a)\n",
    "    if n % 2 ==0:\n",
    "        n_2 = int(n/2)\n",
    "        median = (a[n_2-1]+a[n_2])/2\n",
    "    else:\n",
    "        n_2 = int((n+1)/2)\n",
    "        median = a[n_2-1]\n",
    "    return median\n",
    "median = med(a)\n",
    "\n",
    "def mode1(a):\n",
    "    b=np.array(a)\n",
    "    uq = np.unique(b)\n",
    "    feq = []\n",
    "    for item in uq:\n",
    "        feq.append(a.count(item))\n",
    "    feq = np.array(feq)\n",
    "    mode = list(uq[feq==max(feq)])\n",
    "    return mode\n",
    "mode = mode1(a)\n",
    "\n",
    "def stdev1 (a):\n",
    "    b=np.array(a)\n",
    "    stdev = mean1((b-mean)**2)\n",
    "    return stdev\n",
    "\n",
    "stdev = stdev1(a)\n",
    "\n",
    "print('Mean of given numbers is : %d' %mean)\n",
    "print('Media of given numbers is : %d' %median)\n",
    "print('Mode of given numbers is : {}' .format(mode))\n",
    "print('Standard Deviation of given numbers is : %f' %stdev)"
   ]
  },
  {
   "cell_type": "code",
   "execution_count": null,
   "metadata": {},
   "outputs": [],
   "source": []
  },
  {
   "cell_type": "markdown",
   "metadata": {},
   "source": [
    "## Problem 3\n",
    "The number of times I go to the gym in weekdays, are given below along with its \n",
    "associated probability:\n",
    "\n",
    "x = 0, 1, 2, 3, 4, 5\n",
    "\n",
    "f(x) = 0.09, 0.15, 0.40, 0.25, 0.10, 0.01\n",
    "\n",
    "Calculate the mean no. of workouts in a week. Also evaluate the variance involved in \n",
    "it."
   ]
  },
  {
   "cell_type": "code",
   "execution_count": 4,
   "metadata": {},
   "outputs": [
    {
     "data": {
      "application/javascript": [
       "\n",
       "        if (window._pyforest_update_imports_cell) { window._pyforest_update_imports_cell('import numpy as np'); }\n",
       "    "
      ],
      "text/plain": [
       "<IPython.core.display.Javascript object>"
      ]
     },
     "metadata": {},
     "output_type": "display_data"
    },
    {
     "data": {
      "application/javascript": [
       "\n",
       "        if (window._pyforest_update_imports_cell) { window._pyforest_update_imports_cell('import numpy as np'); }\n",
       "    "
      ],
      "text/plain": [
       "<IPython.core.display.Javascript object>"
      ]
     },
     "metadata": {},
     "output_type": "display_data"
    },
    {
     "name": "stdout",
     "output_type": "stream",
     "text": [
      "Mean of no. of workout per Week is : 2.15\n",
      "Variance of no. of workout per Week is : 1.2275\n"
     ]
    }
   ],
   "source": [
    "x = np.array([0, 1, 2, 3, 4, 5])\n",
    "prob = np.array([0.09, 0.15, 0.40, 0.25, 0.10, 0.01])\n",
    "Mean = sum(x * prob)\n",
    "Var = sum(((x - Mean))**2 * prob)\n",
    "print('Mean of no. of workout per Week is : {}'.format(Mean))\n",
    "print('Variance of no. of workout per Week is : {}'.format(Var))"
   ]
  },
  {
   "cell_type": "code",
   "execution_count": null,
   "metadata": {},
   "outputs": [],
   "source": []
  },
  {
   "cell_type": "markdown",
   "metadata": {},
   "source": [
    "## Problem 4\n",
    "Let the continuous random variable D denote the diameter of the hole drilled in an \n",
    "aluminum sheet. The target diameter to be achieved is 12.5mm. Random \n",
    "disturbances in the process often result in inaccuracy.\n",
    "Historical data shows that the distribution of D can be modelled by the PDF (𝑒) = \n",
    "20𝑓−20(𝑒−12.5), 𝑒 ≥ 12.5. If a part with diameter > 12.6 mm needs to be scrapped, \n",
    "what is the proportion of those parts? What is the CDF when the diameter is of 11 \n",
    "mm? What is your conclusion regarding the proportion of scraps?\n",
    "\n",
    "Solution ==>\n",
    "    - 𝜆."
   ]
  },
  {
   "cell_type": "code",
   "execution_count": null,
   "metadata": {},
   "outputs": [],
   "source": []
  },
  {
   "cell_type": "code",
   "execution_count": null,
   "metadata": {},
   "outputs": [],
   "source": []
  },
  {
   "cell_type": "markdown",
   "metadata": {},
   "source": [
    "## Problem 5\n",
    "Question:\n",
    "\n",
    "A company manufactures LED bulbs with a faulty rate of 30%. If I randomly select 6 \n",
    "chosen LEDs, what is the probability of having 2 faulty LEDs in my sample? \n",
    "Calculate the average value of this process. Also evaluate the standard deviation \n",
    "associated with it.\n",
    "\n",
    "Solution ==>\n",
    "    \n",
    "    - prob of success(LED is faulty) = p = 0.30\n",
    "    - n = 6, x = 2 - according to question\n",
    "    - We have to calculate P(X=2) \n",
    "    - Binomial Formula : nCx * p^x * q^(n-x)\n",
    "    - prob of 2 fault bulb = 6C2 * (0.3)^2 * (0.7)^4\n",
    "    - 6C2 = 15\n",
    "    - Mean for Binomial distribution = n*p\n",
    "    - variance formula for Binomial distribution - n*p*q"
   ]
  },
  {
   "cell_type": "code",
   "execution_count": 87,
   "metadata": {},
   "outputs": [
    {
     "data": {
      "text/plain": [
       "0.3241349999999999"
      ]
     },
     "execution_count": 87,
     "metadata": {},
     "output_type": "execute_result"
    }
   ],
   "source": [
    "prob = 15*(.3)**2*(.7)**4\n",
    "prob"
   ]
  },
  {
   "cell_type": "code",
   "execution_count": 91,
   "metadata": {},
   "outputs": [
    {
     "data": {
      "text/plain": [
       "1.7999999999999998"
      ]
     },
     "execution_count": 91,
     "metadata": {},
     "output_type": "execute_result"
    }
   ],
   "source": [
    "avg = 6 * 0.3\n",
    "avg"
   ]
  },
  {
   "cell_type": "code",
   "execution_count": 5,
   "metadata": {},
   "outputs": [
    {
     "data": {
      "text/plain": [
       "1.1224972160321822"
      ]
     },
     "execution_count": 5,
     "metadata": {},
     "output_type": "execute_result"
    }
   ],
   "source": [
    "std = (6 * 0.7 * 0.3)**0.5\n",
    "std"
   ]
  },
  {
   "cell_type": "code",
   "execution_count": null,
   "metadata": {},
   "outputs": [],
   "source": []
  },
  {
   "cell_type": "markdown",
   "metadata": {},
   "source": [
    "## Problem 6\n",
    "Gaurav and Barakha are both preparing for entrance exams. Gaurav attempts to \n",
    "solve 8 questions per day with a correction rate of 75%, while Barakha averages \n",
    "around 12 questions per day with a correction rate of 45%. What is the probability \n",
    "that each of them will solve 5 questions correctly? What happens in cases of 4 and 6 \n",
    "correct solutions? What do you infer from it? What are the two main governing \n",
    "factors affecting their ability to solve questions correctly? Give a pictorial \n",
    "representation of the same to validate your answer."
   ]
  },
  {
   "cell_type": "markdown",
   "metadata": {},
   "source": [
    "### Solution ==>\n",
    "    - For Gaurav n = 8  , p = 0.75 , q = 0.25\n",
    "            - Prob of 5 question correct = 8C5 * (0.75)^5 * (0.25)^3\n",
    "            \n",
    "    - For Barkha n = 12 , p = 0.45 , q = 0.55\n",
    "            - Prob of 5 question correct = 12C5 * (0.45)^5 * (0.55)^8"
   ]
  },
  {
   "cell_type": "code",
   "execution_count": 7,
   "metadata": {},
   "outputs": [
    {
     "name": "stdout",
     "output_type": "stream",
     "text": [
      "The probability of 5 question correct by Gaurav is : 0.2076416015625\n",
      "The probability of 5 question correct by Barkha is : 0.12237403113796211\n"
     ]
    }
   ],
   "source": [
    "import math\n",
    "def nCr(n, r): \n",
    "    return (math.factorial(n) / (math.factorial(r) * math.factorial(n - r)))\n",
    "\n",
    "Gau_p_5 = nCr(8,5)*(0.75)**5 * (0.25)**3\n",
    "Bar_p_5 = nCr(12,5)*(0.45)**5 * (0.55)**8\n",
    "print('The probability of 5 question correct by Gaurav is : {}'.format(Gau_p_5))\n",
    "print('The probability of 5 question correct by Barkha is : {}'.format(Bar_p_5))"
   ]
  },
  {
   "cell_type": "markdown",
   "metadata": {},
   "source": [
    "In case of 4 for Gaurav and 6 for Barkha"
   ]
  },
  {
   "cell_type": "code",
   "execution_count": 118,
   "metadata": {},
   "outputs": [
    {
     "name": "stdout",
     "output_type": "stream",
     "text": [
      "0.086517333984375\n",
      "0.2123846821402648\n"
     ]
    }
   ],
   "source": [
    "Gau_p_4 = nCr(8,4)*(0.75)**4 * (0.25)**4\n",
    "Bar_p_6 = nCr(12,6)*(0.45)**6 * (0.55)**6\n",
    "print(Gau_p_4)\n",
    "print(Bar_p_6)"
   ]
  },
  {
   "cell_type": "markdown",
   "metadata": {},
   "source": [
    "Observation from above:\n",
    "    - Probability of accuracy 50%  of total number of trials Gaurav's probability is less than     Barkha's probality even though Gaurav has higher probability of success as compare to Barkha.\n",
    "    - So we can conclude that number of success and probabilty of success both affect the final     outcome of binomial distribtion."
   ]
  },
  {
   "cell_type": "code",
   "execution_count": null,
   "metadata": {},
   "outputs": [],
   "source": []
  },
  {
   "cell_type": "markdown",
   "metadata": {},
   "source": [
    "## Problem 7\n",
    "Customers arrive at a rate of 72 per hour to my shop. What is the probability of 𝑘\n",
    "customers arriving in 4 minutes? a) 5 customers, b) not more than 3 customers, c) \n",
    "more than 3 customers. Give a pictorial representation of the same to validate your \n",
    "answer.\n",
    "\n",
    "#### Solution ==>\n",
    "    - Arrival rate = 72/hr = 1.2/min = 4.8 per 4 minute\n",
    "    - This is example of Poisson distribution with success rate 4.8 per 4 min\n",
    "    - a) 5 Customers ==> ( e(-4.8) * 4.8^5 )/factorial(5)\n",
    "    - b) less than equal to 3 ==> P(X=0) + P(X=1) + P(X=2) + P(X=3) \n",
    "    - c) more than 3 ==> 1 - prob of less than euql to 3"
   ]
  },
  {
   "cell_type": "code",
   "execution_count": 8,
   "metadata": {},
   "outputs": [
    {
     "data": {
      "application/javascript": [
       "\n",
       "        if (window._pyforest_update_imports_cell) { window._pyforest_update_imports_cell('import numpy as np'); }\n",
       "    "
      ],
      "text/plain": [
       "<IPython.core.display.Javascript object>"
      ]
     },
     "metadata": {},
     "output_type": "display_data"
    },
    {
     "data": {
      "application/javascript": [
       "\n",
       "        if (window._pyforest_update_imports_cell) { window._pyforest_update_imports_cell('import numpy as np'); }\n",
       "    "
      ],
      "text/plain": [
       "<IPython.core.display.Javascript object>"
      ]
     },
     "metadata": {},
     "output_type": "display_data"
    },
    {
     "data": {
      "application/javascript": [
       "\n",
       "        if (window._pyforest_update_imports_cell) { window._pyforest_update_imports_cell('import numpy as np'); }\n",
       "    "
      ],
      "text/plain": [
       "<IPython.core.display.Javascript object>"
      ]
     },
     "metadata": {},
     "output_type": "display_data"
    },
    {
     "data": {
      "application/javascript": [
       "\n",
       "        if (window._pyforest_update_imports_cell) { window._pyforest_update_imports_cell('import numpy as np'); }\n",
       "    "
      ],
      "text/plain": [
       "<IPython.core.display.Javascript object>"
      ]
     },
     "metadata": {},
     "output_type": "display_data"
    },
    {
     "data": {
      "application/javascript": [
       "\n",
       "        if (window._pyforest_update_imports_cell) { window._pyforest_update_imports_cell('import numpy as np'); }\n",
       "    "
      ],
      "text/plain": [
       "<IPython.core.display.Javascript object>"
      ]
     },
     "metadata": {},
     "output_type": "display_data"
    },
    {
     "name": "stdout",
     "output_type": "stream",
     "text": [
      "probability of getting 5 customer in 4 minute is : 0.17474768364388282\n",
      "probability of getting not more than 3  customer in 4 minute is : 0.2942299164965641\n",
      "probability of getting more than 3 customer in 4 minute is : 0.705770083503436\n"
     ]
    }
   ],
   "source": [
    "def poiss_prob(x,l):\n",
    "    return (np.exp(-l) * l**x)/math.factorial(x)\n",
    "a = poiss_prob(5,4.8)\n",
    "b = poiss_prob(0,4.8) + poiss_prob(1,4.8) + poiss_prob(2,4.8) + poiss_prob(3,4.8)\n",
    "c = 1 - b\n",
    "print('probability of getting 5 customer in 4 minute is : {}' .format(a))\n",
    "print('probability of getting not more than 3  customer in 4 minute is : {}' .format(b))\n",
    "print('probability of getting more than 3 customer in 4 minute is : {}' .format(c))"
   ]
  },
  {
   "cell_type": "code",
   "execution_count": null,
   "metadata": {},
   "outputs": [],
   "source": []
  },
  {
   "cell_type": "markdown",
   "metadata": {},
   "source": [
    "## Problem 8\n",
    "I work as a data analyst in Aeon Learning Pvt. Ltd. After analyzing data, I make \n",
    "reports, where I have the efficiency of entering 77 words per minute with 6 errors per \n",
    "hour. What is the probability that I will commit 2 errors in a 455-word financial report?\n",
    "What happens when the no. of words increases/decreases (in case of 1000 words, \n",
    "255 words)? \n",
    "\n",
    "How is the 𝜆 affected?\n",
    "\n",
    "How does it influence the PMF? Give a pictorial representation of the same to validate your answer.\n",
    "\n",
    "Solution ==>\n",
    "    - 77 word per minute -> 4620 word per hr.\n",
    "    - 6 error per hr -> chance or error per word is = 6/4620 = 0.001299.\n",
    "    - error rate 𝜆 for 455 word = 455 * (6/4620) = 0.59091.\n",
    "    - error rate 𝜆 for 1000 word = 1000 * (6/4620) = 1.2987.\n",
    "    - error rate 𝜆 for 255 word = 255 * (6/4620) = 0.331169.\n",
    "    - From above we can clearly see that if we incerase number of word error rate will increase     and if we lower the number of word error rate will decrese."
   ]
  },
  {
   "cell_type": "code",
   "execution_count": 43,
   "metadata": {},
   "outputs": [
    {
     "data": {
      "application/javascript": [
       "\n",
       "        if (window._pyforest_update_imports_cell) { window._pyforest_update_imports_cell('import numpy as np'); }\n",
       "    "
      ],
      "text/plain": [
       "<IPython.core.display.Javascript object>"
      ]
     },
     "metadata": {},
     "output_type": "display_data"
    },
    {
     "data": {
      "application/javascript": [
       "\n",
       "        if (window._pyforest_update_imports_cell) { window._pyforest_update_imports_cell('import numpy as np'); }\n",
       "    "
      ],
      "text/plain": [
       "<IPython.core.display.Javascript object>"
      ]
     },
     "metadata": {},
     "output_type": "display_data"
    },
    {
     "data": {
      "application/javascript": [
       "\n",
       "        if (window._pyforest_update_imports_cell) { window._pyforest_update_imports_cell('import numpy as np'); }\n",
       "    "
      ],
      "text/plain": [
       "<IPython.core.display.Javascript object>"
      ]
     },
     "metadata": {},
     "output_type": "display_data"
    },
    {
     "data": {
      "application/javascript": [
       "\n",
       "        if (window._pyforest_update_imports_cell) { window._pyforest_update_imports_cell('import numpy as np'); }\n",
       "    "
      ],
      "text/plain": [
       "<IPython.core.display.Javascript object>"
      ]
     },
     "metadata": {},
     "output_type": "display_data"
    },
    {
     "data": {
      "application/javascript": [
       "\n",
       "        if (window._pyforest_update_imports_cell) { window._pyforest_update_imports_cell('import numpy as np'); }\n",
       "    "
      ],
      "text/plain": [
       "<IPython.core.display.Javascript object>"
      ]
     },
     "metadata": {},
     "output_type": "display_data"
    },
    {
     "data": {
      "application/javascript": [
       "\n",
       "        if (window._pyforest_update_imports_cell) { window._pyforest_update_imports_cell('import numpy as np'); }\n",
       "    "
      ],
      "text/plain": [
       "<IPython.core.display.Javascript object>"
      ]
     },
     "metadata": {},
     "output_type": "display_data"
    },
    {
     "data": {
      "application/javascript": [
       "\n",
       "        if (window._pyforest_update_imports_cell) { window._pyforest_update_imports_cell('import numpy as np'); }\n",
       "    "
      ],
      "text/plain": [
       "<IPython.core.display.Javascript object>"
      ]
     },
     "metadata": {},
     "output_type": "display_data"
    },
    {
     "data": {
      "application/javascript": [
       "\n",
       "        if (window._pyforest_update_imports_cell) { window._pyforest_update_imports_cell('import numpy as np'); }\n",
       "    "
      ],
      "text/plain": [
       "<IPython.core.display.Javascript object>"
      ]
     },
     "metadata": {},
     "output_type": "display_data"
    },
    {
     "data": {
      "application/javascript": [
       "\n",
       "        if (window._pyforest_update_imports_cell) { window._pyforest_update_imports_cell('import numpy as np'); }\n",
       "    "
      ],
      "text/plain": [
       "<IPython.core.display.Javascript object>"
      ]
     },
     "metadata": {},
     "output_type": "display_data"
    },
    {
     "data": {
      "application/javascript": [
       "\n",
       "        if (window._pyforest_update_imports_cell) { window._pyforest_update_imports_cell('import numpy as np'); }\n",
       "    "
      ],
      "text/plain": [
       "<IPython.core.display.Javascript object>"
      ]
     },
     "metadata": {},
     "output_type": "display_data"
    },
    {
     "data": {
      "application/javascript": [
       "\n",
       "        if (window._pyforest_update_imports_cell) { window._pyforest_update_imports_cell('import numpy as np'); }\n",
       "    "
      ],
      "text/plain": [
       "<IPython.core.display.Javascript object>"
      ]
     },
     "metadata": {},
     "output_type": "display_data"
    },
    {
     "data": {
      "application/javascript": [
       "\n",
       "        if (window._pyforest_update_imports_cell) { window._pyforest_update_imports_cell('import numpy as np'); }\n",
       "    "
      ],
      "text/plain": [
       "<IPython.core.display.Javascript object>"
      ]
     },
     "metadata": {},
     "output_type": "display_data"
    },
    {
     "data": {
      "application/javascript": [
       "\n",
       "        if (window._pyforest_update_imports_cell) { window._pyforest_update_imports_cell('import numpy as np'); }\n",
       "    "
      ],
      "text/plain": [
       "<IPython.core.display.Javascript object>"
      ]
     },
     "metadata": {},
     "output_type": "display_data"
    },
    {
     "data": {
      "application/javascript": [
       "\n",
       "        if (window._pyforest_update_imports_cell) { window._pyforest_update_imports_cell('import numpy as np'); }\n",
       "    "
      ],
      "text/plain": [
       "<IPython.core.display.Javascript object>"
      ]
     },
     "metadata": {},
     "output_type": "display_data"
    },
    {
     "data": {
      "application/javascript": [
       "\n",
       "        if (window._pyforest_update_imports_cell) { window._pyforest_update_imports_cell('import numpy as np'); }\n",
       "    "
      ],
      "text/plain": [
       "<IPython.core.display.Javascript object>"
      ]
     },
     "metadata": {},
     "output_type": "display_data"
    },
    {
     "data": {
      "application/javascript": [
       "\n",
       "        if (window._pyforest_update_imports_cell) { window._pyforest_update_imports_cell('import numpy as np'); }\n",
       "    "
      ],
      "text/plain": [
       "<IPython.core.display.Javascript object>"
      ]
     },
     "metadata": {},
     "output_type": "display_data"
    },
    {
     "data": {
      "application/javascript": [
       "\n",
       "        if (window._pyforest_update_imports_cell) { window._pyforest_update_imports_cell('import numpy as np'); }\n",
       "    "
      ],
      "text/plain": [
       "<IPython.core.display.Javascript object>"
      ]
     },
     "metadata": {},
     "output_type": "display_data"
    },
    {
     "data": {
      "application/javascript": [
       "\n",
       "        if (window._pyforest_update_imports_cell) { window._pyforest_update_imports_cell('import numpy as np'); }\n",
       "    "
      ],
      "text/plain": [
       "<IPython.core.display.Javascript object>"
      ]
     },
     "metadata": {},
     "output_type": "display_data"
    },
    {
     "data": {
      "application/javascript": [
       "\n",
       "        if (window._pyforest_update_imports_cell) { window._pyforest_update_imports_cell('import numpy as np'); }\n",
       "    "
      ],
      "text/plain": [
       "<IPython.core.display.Javascript object>"
      ]
     },
     "metadata": {},
     "output_type": "display_data"
    },
    {
     "data": {
      "application/javascript": [
       "\n",
       "        if (window._pyforest_update_imports_cell) { window._pyforest_update_imports_cell('import numpy as np'); }\n",
       "    "
      ],
      "text/plain": [
       "<IPython.core.display.Javascript object>"
      ]
     },
     "metadata": {},
     "output_type": "display_data"
    },
    {
     "data": {
      "application/javascript": [
       "\n",
       "        if (window._pyforest_update_imports_cell) { window._pyforest_update_imports_cell('import numpy as np'); }\n",
       "    "
      ],
      "text/plain": [
       "<IPython.core.display.Javascript object>"
      ]
     },
     "metadata": {},
     "output_type": "display_data"
    },
    {
     "data": {
      "application/javascript": [
       "\n",
       "        if (window._pyforest_update_imports_cell) { window._pyforest_update_imports_cell('import numpy as np'); }\n",
       "    "
      ],
      "text/plain": [
       "<IPython.core.display.Javascript object>"
      ]
     },
     "metadata": {},
     "output_type": "display_data"
    },
    {
     "data": {
      "application/javascript": [
       "\n",
       "        if (window._pyforest_update_imports_cell) { window._pyforest_update_imports_cell('import numpy as np'); }\n",
       "    "
      ],
      "text/plain": [
       "<IPython.core.display.Javascript object>"
      ]
     },
     "metadata": {},
     "output_type": "display_data"
    },
    {
     "data": {
      "application/javascript": [
       "\n",
       "        if (window._pyforest_update_imports_cell) { window._pyforest_update_imports_cell('import numpy as np'); }\n",
       "    "
      ],
      "text/plain": [
       "<IPython.core.display.Javascript object>"
      ]
     },
     "metadata": {},
     "output_type": "display_data"
    },
    {
     "data": {
      "application/javascript": [
       "\n",
       "        if (window._pyforest_update_imports_cell) { window._pyforest_update_imports_cell('import numpy as np'); }\n",
       "    "
      ],
      "text/plain": [
       "<IPython.core.display.Javascript object>"
      ]
     },
     "metadata": {},
     "output_type": "display_data"
    },
    {
     "data": {
      "application/javascript": [
       "\n",
       "        if (window._pyforest_update_imports_cell) { window._pyforest_update_imports_cell('import numpy as np'); }\n",
       "    "
      ],
      "text/plain": [
       "<IPython.core.display.Javascript object>"
      ]
     },
     "metadata": {},
     "output_type": "display_data"
    },
    {
     "data": {
      "application/javascript": [
       "\n",
       "        if (window._pyforest_update_imports_cell) { window._pyforest_update_imports_cell('import numpy as np'); }\n",
       "    "
      ],
      "text/plain": [
       "<IPython.core.display.Javascript object>"
      ]
     },
     "metadata": {},
     "output_type": "display_data"
    },
    {
     "data": {
      "application/javascript": [
       "\n",
       "        if (window._pyforest_update_imports_cell) { window._pyforest_update_imports_cell('import numpy as np'); }\n",
       "    "
      ],
      "text/plain": [
       "<IPython.core.display.Javascript object>"
      ]
     },
     "metadata": {},
     "output_type": "display_data"
    },
    {
     "data": {
      "application/javascript": [
       "\n",
       "        if (window._pyforest_update_imports_cell) { window._pyforest_update_imports_cell('import numpy as np'); }\n",
       "    "
      ],
      "text/plain": [
       "<IPython.core.display.Javascript object>"
      ]
     },
     "metadata": {},
     "output_type": "display_data"
    },
    {
     "data": {
      "application/javascript": [
       "\n",
       "        if (window._pyforest_update_imports_cell) { window._pyforest_update_imports_cell('import numpy as np'); }\n",
       "    "
      ],
      "text/plain": [
       "<IPython.core.display.Javascript object>"
      ]
     },
     "metadata": {},
     "output_type": "display_data"
    },
    {
     "data": {
      "application/javascript": [
       "\n",
       "        if (window._pyforest_update_imports_cell) { window._pyforest_update_imports_cell('import numpy as np'); }\n",
       "    "
      ],
      "text/plain": [
       "<IPython.core.display.Javascript object>"
      ]
     },
     "metadata": {},
     "output_type": "display_data"
    },
    {
     "data": {
      "application/javascript": [
       "\n",
       "        if (window._pyforest_update_imports_cell) { window._pyforest_update_imports_cell('import numpy as np'); }\n",
       "    "
      ],
      "text/plain": [
       "<IPython.core.display.Javascript object>"
      ]
     },
     "metadata": {},
     "output_type": "display_data"
    },
    {
     "data": {
      "application/javascript": [
       "\n",
       "        if (window._pyforest_update_imports_cell) { window._pyforest_update_imports_cell('import numpy as np'); }\n",
       "    "
      ],
      "text/plain": [
       "<IPython.core.display.Javascript object>"
      ]
     },
     "metadata": {},
     "output_type": "display_data"
    },
    {
     "data": {
      "application/javascript": [
       "\n",
       "        if (window._pyforest_update_imports_cell) { window._pyforest_update_imports_cell('import numpy as np'); }\n",
       "    "
      ],
      "text/plain": [
       "<IPython.core.display.Javascript object>"
      ]
     },
     "metadata": {},
     "output_type": "display_data"
    },
    {
     "data": {
      "application/javascript": [
       "\n",
       "        if (window._pyforest_update_imports_cell) { window._pyforest_update_imports_cell('import numpy as np'); }\n",
       "    "
      ],
      "text/plain": [
       "<IPython.core.display.Javascript object>"
      ]
     },
     "metadata": {},
     "output_type": "display_data"
    },
    {
     "data": {
      "application/javascript": [
       "\n",
       "        if (window._pyforest_update_imports_cell) { window._pyforest_update_imports_cell('import numpy as np'); }\n",
       "    "
      ],
      "text/plain": [
       "<IPython.core.display.Javascript object>"
      ]
     },
     "metadata": {},
     "output_type": "display_data"
    },
    {
     "data": {
      "application/javascript": [
       "\n",
       "        if (window._pyforest_update_imports_cell) { window._pyforest_update_imports_cell('import numpy as np'); }\n",
       "    "
      ],
      "text/plain": [
       "<IPython.core.display.Javascript object>"
      ]
     },
     "metadata": {},
     "output_type": "display_data"
    },
    {
     "data": {
      "application/javascript": [
       "\n",
       "        if (window._pyforest_update_imports_cell) { window._pyforest_update_imports_cell('import numpy as np'); }\n",
       "    "
      ],
      "text/plain": [
       "<IPython.core.display.Javascript object>"
      ]
     },
     "metadata": {},
     "output_type": "display_data"
    },
    {
     "data": {
      "application/javascript": [
       "\n",
       "        if (window._pyforest_update_imports_cell) { window._pyforest_update_imports_cell('import numpy as np'); }\n",
       "    "
      ],
      "text/plain": [
       "<IPython.core.display.Javascript object>"
      ]
     },
     "metadata": {},
     "output_type": "display_data"
    },
    {
     "data": {
      "application/javascript": [
       "\n",
       "        if (window._pyforest_update_imports_cell) { window._pyforest_update_imports_cell('import numpy as np'); }\n",
       "    "
      ],
      "text/plain": [
       "<IPython.core.display.Javascript object>"
      ]
     },
     "metadata": {},
     "output_type": "display_data"
    },
    {
     "data": {
      "application/javascript": [
       "\n",
       "        if (window._pyforest_update_imports_cell) { window._pyforest_update_imports_cell('import numpy as np'); }\n",
       "    "
      ],
      "text/plain": [
       "<IPython.core.display.Javascript object>"
      ]
     },
     "metadata": {},
     "output_type": "display_data"
    },
    {
     "data": {
      "application/javascript": [
       "\n",
       "        if (window._pyforest_update_imports_cell) { window._pyforest_update_imports_cell('import numpy as np'); }\n",
       "    "
      ],
      "text/plain": [
       "<IPython.core.display.Javascript object>"
      ]
     },
     "metadata": {},
     "output_type": "display_data"
    },
    {
     "data": {
      "application/javascript": [
       "\n",
       "        if (window._pyforest_update_imports_cell) { window._pyforest_update_imports_cell('import numpy as np'); }\n",
       "    "
      ],
      "text/plain": [
       "<IPython.core.display.Javascript object>"
      ]
     },
     "metadata": {},
     "output_type": "display_data"
    },
    {
     "data": {
      "application/javascript": [
       "\n",
       "        if (window._pyforest_update_imports_cell) { window._pyforest_update_imports_cell('import numpy as np'); }\n",
       "    "
      ],
      "text/plain": [
       "<IPython.core.display.Javascript object>"
      ]
     },
     "metadata": {},
     "output_type": "display_data"
    },
    {
     "data": {
      "application/javascript": [
       "\n",
       "        if (window._pyforest_update_imports_cell) { window._pyforest_update_imports_cell('import numpy as np'); }\n",
       "    "
      ],
      "text/plain": [
       "<IPython.core.display.Javascript object>"
      ]
     },
     "metadata": {},
     "output_type": "display_data"
    },
    {
     "data": {
      "application/javascript": [
       "\n",
       "        if (window._pyforest_update_imports_cell) { window._pyforest_update_imports_cell('import numpy as np'); }\n",
       "    "
      ],
      "text/plain": [
       "<IPython.core.display.Javascript object>"
      ]
     },
     "metadata": {},
     "output_type": "display_data"
    },
    {
     "data": {
      "application/javascript": [
       "\n",
       "        if (window._pyforest_update_imports_cell) { window._pyforest_update_imports_cell('import numpy as np'); }\n",
       "    "
      ],
      "text/plain": [
       "<IPython.core.display.Javascript object>"
      ]
     },
     "metadata": {},
     "output_type": "display_data"
    },
    {
     "data": {
      "application/javascript": [
       "\n",
       "        if (window._pyforest_update_imports_cell) { window._pyforest_update_imports_cell('import numpy as np'); }\n",
       "    "
      ],
      "text/plain": [
       "<IPython.core.display.Javascript object>"
      ]
     },
     "metadata": {},
     "output_type": "display_data"
    },
    {
     "data": {
      "application/javascript": [
       "\n",
       "        if (window._pyforest_update_imports_cell) { window._pyforest_update_imports_cell('import numpy as np'); }\n",
       "    "
      ],
      "text/plain": [
       "<IPython.core.display.Javascript object>"
      ]
     },
     "metadata": {},
     "output_type": "display_data"
    },
    {
     "data": {
      "application/javascript": [
       "\n",
       "        if (window._pyforest_update_imports_cell) { window._pyforest_update_imports_cell('import numpy as np'); }\n",
       "    "
      ],
      "text/plain": [
       "<IPython.core.display.Javascript object>"
      ]
     },
     "metadata": {},
     "output_type": "display_data"
    },
    {
     "data": {
      "application/javascript": [
       "\n",
       "        if (window._pyforest_update_imports_cell) { window._pyforest_update_imports_cell('import numpy as np'); }\n",
       "    "
      ],
      "text/plain": [
       "<IPython.core.display.Javascript object>"
      ]
     },
     "metadata": {},
     "output_type": "display_data"
    },
    {
     "data": {
      "application/javascript": [
       "\n",
       "        if (window._pyforest_update_imports_cell) { window._pyforest_update_imports_cell('import numpy as np'); }\n",
       "    "
      ],
      "text/plain": [
       "<IPython.core.display.Javascript object>"
      ]
     },
     "metadata": {},
     "output_type": "display_data"
    },
    {
     "data": {
      "application/javascript": [
       "\n",
       "        if (window._pyforest_update_imports_cell) { window._pyforest_update_imports_cell('import numpy as np'); }\n",
       "    "
      ],
      "text/plain": [
       "<IPython.core.display.Javascript object>"
      ]
     },
     "metadata": {},
     "output_type": "display_data"
    },
    {
     "data": {
      "application/javascript": [
       "\n",
       "        if (window._pyforest_update_imports_cell) { window._pyforest_update_imports_cell('import numpy as np'); }\n",
       "    "
      ],
      "text/plain": [
       "<IPython.core.display.Javascript object>"
      ]
     },
     "metadata": {},
     "output_type": "display_data"
    },
    {
     "data": {
      "application/javascript": [
       "\n",
       "        if (window._pyforest_update_imports_cell) { window._pyforest_update_imports_cell('import numpy as np'); }\n",
       "    "
      ],
      "text/plain": [
       "<IPython.core.display.Javascript object>"
      ]
     },
     "metadata": {},
     "output_type": "display_data"
    },
    {
     "data": {
      "application/javascript": [
       "\n",
       "        if (window._pyforest_update_imports_cell) { window._pyforest_update_imports_cell('import numpy as np'); }\n",
       "    "
      ],
      "text/plain": [
       "<IPython.core.display.Javascript object>"
      ]
     },
     "metadata": {},
     "output_type": "display_data"
    },
    {
     "data": {
      "application/javascript": [
       "\n",
       "        if (window._pyforest_update_imports_cell) { window._pyforest_update_imports_cell('import numpy as np'); }\n",
       "    "
      ],
      "text/plain": [
       "<IPython.core.display.Javascript object>"
      ]
     },
     "metadata": {},
     "output_type": "display_data"
    },
    {
     "data": {
      "application/javascript": [
       "\n",
       "        if (window._pyforest_update_imports_cell) { window._pyforest_update_imports_cell('import numpy as np'); }\n",
       "    "
      ],
      "text/plain": [
       "<IPython.core.display.Javascript object>"
      ]
     },
     "metadata": {},
     "output_type": "display_data"
    },
    {
     "data": {
      "application/javascript": [
       "\n",
       "        if (window._pyforest_update_imports_cell) { window._pyforest_update_imports_cell('import numpy as np'); }\n",
       "    "
      ],
      "text/plain": [
       "<IPython.core.display.Javascript object>"
      ]
     },
     "metadata": {},
     "output_type": "display_data"
    },
    {
     "data": {
      "application/javascript": [
       "\n",
       "        if (window._pyforest_update_imports_cell) { window._pyforest_update_imports_cell('import numpy as np'); }\n",
       "    "
      ],
      "text/plain": [
       "<IPython.core.display.Javascript object>"
      ]
     },
     "metadata": {},
     "output_type": "display_data"
    },
    {
     "data": {
      "application/javascript": [
       "\n",
       "        if (window._pyforest_update_imports_cell) { window._pyforest_update_imports_cell('import numpy as np'); }\n",
       "    "
      ],
      "text/plain": [
       "<IPython.core.display.Javascript object>"
      ]
     },
     "metadata": {},
     "output_type": "display_data"
    },
    {
     "data": {
      "application/javascript": [
       "\n",
       "        if (window._pyforest_update_imports_cell) { window._pyforest_update_imports_cell('import numpy as np'); }\n",
       "    "
      ],
      "text/plain": [
       "<IPython.core.display.Javascript object>"
      ]
     },
     "metadata": {},
     "output_type": "display_data"
    },
    {
     "data": {
      "application/javascript": [
       "\n",
       "        if (window._pyforest_update_imports_cell) { window._pyforest_update_imports_cell('import numpy as np'); }\n",
       "    "
      ],
      "text/plain": [
       "<IPython.core.display.Javascript object>"
      ]
     },
     "metadata": {},
     "output_type": "display_data"
    },
    {
     "data": {
      "application/javascript": [
       "\n",
       "        if (window._pyforest_update_imports_cell) { window._pyforest_update_imports_cell('import numpy as np'); }\n",
       "    "
      ],
      "text/plain": [
       "<IPython.core.display.Javascript object>"
      ]
     },
     "metadata": {},
     "output_type": "display_data"
    },
    {
     "data": {
      "application/javascript": [
       "\n",
       "        if (window._pyforest_update_imports_cell) { window._pyforest_update_imports_cell('import numpy as np'); }\n",
       "    "
      ],
      "text/plain": [
       "<IPython.core.display.Javascript object>"
      ]
     },
     "metadata": {},
     "output_type": "display_data"
    },
    {
     "data": {
      "application/javascript": [
       "\n",
       "        if (window._pyforest_update_imports_cell) { window._pyforest_update_imports_cell('import numpy as np'); }\n",
       "    "
      ],
      "text/plain": [
       "<IPython.core.display.Javascript object>"
      ]
     },
     "metadata": {},
     "output_type": "display_data"
    },
    {
     "data": {
      "application/javascript": [
       "\n",
       "        if (window._pyforest_update_imports_cell) { window._pyforest_update_imports_cell('import numpy as np'); }\n",
       "    "
      ],
      "text/plain": [
       "<IPython.core.display.Javascript object>"
      ]
     },
     "metadata": {},
     "output_type": "display_data"
    },
    {
     "data": {
      "application/javascript": [
       "\n",
       "        if (window._pyforest_update_imports_cell) { window._pyforest_update_imports_cell('import numpy as np'); }\n",
       "    "
      ],
      "text/plain": [
       "<IPython.core.display.Javascript object>"
      ]
     },
     "metadata": {},
     "output_type": "display_data"
    },
    {
     "data": {
      "application/javascript": [
       "\n",
       "        if (window._pyforest_update_imports_cell) { window._pyforest_update_imports_cell('import numpy as np'); }\n",
       "    "
      ],
      "text/plain": [
       "<IPython.core.display.Javascript object>"
      ]
     },
     "metadata": {},
     "output_type": "display_data"
    },
    {
     "data": {
      "application/javascript": [
       "\n",
       "        if (window._pyforest_update_imports_cell) { window._pyforest_update_imports_cell('import numpy as np'); }\n",
       "    "
      ],
      "text/plain": [
       "<IPython.core.display.Javascript object>"
      ]
     },
     "metadata": {},
     "output_type": "display_data"
    },
    {
     "data": {
      "application/javascript": [
       "\n",
       "        if (window._pyforest_update_imports_cell) { window._pyforest_update_imports_cell('import numpy as np'); }\n",
       "    "
      ],
      "text/plain": [
       "<IPython.core.display.Javascript object>"
      ]
     },
     "metadata": {},
     "output_type": "display_data"
    },
    {
     "data": {
      "application/javascript": [
       "\n",
       "        if (window._pyforest_update_imports_cell) { window._pyforest_update_imports_cell('import numpy as np'); }\n",
       "    "
      ],
      "text/plain": [
       "<IPython.core.display.Javascript object>"
      ]
     },
     "metadata": {},
     "output_type": "display_data"
    },
    {
     "data": {
      "application/javascript": [
       "\n",
       "        if (window._pyforest_update_imports_cell) { window._pyforest_update_imports_cell('import numpy as np'); }\n",
       "    "
      ],
      "text/plain": [
       "<IPython.core.display.Javascript object>"
      ]
     },
     "metadata": {},
     "output_type": "display_data"
    },
    {
     "data": {
      "application/javascript": [
       "\n",
       "        if (window._pyforest_update_imports_cell) { window._pyforest_update_imports_cell('import numpy as np'); }\n",
       "    "
      ],
      "text/plain": [
       "<IPython.core.display.Javascript object>"
      ]
     },
     "metadata": {},
     "output_type": "display_data"
    },
    {
     "data": {
      "application/javascript": [
       "\n",
       "        if (window._pyforest_update_imports_cell) { window._pyforest_update_imports_cell('import numpy as np'); }\n",
       "    "
      ],
      "text/plain": [
       "<IPython.core.display.Javascript object>"
      ]
     },
     "metadata": {},
     "output_type": "display_data"
    },
    {
     "data": {
      "application/javascript": [
       "\n",
       "        if (window._pyforest_update_imports_cell) { window._pyforest_update_imports_cell('import numpy as np'); }\n",
       "    "
      ],
      "text/plain": [
       "<IPython.core.display.Javascript object>"
      ]
     },
     "metadata": {},
     "output_type": "display_data"
    },
    {
     "name": "stdout",
     "output_type": "stream",
     "text": [
      "from graph we can observe that if we increse value \n",
      "  of 𝜆 probability plot will more look like normal distribution\n"
     ]
    },
    {
     "data": {
      "image/png": "[encoded data removed]",
      "text/plain": [
       "<Figure size 432x288 with 1 Axes>"
      ]
     },
     "metadata": {
      "needs_background": "light"
     },
     "output_type": "display_data"
    }
   ],
   "source": [
    "import matplotlib.pyplot as plt\n",
    "def poiss_prob(x,l):\n",
    "    return (np.exp(-l) * l**x)/math.factorial(x)\n",
    "t = np.arange(0, 15, 1)\n",
    "pois_0_59 = [poiss_prob(i,0.59) for i in t]\n",
    "pois_1_29 = [poiss_prob(i,1.29) for i in t]\n",
    "pois_0_33 = [poiss_prob(i,0.33) for i in t]\n",
    "pois_10_00 = [poiss_prob(i,10) for i in t]\n",
    "pois_20_00 = [poiss_prob(i,20) for i in t]\n",
    "plt.plot(t, pois_0_59, 'b')\n",
    "plt.plot(t, pois_1_29, 'r') \n",
    "plt.plot(t, pois_0_33, 'g') \n",
    "plt.plot(t, pois_10_00, 'r*-')\n",
    "print('''from graph we can observe that if we increse value \n",
    "  of 𝜆 probability plot will more look like normal distribution''')"
   ]
  },
  {
   "cell_type": "code",
   "execution_count": null,
   "metadata": {},
   "outputs": [],
   "source": []
  },
  {
   "cell_type": "code",
   "execution_count": null,
   "metadata": {},
   "outputs": [],
   "source": []
  },
  {
   "cell_type": "markdown",
   "metadata": {},
   "source": [
    "## Problem 9:\n",
    "Let the continuous random variable D denote the diameter of the hole drilled in an \n",
    "aluminum sheet. The target diameter to be achieved is 12.5mm. Random \n",
    "disturbances in the process often result in inaccuracy.\n",
    "Historical data shows that the distribution of D can be modelled by the PDF, f(d) = \n",
    "20e−20(d−12.5), d ≥ 12.5. If a part with diameter > 12.6 mm needs to be scrapped, \n",
    "what is the proportion of those parts? What is the CDF when the diameter is of 11 \n",
    "mm?\n",
    "What is the conclusion of this experiment?\n",
    "\n",
    "Solution ==>\n",
    "    - we can use transformation x = d - 12.5 ==> if d >= 12.5 then x >= 0.\n",
    "    - After using transformation pdf for x will be f(x) = 20 * e^(-20 * x) ; x >= 0. which is           exponential distribution with scale parameter 𝜆 = 1/20.\n",
    "    - cdf for x will be F(x) = P(X <= x) = 1 - e^(-20 * x) and P( X >= x) = e^(-20 * x).\n",
    "    - d >= 12.6 ==> x >= 0.1 ==> P(x >= 0.1) = 1 - P(x <= 0.1) = 1 - exponcdf(0.1)."
   ]
  },
  {
   "cell_type": "code",
   "execution_count": 27,
   "metadata": {},
   "outputs": [
    {
     "name": "stdout",
     "output_type": "stream",
     "text": [
      "The proportion of parts with diameter > 12.6 is : 0.1353352832366127\n"
     ]
    }
   ],
   "source": [
    "from scipy.stats import expon\n",
    "p =  1 - expon.cdf(0.1,scale = 1/20)\n",
    "print('The proportion of parts with diameter > 12.6 is : {}'.format(p))"
   ]
  },
  {
   "cell_type": "code",
   "execution_count": null,
   "metadata": {},
   "outputs": [],
   "source": []
  },
  {
   "cell_type": "code",
   "execution_count": null,
   "metadata": {},
   "outputs": [],
   "source": []
  },
  {
   "cell_type": "markdown",
   "metadata": {},
   "source": [
    "## Problem  10:\n",
    "Please compute the following:\n",
    "\n",
    "- a) P(Z > 1.26), . P(Z < −0.86), P(Z > −1.37), P(−1.25 < Z < 0.37), . P(Z ≤ −4.6)\n",
    "- b) Find the value 𝑧 such that 𝑃(𝑍 > 𝑧) = 0.05\n",
    "- c) Find the value of 𝑧 such that 𝑃(−𝑧 < 𝑍 < 𝑧) = 0.99"
   ]
  },
  {
   "cell_type": "markdown",
   "metadata": {},
   "source": [
    "### Solution a ==>\n",
    " - P(Z>1.26) = 1 - P(Z <= 1.26) = 1 - normcdf(1.26).\n",
    " - P(Z < −0.86) = normcdf(-0.86).\n",
    " - P(Z > −1.37) = 1 - P(Z <= -1.37) = 1 - normcdf(-1.37).\n",
    " - P(−1.25 < Z < 0.37) = P(Z<=0.37) - P(Z <= -1.25) = normcdf(0.37) - normcdf(-1.25).\n",
    " - P(Z ≤ −4.6) = normcdf(-4.6)."
   ]
  },
  {
   "cell_type": "code",
   "execution_count": 54,
   "metadata": {},
   "outputs": [
    {
     "name": "stdout",
     "output_type": "stream",
     "text": [
      "P(Z>1.26) is : 0.10383468112130045\n",
      "P(Z < −0.86) is : 0.1948945212518084\n",
      "P(Z > −1.37) is : 0.914656549178033\n",
      "P(−1.25 < Z < 0.37) is : 0.5386589811336914\n",
      "P(Z ≤ −4.6) is : 2.1124547025028537e-06\n"
     ]
    }
   ],
   "source": [
    "from scipy.stats import norm\n",
    "a1 = 1 - norm.cdf(1.26)\n",
    "a2 = norm.cdf(-0.86)\n",
    "a3 = 1 - norm.cdf(-1.37)\n",
    "a4 = norm.cdf(0.37) - norm.cdf(-1.25)\n",
    "a5 = norm.cdf(-4.6)\n",
    "print('P(Z>1.26) is : {}'.format(a1))\n",
    "print('P(Z < −0.86) is : {}'.format(a2))\n",
    "print('P(Z > −1.37) is : {}'.format(a3))\n",
    "print('P(−1.25 < Z < 0.37) is : {}'.format(a4))\n",
    "print('P(Z ≤ −4.6) is : {}'.format(a5))"
   ]
  },
  {
   "cell_type": "markdown",
   "metadata": {},
   "source": [
    "### Solution b ==>\n",
    "- 𝑃(𝑍 > 𝑧) = 0.05  ==> 1 - P(Z <= z) = 0.05 .\n",
    "        - P(Z <= z) = 0.95 ==> normcdf(z) = 0.95\n"
   ]
  },
  {
   "cell_type": "code",
   "execution_count": 6,
   "metadata": {},
   "outputs": [
    {
     "data": {
      "text/plain": [
       "1.6448536269514722"
      ]
     },
     "execution_count": 6,
     "metadata": {},
     "output_type": "execute_result"
    }
   ],
   "source": [
    "from scipy.stats import norm\n",
    "norm.ppf(0.95)"
   ]
  },
  {
   "cell_type": "code",
   "execution_count": 7,
   "metadata": {},
   "outputs": [
    {
     "data": {
      "text/plain": [
       "0.9973002039367398"
      ]
     },
     "execution_count": 7,
     "metadata": {},
     "output_type": "execute_result"
    }
   ],
   "source": [
    "norm.cdf(3) - norm.cdf(-3)    # 3-sigma limit "
   ]
  },
  {
   "cell_type": "markdown",
   "metadata": {},
   "source": [
    "### Solution c ==> \n",
    "- 𝑃(−𝑧 < 𝑍 < 𝑧) = 0.99\n",
    "        - we know that P(Z <= 0) = P( Z >= 0) = 0.5  i.e. Symmetric distribution.\n",
    "        - 𝑃(−𝑧 < 𝑍 < 𝑧) = P(-z < Z < 0 ) + P(0 < Z < z).\n",
    "        - P(-z < Z < z) = 2 * P(0 < Z < z) = 0.99.\n",
    "        - P(0 < Z < z) = 0.99/2 = 0.495.\n",
    "        - P(0 < Z < z) = P(Z < z) - P(Z < 0) = P(Z < z) - 0.5.\n",
    "        - P(Z < z) - 0.5 = 0.495 ==> P(Z < z) = 0.995."
   ]
  },
  {
   "cell_type": "code",
   "execution_count": 12,
   "metadata": {},
   "outputs": [
    {
     "name": "stdout",
     "output_type": "stream",
     "text": [
      "If 𝑃(−𝑧 < 𝑍 < 𝑧) = 0.99 the value of z is : 2.5758293035489004\n"
     ]
    }
   ],
   "source": [
    "zs = norm.ppf(0.995)\n",
    "print('If 𝑃(−𝑧 < 𝑍 < 𝑧) = 0.99 the value of z is : {}'.format(zs))"
   ]
  },
  {
   "cell_type": "code",
   "execution_count": null,
   "metadata": {},
   "outputs": [],
   "source": []
  },
  {
   "cell_type": "markdown",
   "metadata": {},
   "source": [
    "## Problem 11\n",
    "The current flow in a copper wire follow a normal distribution with a mean of 10 𝑚A \n",
    "and a variance of 4 (𝑚𝐴)2. \n",
    "What is the probability that a current measurement will exceed 13 𝑚𝐴? What is the \n",
    "probability that a current measurement is between 9 and 11mA? Determine the \n",
    "current measurement which has a probability of 0.98.\n",
    "\n",
    "Solution ==>\n",
    "    - let x be the current flow in copper wire. x follows N(mean = 10 , sd = 2).\n",
    "    - Prob of Current measure exceed 13mA = P(x >= 13) = 1 - P(x <= 13) = 1 - normcdf(13).\n",
    "    - probability that a current between 9 and 11 = P(9 < x < 11) = P(x <= 11) - P(x <= 9).\n",
    "    - If P(X < x ) = 0.98 the find x. "
   ]
  },
  {
   "cell_type": "code",
   "execution_count": 36,
   "metadata": {},
   "outputs": [
    {
     "name": "stdout",
     "output_type": "stream",
     "text": [
      "Prob of Current measure exceed 13mA is :0.5\n",
      "Probability that a current between 9 and 11mA is : 0.13590512198327787\n",
      "There is 0.98 prob for current measure below  : 17.107497821263646\n"
     ]
    }
   ],
   "source": [
    "from scipy.stats import norm\n",
    "a = 1 - norm.cdf(13,loc = 13 , scale = 2)\n",
    "b = norm.cdf(11,loc = 13 , scale = 2) - norm.cdf(9,loc = 13 , scale = 2)\n",
    "c = norm.ppf(0.98,loc = 13 , scale = 2)\n",
    "print('Prob of Current measure exceed 13mA is :{}'.format(a))\n",
    "print('Probability that a current between 9 and 11mA is : {}'.format(b))\n",
    "print('There is 0.98 prob for current measure below  : {}'.format(c))"
   ]
  },
  {
   "cell_type": "code",
   "execution_count": null,
   "metadata": {},
   "outputs": [],
   "source": []
  },
  {
   "cell_type": "code",
   "execution_count": null,
   "metadata": {},
   "outputs": [],
   "source": []
  },
  {
   "cell_type": "markdown",
   "metadata": {},
   "source": [
    "## Problem 12\n",
    "The shaft in a piston has its diameter normally distributed with a mean of 0.2508 inch \n",
    "and a standard deviation of 0.0005 inch. The specifications of the shaft are 0.2500 ∓\n",
    "0.0015 inch. What proportion of shafts are in sync with the specifications? If the \n",
    "process is centered so that the mean is equal to the target value of 0.2500, what \n",
    "proportion of shafts conform to the new specifications? What is your conclusion from \n",
    "this experiment?\n",
    "\n",
    "Solution ==>\n",
    "    - let diameter of shaft is x, x follows N(mean = 0.2508 inch , sd = 0.0005 inch).\n",
    "    - The specifications of the shaft are 0.2500 ∓ 0.0015 inch \n",
    "       i.e. between 0.2485 and 0.2515.\n",
    "    - P(0.2485 < x <  0.2515) = P(x <  0.2515) - P(x < 0.2485)  \n",
    "                                        = normcdf(0.2515) - normcdf(0.2485).\n",
    "    - Process is cetred means x follows N(mean = 0.2500 inch , sd = 0.0005 inch)."
   ]
  },
  {
   "cell_type": "code",
   "execution_count": 42,
   "metadata": {},
   "outputs": [
    {
     "name": "stdout",
     "output_type": "stream",
     "text": [
      "Proportion of shafts are in sync with the specifications is : 0.91924122831152\n",
      "Proportion of shafts are in sync with the specifications after mean equal to target is : 0.9973002039367398\n"
     ]
    }
   ],
   "source": [
    "from scipy.stats import norm \n",
    "a = norm.cdf(0.2515,loc = 0.2508 , scale = 0.0005) -  norm.cdf(0.2485,loc = 0.2508 , scale = 0.0005)\n",
    "b = norm.cdf(0.2515,loc = 0.2500 , scale = 0.0005) -  norm.cdf(0.2485,loc = 0.2500 , scale = 0.0005)\n",
    "print('Proportion of shafts are in sync with the specifications is : {}'.format(a))\n",
    "print('Proportion of shafts are in sync with the specifications after mean equal to target is : {}'.format(b))"
   ]
  },
  {
   "cell_type": "markdown",
   "metadata": {},
   "source": [
    "         We can clearly see that after process is centered so that the mean is equal to the target value the probability is incresed for shft to synx in specification.\n",
    "     We can conclude that normal distribution is symmetrical around mean value. More our target is close to mean more the probability of hitting the target."
   ]
  },
  {
   "cell_type": "code",
   "execution_count": null,
   "metadata": {},
   "outputs": [],
   "source": []
  }
 ],
 "metadata": {
  "kernelspec": {
   "display_name": "Python 3",
   "language": "python",
   "name": "python3"
  },
  "language_info": {
   "codemirror_mode": {
    "name": "ipython",
    "version": 3
   },
   "file_extension": ".py",
   "mimetype": "text/x-python",
   "name": "python",
   "nbconvert_exporter": "python",
   "pygments_lexer": "ipython3",
   "version": "3.7.7"
  }
 },
 "nbformat": 4,
 "nbformat_minor": 4
}
