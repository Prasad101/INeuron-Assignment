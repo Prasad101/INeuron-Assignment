{
 "cells": [
  {
   "cell_type": "markdown",
   "metadata": {},
   "source": [
    "# Statistics Assigment 3"
   ]
  },
  {
   "cell_type": "markdown",
   "metadata": {},
   "source": [
    "## Problem 1\n",
    "Blood glucose levels for obese patients have a mean of 100 with a standard deviation of 15.  A researcher thinks that a diet high in raw cornstarch will have a positive effect on \n",
    "blood  glucose  levels.  A  sample  of  36  patients  who  have  tried  the  raw  cornstarch  diet have a mean glucose level of 108. Test the hypothesis that the raw cornstarch had an \n",
    "effect or not.\n",
    "\n",
    "Solution ==>\n",
    "    - mu = 100 , sigma = 15 , n = 36 , x_bar = 108,.\n",
    "    - Ho : mu = 100 , H1 : mu <= 100.\n",
    "    - z_cal = (x_bar-mu)/(sigma/suqrt(n)).\n",
    "    - If z_cal < z_tab we reject Ho means There is positive effect on blood sugar.\n",
    "    - for 5% level of significance z_tab = 1.64."
   ]
  },
  {
   "cell_type": "code",
   "execution_count": 1,
   "metadata": {},
   "outputs": [
    {
     "name": "stdout",
     "output_type": "stream",
     "text": [
      "If calculate value of z is 3.2 greater than table value 1.64\n",
      "we accept Ho means there is no positive effect of diet on blood sugar\n"
     ]
    }
   ],
   "source": [
    "mu = 100 ; sigma = 15 ; n = 36  ; x_bar = 108\n",
    "z_tab = (x_bar-mu)/(sigma/n**.5)\n",
    "print('''If calculate value of z is {} greater than table value {}\n",
    "we accept Ho means there is no positive effect of diet on blood sugar'''.format(z_tab,1.64))"
   ]
  },
  {
   "cell_type": "code",
   "execution_count": null,
   "metadata": {},
   "outputs": [],
   "source": []
  },
  {
   "cell_type": "markdown",
   "metadata": {},
   "source": [
    "## Problem 2\n",
    "In  one  state,  52%  of the  voters  are  Republicans,  and  48%  are   Democrats. In  a  second \n",
    "state,  47%  of  the  voters  are  Republicans,  and  53%  are  Democrats.  Suppose  a  simple \n",
    "random sample of 100 voters are surveyed from each state.\n",
    "What  is  the  probability  that  the  survey  will  show  a  greater  percentage  of  Republican \n",
    "voters in the second state than in the first state?\n",
    "\n",
    "#### Solution ==>\n",
    "     - P1 and P2 are proportion of republicans in state 1 and state 2 respectively.\n",
    "     - p1^ and p2^ are proportion of republicans in sample from state 1 and state 2 respectively.\n",
    "     - n1 = n2 = 100.\n",
    "     - we want Porb(p1 < p2) ==> p1 - p2 < 0.\n",
    "     - E(p1-p2) = P1 - P2 = 0.52 - 0.47 = 0.05.\n",
    "     - Stdev(p1 - p2) = (P1(1-P1)/n1 + P2(1-P2)/n2)**.5\n",
    "     - z_cal = ((p1-p2 - E(p1-p2)) / Stdev(p1-p2)."
   ]
  },
  {
   "cell_type": "code",
   "execution_count": 14,
   "metadata": {},
   "outputs": [
    {
     "name": "stdout",
     "output_type": "stream",
     "text": [
      "The proportion that the survey will show a greater percentage of \n",
      "Republican voters in the second state than in the first state is : 0.2394639918222003\n"
     ]
    }
   ],
   "source": [
    "from scipy.stats import norm\n",
    "P1 = 0.52 ; P2 = 0.47 ; n1 = 100 ; n2 = 100\n",
    "sd = (P1*(1-P1)/n1 + P2*(1-P2)/n2)**.5\n",
    "z_cal = (0 - 0.05)/sd\n",
    "prob = norm.cdf(z_cal)\n",
    "print('''The proportion that the survey will show a greater percentage of \n",
    "Republican voters in the second state than in the first state is : {}'''.format(prob))"
   ]
  },
  {
   "cell_type": "code",
   "execution_count": null,
   "metadata": {},
   "outputs": [],
   "source": []
  },
  {
   "cell_type": "markdown",
   "metadata": {},
   "source": [
    "## Problem 3\n",
    "You take the SAT and score 1100. The mean score for the SAT is 1026 and the standard \n",
    "deviation is 209. How well did you score on the test compared to the average test taker?\n",
    "\n",
    "### Solution ==>\n",
    "        - mu = 1026 , sigma = 209 , x = 1100\n",
    "        - z = (x - mu) / sigma ==> z follows N(0,1)"
   ]
  },
  {
   "cell_type": "code",
   "execution_count": 8,
   "metadata": {},
   "outputs": [
    {
     "name": "stdout",
     "output_type": "stream",
     "text": [
      "I did better than 63.84% test taker\n"
     ]
    }
   ],
   "source": [
    "from scipy.stats import norm\n",
    "mu = 1026 ; sigma = 209 ; x = 1100\n",
    "z = (x - mu) / sigma\n",
    "z1 = round(norm.cdf(z) *100,2)\n",
    "print('I did better than {}% test taker'.format(z1) )"
   ]
  },
  {
   "cell_type": "code",
   "execution_count": null,
   "metadata": {},
   "outputs": [],
   "source": []
  }
 ],
 "metadata": {
  "kernelspec": {
   "display_name": "Python 3",
   "language": "python",
   "name": "python3"
  },
  "language_info": {
   "codemirror_mode": {
    "name": "ipython",
    "version": 3
   },
   "file_extension": ".py",
   "mimetype": "text/x-python",
   "name": "python",
   "nbconvert_exporter": "python",
   "pygments_lexer": "ipython3",
   "version": "3.7.7"
  }
 },
 "nbformat": 4,
 "nbformat_minor": 4
}
