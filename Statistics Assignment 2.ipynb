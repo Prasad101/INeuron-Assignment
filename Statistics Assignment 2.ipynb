{
 "cells": [
  {
   "cell_type": "markdown",
   "metadata": {},
   "source": [
    "# Statistics Assignment 2"
   ]
  },
  {
   "cell_type": "markdown",
   "metadata": {},
   "source": [
    "## Problem 1\n",
    "In each of the following situations, state whether it is a correctly stated hypothesis \n",
    "testing problem and why?\n",
    "1. 𝐻0: 𝜇 = 25, 𝐻1: 𝜇 ≠ 25\n",
    "2. 𝐻0: 𝜎 > 10, 𝐻1: 𝜎 = 10\n",
    "3. 𝐻0: 𝑥  = 50, 𝐻1: 𝑥  ≠ 50\n",
    "4. 𝐻0: 𝑝 = 0.1, 𝐻1: 𝑝 = 0.5\n",
    "5. 𝐻0: 𝑡 = 30, 𝐻1: 𝑡 > 30\n",
    "\n",
    "Solution ==> Both Null and alternative hypothesis should be mutually exclusive and exhaustive        i.e. There should be no common part between them and both sould cover all possible cases.\n",
    "   Also hypothesis are made of population paramters.\n",
    "1. Yes - It is mutually exclusive and exhaustive.\n",
    "2. No - Not mutually exhaustive.\n",
    "3. No - Hypothesis are always about population parameter not sample statistics.\n",
    "4. No - Null hypothesis and alternative hypothesis does'nt connect.\n",
    "5. No - Hypothesis are always about population parameter not sample statistics."
   ]
  },
  {
   "cell_type": "code",
   "execution_count": null,
   "metadata": {},
   "outputs": [],
   "source": []
  },
  {
   "cell_type": "markdown",
   "metadata": {},
   "source": [
    "## Probelm 2\n",
    "The college bookstore tells prospective students that the average cost of its \n",
    "textbooks is Rs. 52 with a standard deviation of Rs. 4.50. A group of smart statistics \n",
    "students thinks that the average cost is higher. To test the bookstore’s claim against \n",
    "their alternative, the students will select a random sample of size 100. Assume that \n",
    "the mean from their random sample is Rs. 52.80. Perform a hypothesis test at the \n",
    "5% level of significance and state your decision.\n",
    "\n",
    "Solution ==>\n",
    "    - let x be the price of book , x follows N(mean = 52 , sd = 4.5).\n",
    "    - Ho(Null) : mu = 52 , H1 (Alt) : mu <> 52 (not equal to).\n",
    "    - Now, mu(popul mean) = 52 , sigma = 4.5 , alpha = 0.05 ,\n",
    "      x_bar(sample mean) = 52.80 , n(sample size) = 100.\n",
    "    - z = (x_bar - mu) / (sigma/squrt(100)).\n",
    "    - for alpha = 0.05, z_alpha = (-1.96,1.96)\n",
    "    - If z value is in range of z_alpha we accept null hypothesis.\n",
    "    - Here We can say, there is no evidance againts null hypothesis\n",
    "      i.e. student have to accept the claim of bookstore,\n",
    "        o.w.  they can take new sample and try to find evidence againts bookstore claim"
   ]
  },
  {
   "cell_type": "code",
   "execution_count": 1,
   "metadata": {},
   "outputs": [
    {
     "name": "stdout",
     "output_type": "stream",
     "text": [
      "Value of calculated z score is :1.7777777777777715\n"
     ]
    }
   ],
   "source": [
    "mu = 52 ; x_bar = 52.8 ; sigma = 4.5 ; alpha = 0.05 ; n = 100\n",
    "z = (x_bar - mu)/(sigma/10)\n",
    "print('Value of calculated z score is :{}'.format(z))"
   ]
  },
  {
   "cell_type": "code",
   "execution_count": null,
   "metadata": {},
   "outputs": [],
   "source": []
  },
  {
   "cell_type": "markdown",
   "metadata": {},
   "source": [
    "## Problem 3\n",
    "A certain chemical pollutant in the Genesee River has been constant for several \n",
    "years with mean μ = 34 ppm (parts per million) and standard deviation σ = 8 ppm. A \n",
    "group of factory representatives whose companies discharge liquids into the river is \n",
    "now claiming that they have lowered the average with improved filtration devices. A \n",
    "group of environmentalists will test to see if this is true at the 1% level of \n",
    "significance. Assume \\ that their sample of size 50 gives a mean of 32.5 ppm. \n",
    "Perform a hypothesis test at the 1% level of significance and state your decision.\n",
    "\n",
    "Solution ==>\n",
    "    - mu = 34ppm , sigma = 8 ppm , alpha = 0.01 , n = 50 , x_bar = 32.5.\n",
    "    - Ho : mu = 34 , H1 : mu <= 34 This is left tail test.\n",
    "    - for alpha = 0.01 and left tail test z_tab =  - 2.326.\n",
    "    - ."
   ]
  },
  {
   "cell_type": "code",
   "execution_count": 4,
   "metadata": {},
   "outputs": [
    {
     "name": "stdout",
     "output_type": "stream",
     "text": [
      "The value of z calculate is -1.3258252147247767 which is grater than table value -2.326\n",
      "\n",
      "\n",
      "We accept H0 i.e. We reject the claim of \n",
      "factory that they have lowered the average with improved filtration devices \n"
     ]
    }
   ],
   "source": [
    "mu = 34 ; sigma = 8  ; alpha = 0.01 ; n = 50\n",
    "z_tab = - 2.326 ; x_bar = 32.5\n",
    "z_cal = (x_bar - mu )/(sigma/(n)**0.5)\n",
    "print('The value of z calculate is {} which is grater than table value {}'.format(z_cal,z_tab))\n",
    "print('\\n')\n",
    "print('''We accept H0 i.e. We reject the claim of \n",
    "factory that they have lowered the average with improved filtration devices ''')"
   ]
  },
  {
   "cell_type": "code",
   "execution_count": null,
   "metadata": {},
   "outputs": [],
   "source": []
  },
  {
   "cell_type": "markdown",
   "metadata": {},
   "source": [
    "## Problem 4\n",
    "Based on population figures and other general information on the U.S. population, \n",
    "suppose it has been estimated that, on average, a family of four in the U.S. spends \n",
    "about $1135 annually on dental expenditures. Suppose further that a regional dental \n",
    "association wants to test to determine if this figure is accurate for their area of \n",
    "country. To test this, 22 families of 4 are randomly selected from the population in \n",
    "that area of the country and a log is kept of the family’s dental expenditure for one \n",
    "year. The resulting data are given below. Assuming, that dental expenditure is \n",
    "normally distributed in the population, use the data and an alpha of 0.05 to test the \n",
    "dental association’s hypothesis.\n",
    "\n",
    "1008, 812, 1117, 1323, 1308, 1415, 831, 1021, 1287, 851, 930, 730, 699,\n",
    "872, 913, 944, 954, 987, 1695, 995, 1003, 994\n",
    "\n",
    "Solution ==>\n",
    "   - Ho : mu = 1135 , H1 : mu <> 1135 (two tailed test).\n",
    "   - n = 22 , alpha = 0.05 .\n",
    "   - P(-z < Z < z) = 0.05 ==> z_table = (-1.96 , +1.96)."
   ]
  },
  {
   "cell_type": "code",
   "execution_count": 5,
   "metadata": {},
   "outputs": [
    {
     "data": {
      "application/javascript": [
       "\n",
       "        if (window._pyforest_update_imports_cell) { window._pyforest_update_imports_cell('import statistics'); }\n",
       "    "
      ],
      "text/plain": [
       "<IPython.core.display.Javascript object>"
      ]
     },
     "metadata": {},
     "output_type": "display_data"
    },
    {
     "name": "stdout",
     "output_type": "stream",
     "text": [
      "Calculated value of z is -2.023137479931484 out of range of (-1.96 , +1.96)\n",
      "We Reject Null Hypothesis Means on an average a family of four in the U.S. don't spends \n",
      "about $1135 annually on dental expenditures, It may be less or may be more\n"
     ]
    }
   ],
   "source": [
    "x = [1008, 812, 1117, 1323, 1308, 1415, 831, 1021, 1287, 851, 930, 730, 699,\n",
    "872, 913, 944, 954, 987, 1695, 995, 1003, 994]\n",
    "mu = 1135\n",
    "sigma = statistics.stdev(x)\n",
    "alpha = 0.05\n",
    "n = 22\n",
    "x_bar = sum(x)/len(x)\n",
    "z_cal = (x_bar - mu )/(sigma/(n)**0.5)\n",
    "print('Calculated value of z is {} out of range of (-1.96 , +1.96)'.format(z_cal) )\n",
    "print('''We Reject Null Hypothesis Means on an average a family of four in the U.S. don't spends \n",
    "about $1135 annually on dental expenditures, It may be less or may be more''')"
   ]
  },
  {
   "cell_type": "code",
   "execution_count": null,
   "metadata": {},
   "outputs": [],
   "source": []
  },
  {
   "cell_type": "markdown",
   "metadata": {},
   "source": [
    "## Problem 5\n",
    "In a report prepared by the Economic Research Department of a major bank the \n",
    "Department manager maintains that the average annual family income on Metropolis \n",
    "is $48,432.  \n",
    "\n",
    "What do you conclude about the validity of the report if a random sample \n",
    "of 400 families shows and average income of $48,574 with a standard deviation of \n",
    "2000?\n",
    "\n",
    "Solution ==>\n",
    "     - Ho : mu = 48,432 ; H1 : mu <> 48,432.\n",
    "     - x_bar = 48,574 , sigma = 2000 , n = 2000.\n",
    "     - alpha1 = 0.10.\n",
    "     - Aceptence region of Ho for alpha is (-1.64,+1.64) ."
   ]
  },
  {
   "cell_type": "code",
   "execution_count": 36,
   "metadata": {},
   "outputs": [
    {
     "name": "stdout",
     "output_type": "stream",
     "text": [
      "Calculated value of Z is : 3.1752165280497016\n",
      "Comparing Z calulated and acceptence region we can reject Ho,\n",
      "means the average annual family income on Metropolis is  not $48,432\n"
     ]
    }
   ],
   "source": [
    "mu = 48432 ; x_bar = 48574 ; sigma = 2000 ; n = 2000\n",
    "z_cal = (x_bar - mu )/(sigma/(n)**0.5)\n",
    "print('Calculated value of Z is : {}'.format(z_cal))\n",
    "print('''Comparing Z calulated and acceptence region we can reject Ho,\n",
    "means the average annual family income on Metropolis is  not $48,432''')"
   ]
  },
  {
   "cell_type": "code",
   "execution_count": null,
   "metadata": {},
   "outputs": [],
   "source": []
  },
  {
   "cell_type": "markdown",
   "metadata": {},
   "source": [
    "## Problem  6\n",
    "Suppose that in past years the average price per square foot for warehouses in the \n",
    "United States has been $32.28. \n",
    "\n",
    "A national real estate investor wants to determine \n",
    "whether that figure has changed now. The investor hires a researcher who randomly \n",
    "samples 19 warehouses that are for sale across the United States and finds that the \n",
    "mean price per square foot is      $ 31.67,\n",
    "\n",
    "with a standard deviation of $1.29. assume \n",
    "that the prices of warehouse footage are normally distributed in population. If the \n",
    "researcher uses a 5% level of significance, what statistical conclusion can be \n",
    "reached? What are the hypotheses?\n",
    "\n",
    "Solution ==> \n",
    "    - Ho : mu = 32.28 , H1 : mu <> 32.28.\n",
    "    - x_bar = 31.67 , n = 19 , sigma = 1.29 , alpha = 0.05.\n",
    "    - Ho acceptance region for 0.05 is (-1.96,+1.96)."
   ]
  },
  {
   "cell_type": "code",
   "execution_count": 6,
   "metadata": {},
   "outputs": [
    {
     "name": "stdout",
     "output_type": "stream",
     "text": [
      "Calculated value of Z is : -2.06118477175179\n",
      "  Comparing Z calulated and acceptence region we can reject Ho,\n",
      "  means average price per square foot for warehouses in the \n",
      "  United States has been change from $ 32.28.\n"
     ]
    }
   ],
   "source": [
    "mu = 32.28  ; x_bar = 31.67  ; sigma = 1.29 ; n = 19\n",
    "z_cal = (x_bar - mu )/(sigma/(n)**0.5)\n",
    "print('Calculated value of Z is : {}'.format(z_cal))\n",
    "print('''  Comparing Z calulated and acceptence region we can reject Ho,\n",
    "  means average price per square foot for warehouses in the \n",
    "  United States has been change from $ 32.28.''')"
   ]
  },
  {
   "cell_type": "code",
   "execution_count": null,
   "metadata": {},
   "outputs": [],
   "source": []
  },
  {
   "cell_type": "markdown",
   "metadata": {},
   "source": [
    "## Problem 7:\n",
    "Fill in the blank spaces in the table and draw your conclusions from it.\n",
    "\n",
    "\n",
    "<img src=\"statistics assignment 2 problem 7.PNG\">\n"
   ]
  },
  {
   "cell_type": "code",
   "execution_count": null,
   "metadata": {},
   "outputs": [],
   "source": []
  },
  {
   "cell_type": "markdown",
   "metadata": {},
   "source": [
    "## Problem 8:\n",
    "Find the t-score for a sample size of 16 taken from a population with mean 10 when \n",
    "the sample mean is 12 and the sample standard deviation is 1.5.\n",
    "\n",
    "Solution ==>\n",
    "    - n = 16, mu = 10, x_bar = 12 , sigma = 1.5.\n",
    "    - t_score = (x_bar - mu) / (sigma/(n**.5))"
   ]
  },
  {
   "cell_type": "code",
   "execution_count": 41,
   "metadata": {},
   "outputs": [
    {
     "data": {
      "text/plain": [
       "5.333333333333333"
      ]
     },
     "execution_count": 41,
     "metadata": {},
     "output_type": "execute_result"
    }
   ],
   "source": [
    "n = 16 ; mu = 10 ; x_bar = 12 ; sigma = 1.5\n",
    "t_score = (x_bar - mu) / (sigma/(n**.5))\n",
    "t_score"
   ]
  },
  {
   "cell_type": "code",
   "execution_count": null,
   "metadata": {},
   "outputs": [],
   "source": []
  },
  {
   "cell_type": "markdown",
   "metadata": {},
   "source": [
    "## Problem 9:\n",
    "Find the t-score below which we can expect 99% of sample means will fall if samples \n",
    "of size 16 are taken from a normally distributed population. \n",
    "\n",
    "Solution ==>\n",
    "    - aplha =  1 - 0.99 = 0.01.\n",
    "    - n = 16 ==> degrees of freedom = n - 1 = 15."
   ]
  },
  {
   "cell_type": "code",
   "execution_count": 50,
   "metadata": {},
   "outputs": [
    {
     "data": {
      "text/plain": [
       "-2.6024802949954933"
      ]
     },
     "execution_count": 50,
     "metadata": {},
     "output_type": "execute_result"
    }
   ],
   "source": [
    "import scipy\n",
    "scipy.stats.t.ppf(0.01,15)"
   ]
  },
  {
   "cell_type": "code",
   "execution_count": null,
   "metadata": {},
   "outputs": [],
   "source": []
  },
  {
   "cell_type": "markdown",
   "metadata": {},
   "source": [
    "## Problem 10: \n",
    "If a random sample of size 25 drawn from a normal population gives a mean of 60 \n",
    "and a standard deviation of 4, find the range of t-scores where we can expect to find \n",
    "the middle 95% of all sample means. \n",
    "\n",
    "Compute the probability that  (− 𝑢0.05 <𝑢<𝑢0.10).\n",
    "\n",
    "Solution ==>\n",
    "    - n = 25 , mu = 60 , sigma = 4.\n",
    "    - P(."
   ]
  },
  {
   "cell_type": "code",
   "execution_count": null,
   "metadata": {},
   "outputs": [],
   "source": []
  },
  {
   "cell_type": "code",
   "execution_count": null,
   "metadata": {},
   "outputs": [],
   "source": []
  },
  {
   "cell_type": "code",
   "execution_count": null,
   "metadata": {},
   "outputs": [],
   "source": []
  },
  {
   "cell_type": "markdown",
   "metadata": {},
   "source": [
    "## Problem 11\n",
    "Is there evidence to conclude that the number of people travelling from Bangalore to \n",
    "Chennai is different from the number of people travelling from Bangalore to Hosur in \n",
    "a week, given the following:\n",
    "     - Population 1: Bangalore to Chennai n1 = 1200 , x1_bar = 452, s1 = 212.\n",
    "     - Population 2: Bangalore to Hosur n2 = 800 , x2_bar = 523, s2 = 185.\n",
    "     - Ho : mu1 = mu2 ==> mu1 - mu2 = 0 vs H1: mu1 - mu2 <> 0.\n",
    "     - aplha = 0.05 ==> acceptance region for Ho is (-1.96,+1.96).\n",
    "     - sigma(x1_bar-x2_bar) = (s1^2/n1 + s2^2/n2 )** .5.\n",
    "     - z_cal = (x1_bar - x2_bar - (mu1 - mu2))/sigma(x1_bar-x2_bar)."
   ]
  },
  {
   "cell_type": "code",
   "execution_count": 16,
   "metadata": {},
   "outputs": [
    {
     "name": "stdout",
     "output_type": "stream",
     "text": [
      "Value of z_cal is -7.93 which out of the acceptance region (-1.96,+1.96),\n",
      "    We reject Ho means there is evidance that people travelling from Bangalore to \n",
      "    Chennai is different from the number of people travelling from Bangalore to Hosur in \n",
      "    a week\n"
     ]
    }
   ],
   "source": [
    "n1 = 1200 ; x1_bar = 452 ; s1 = 212\n",
    "n2 = 800 ; x2_bar = 523 ; s2 = 185\n",
    "sigma = (s1**2/n1 + s2**2/n2)**.5\n",
    "z_cal = (x1_bar - x2_bar - 0)/sigma\n",
    "print('''Value of z_cal is {} which out of the acceptance region (-1.96,+1.96),\n",
    "    We reject Ho means there is evidance that people travelling from Bangalore to \n",
    "    Chennai is different from the number of people travelling from Bangalore to Hosur in \n",
    "    a week'''.format(round(z_cal,2)))"
   ]
  },
  {
   "cell_type": "code",
   "execution_count": null,
   "metadata": {},
   "outputs": [],
   "source": []
  },
  {
   "cell_type": "code",
   "execution_count": null,
   "metadata": {},
   "outputs": [],
   "source": []
  },
  {
   "cell_type": "markdown",
   "metadata": {},
   "source": [
    "## Problem Statement 12:\n",
    "Is there evidence to conclude that the number of people preferring Duracell battery is \n",
    "different from the number of people preferring Energizer battery, given the following:\n",
    "     - Population 1: Duracell n1 = 100 , x1_bar = 308 , s1 = 84.\n",
    "     - Population 2: Energizer n2 = 100 , x2_bar = 254 , s2 = 67.\n",
    "     - Ho : mu1 = mu2 ==> mu1 - mu2 = 0 vs H1: mu1 - mu2 <> 0.\n",
    "     - aplha = 0.05 ==> acceptance region for Ho is (-1.96,+1.96).\n",
    "     - sigma(x1_bar-x2_bar) = (s1^2/n1 + s2^2/n2 )** .5.\n",
    "     - z_cal = (x1_bar - x2_bar - (mu1 - mu2))/sigma(x1_bar-x2_bar)."
   ]
  },
  {
   "cell_type": "code",
   "execution_count": 18,
   "metadata": {},
   "outputs": [
    {
     "name": "stdout",
     "output_type": "stream",
     "text": [
      "Value of z_cal is 5.03 which out of the acceptance region (-1.96,+1.96),\n",
      "    We reject Ho means there evidence to conclude that the number of people \n",
      "    preferring Duracell battery is different from the number of people preferring \n",
      "    Energizer battery\n"
     ]
    }
   ],
   "source": [
    "n1 = 100  ; x1_bar = 308 ; s1 = 84\n",
    "n2 = 100 ; x2_bar = 254 ; s2 = 67\n",
    "sigma = (s1**2/n1 + s2**2/n2)**.5\n",
    "z_cal = (x1_bar - x2_bar - 0)/sigma\n",
    "print('''Value of z_cal is {} which out of the acceptance region (-1.96,+1.96),\n",
    "    We reject Ho means there evidence to conclude that the number of people \n",
    "    preferring Duracell battery is different from the number of people preferring \n",
    "    Energizer battery'''.format(round(z_cal,2)))"
   ]
  },
  {
   "cell_type": "code",
   "execution_count": null,
   "metadata": {},
   "outputs": [],
   "source": []
  },
  {
   "cell_type": "markdown",
   "metadata": {},
   "source": [
    "## Problem Statement 13: \n",
    "Pooled estimate of the population variance\n",
    "Does the data provide sufficient evidence to conclude that average percentage\n",
    "increase in the price of sugar differs when it is sold at two different prices?\n",
    "- Population 1: Price of sugar = Rs. 27.50 n1 = 14 x1 = 0.317% s1 = 0.12%\n",
    "- Population 2: Price of sugar = Rs. 20.00 n2 = 9 x2 = 0.21% s2 = 0.11%"
   ]
  },
  {
   "cell_type": "code",
   "execution_count": null,
   "metadata": {},
   "outputs": [],
   "source": []
  },
  {
   "cell_type": "code",
   "execution_count": null,
   "metadata": {},
   "outputs": [],
   "source": []
  },
  {
   "cell_type": "markdown",
   "metadata": {},
   "source": [
    "## Problem 14\n",
    "The manufacturers of compact disk players want to test whether a small price \n",
    "reduction is enough to increase sales of their product. Is there evidence that the \n",
    "small price reduction is enough to increase sales of compact disk players?\n",
    "     - Population 1: Before reduction n1 = 15 , x1 = Rs. 6598 , s1 = Rs. 844.\n",
    "     - Population 2: After reduction n2 = 12 , x2 = RS. 6870 , s2 = Rs. 669.\n",
    "     - Ho : mu1 = mu2 ==> mu1 - mu2 = 0 ; H1 : mu1 >= mu2 ==> mu1 - mu2 >= 0 (right tail test).\n",
    "     - aplha = 0.05 ==> acceptance region for Ho in right tail test is t <= 1.708.\n",
    "     - sigma(x1_bar-x2_bar) = (sp^2*(1/n1+1/n2) )** .5  \n",
    "     - here sp^2 = ((n1-1)*s1^2 + (n2-2)*s2^2 ) / (n1+n2-2).\n",
    "     - z_cal = (x1_bar - x2_bar - (mu1 - mu2))/sigma(x1_bar-x2_bar)."
   ]
  },
  {
   "cell_type": "code",
   "execution_count": 21,
   "metadata": {},
   "outputs": [
    {
     "name": "stdout",
     "output_type": "stream",
     "text": [
      "Value of z_cal is 0.18 which greater than 1.708 ,\n",
      "    We reject Ho means there evidence to conclude that small price \n",
      "    reduction is enough to increase sales of their product\n"
     ]
    }
   ],
   "source": [
    "n1 = 15 ; x1 = 6598 ; s1 = 844\n",
    "n2 = 12 ; x2 = 6870 ; s2 = 669\n",
    "sp_2 = ((n1-1)*s1**2 + (n2-2)*s2**2 ) / (n1+n2-2)\n",
    "sigma = (sp_2 * (1/n1 + 1/n2))**.5\n",
    "z_cal = (x1_bar - x2_bar - 0)/sigma\n",
    "print('''Value of z_cal is {} which greater than 1.708 ,\n",
    "    We reject Ho means there evidence to conclude that small price \n",
    "    reduction is enough to increase sales of their product'''.format(round(z_cal,2)))"
   ]
  },
  {
   "cell_type": "code",
   "execution_count": null,
   "metadata": {},
   "outputs": [],
   "source": []
  },
  {
   "cell_type": "markdown",
   "metadata": {},
   "source": [
    "## Problem Statement 15: \n",
    "Comparisons of two population proportions when the hypothesized difference is zero \n",
    "Carry out a two-tailed test of the equality of banks’ share of the car loan market in \n",
    "1980 and 1995.\n",
    "     - Population 1: 1980 n1 = 1000 , x1_bar = 53 , 𝑝1 = 0.53.\n",
    "     - Population 2: 1985 n2 = 100 , x2_bar = 43 , 𝑝2= 0.53.\n",
    "     - Ho : P1 - P2 = 0 , H1 : P1 -P2 <> 0.\n",
    "     - z = (p1-p2 (P1-P2))/sigma(p1-p2).\n",
    "     - sigma(p1-p2) = (p^(1-p^) * (1/n1+1/n2))^.5.\n",
    "     - p^ = (x1_bar + x2_bar)/(n1+n2).\n",
    "     - for alpha 0.05 , Ho acceptance region is (-1.96,+1.96)."
   ]
  },
  {
   "cell_type": "code",
   "execution_count": 33,
   "metadata": {},
   "outputs": [
    {
     "name": "stdout",
     "output_type": "stream",
     "text": [
      "0.0\n",
      "We accept Ho means there is no diffrence between \n",
      "   proportion of bank's share of the car loan market in 1980 and 1995.\n"
     ]
    }
   ],
   "source": [
    "n1 = 1000 ; x1_bar = 53 ; 𝑝1 = 0.53\n",
    "n2 = 100 ; x2_bar = 43 ; 𝑝2= 0.53\n",
    "p_ = (x1_bar + x2_bar)/(n1+n2) \n",
    "sigma = (p_*(1-p_)*(1/n1+1/n2))**.5\n",
    "z_cal = (.53-.53- 0)/sigma\n",
    "print(z_cal)\n",
    "print('''We accept Ho means there is no diffrence between \n",
    "   proportion of bank's share of the car loan market in 1980 and 1995.''')"
   ]
  },
  {
   "cell_type": "code",
   "execution_count": null,
   "metadata": {},
   "outputs": [],
   "source": []
  },
  {
   "cell_type": "code",
   "execution_count": null,
   "metadata": {},
   "outputs": [],
   "source": []
  },
  {
   "cell_type": "markdown",
   "metadata": {},
   "source": [
    "## Problem Statement 16: \n",
    "Carry out a one-tailed test to determine whether the population proportion  of \n",
    "traveler’s check buyers who buy at least $2500 in checks when sweepstakes prizes \n",
    "are offered as at least 10% higher than the proportion of such buyers when no \n",
    "sweepstakes are on.\n",
    "     - Population 1: With sweepstakes n1 = 300 ; x1_bar = 120 ; 𝑝1 = 0.40\n",
    "     - Population 2: No sweepstakes n2 = 700 ; x2_bar = 140 ; 𝑝2= 0.20\n",
    "     - Ho : P1 - P2 = 0.1 , H1 : P1 - P2 >= 0.1(right tail test).\n",
    "     - z = (p1-p2 - (P1-P2)) / sigma(p1-p2).\n",
    "     - sigma(p1-p2) = (p1*(1-p1)/n1 + p2*(1-p2)/n2)^.5\n",
    "     - at alpha = 0.05 acceptance region for Ho is <=1.64 "
   ]
  },
  {
   "cell_type": "code",
   "execution_count": 38,
   "metadata": {},
   "outputs": [
    {
     "name": "stdout",
     "output_type": "stream",
     "text": [
      "z value 3.1180478223116177 is greater than z table value 1.64 ,\n",
      "    we reject null hypothesis \n"
     ]
    }
   ],
   "source": [
    "n1 = 300 ; x1_bar = 120 ; 𝑝1 = 0.40\n",
    "n2 = 700 ; x2_bar = 140 ; 𝑝2= 0.20\n",
    "sigma = (p1*(1-p1)/n1 + p2*(1-p2)/n2)**.5\n",
    "z = (p1-p2 - 0.1)/sigma\n",
    "print('''z value {} is greater than z table value {} ,\n",
    "    we reject null hypothesis '''.format(z,1.64))"
   ]
  },
  {
   "cell_type": "code",
   "execution_count": null,
   "metadata": {},
   "outputs": [],
   "source": []
  },
  {
   "cell_type": "markdown",
   "metadata": {},
   "source": [
    "## Problem Statement 17: \n",
    "A die is thrown 132 times with the following results: Number turned up: 1, 2, 3, 4, 5, 6\n",
    "Frequency: 16, 20, 25, 14, 29, 28\n",
    "Is the die unbiased? Consider the degrees of freedom as 𝑝^ − 1 . \n",
    "\n",
    "### Solution ==>\n",
    "        - A die is thrown 132 times, the expected frequency for all numbers to \n",
    "          occure is 132/6 = 22 times.\n",
    "        - observer freq are 1:16 , 2:20 , 3:25 , 4:14 , 5:29 , 6:28.\n",
    "        - chi_sq = (O - E)^2 / E follows chi squre distribution with df = 6-1 = 5.\n",
    "        - Ho : Die is unbiased , for 5% chi_sq table value is 11.07.        "
   ]
  },
  {
   "cell_type": "code",
   "execution_count": 43,
   "metadata": {},
   "outputs": [
    {
     "data": {
      "application/javascript": [
       "\n",
       "        if (window._pyforest_update_imports_cell) { window._pyforest_update_imports_cell('import numpy as np\\nimport statistics'); }\n",
       "    "
      ],
      "text/plain": [
       "<IPython.core.display.Javascript object>"
      ]
     },
     "metadata": {},
     "output_type": "display_data"
    },
    {
     "name": "stdout",
     "output_type": "stream",
     "text": [
      "The value of calculated chi squre is 9.0 , less than table value 11.07\n",
      "    ,We dont have enough evidence againts Null hypothesis \n",
      "     means Die is unbiased.\n"
     ]
    }
   ],
   "source": [
    "O = np.array([16, 20, 25, 14, 29, 28])\n",
    "E = 22\n",
    "chi_sq = sum((O-E)**2/E)\n",
    "print('''The value of calculated chi squre is {} , less than table value {}\n",
    "    ,We dont have enough evidence againts Null hypothesis \n",
    "     means Die is unbiased.'''.format(chi_sq,11.07))"
   ]
  },
  {
   "cell_type": "code",
   "execution_count": null,
   "metadata": {},
   "outputs": [],
   "source": []
  },
  {
   "cell_type": "code",
   "execution_count": null,
   "metadata": {},
   "outputs": [],
   "source": []
  },
  {
   "cell_type": "markdown",
   "metadata": {},
   "source": [
    "## Problem 18\n",
    "In a certain town, there are about one million eligible voters. A simple random \n",
    "sample of 10,000 eligible voters was chosen to study the relationship between \n",
    "gender and participation in the last election. The results are summarized in the \n",
    "following 2X2 (read two by two) contingency table:\n",
    "                     - Men       Women.\n",
    "        - Voted        2792      3591\n",
    "        - Not Voted    1486      2131\n",
    "        \n",
    "We would want to check whether being a man or a woman (columns) is independent of \n",
    "having voted in the last election (rows). In other words, is “gender and voting independent”?\n",
    "\n",
    "### Solution ==>\n",
    "         - chi-squre = (sum((O - E)^2) / E).\n",
    "         - Here O represents the observed frequency. E is the expected frequency under the null           hypothesis and computed by : E = (row total * colun total) / (sample size).\n",
    "         \n",
    "         Expected Table  - Men       Women\n",
    "        - Voted           2703.6        3652.4\n",
    "        - Not Voted       1547.4        2069.6\n",
    "        \n",
    "        - Using chi-squre formula we get:\n",
    "          chi_sq = (2792-2703.6)^2/2703.6 + ---- + (2131-2069.6)^2/2069.6 = 6.67\n",
    "        - df = (2-1)*(2-1) = 1 , chi_sq table for 5% = 3.84.\n",
    "        - chi_sq > chi_sq table ==> We reject Null hypothesis of Independence."
   ]
  },
  {
   "cell_type": "code",
   "execution_count": null,
   "metadata": {},
   "outputs": [],
   "source": []
  },
  {
   "cell_type": "code",
   "execution_count": null,
   "metadata": {},
   "outputs": [],
   "source": []
  },
  {
   "cell_type": "code",
   "execution_count": null,
   "metadata": {},
   "outputs": [],
   "source": []
  },
  {
   "cell_type": "code",
   "execution_count": null,
   "metadata": {},
   "outputs": [],
   "source": []
  },
  {
   "cell_type": "code",
   "execution_count": null,
   "metadata": {},
   "outputs": [],
   "source": []
  },
  {
   "cell_type": "code",
   "execution_count": null,
   "metadata": {},
   "outputs": [],
   "source": []
  },
  {
   "cell_type": "code",
   "execution_count": null,
   "metadata": {},
   "outputs": [],
   "source": []
  },
  {
   "cell_type": "code",
   "execution_count": null,
   "metadata": {},
   "outputs": [],
   "source": []
  }
 ],
 "metadata": {
  "kernelspec": {
   "display_name": "Python 3",
   "language": "python",
   "name": "python3"
  },
  "language_info": {
   "codemirror_mode": {
    "name": "ipython",
    "version": 3
   },
   "file_extension": ".py",
   "mimetype": "text/x-python",
   "name": "python",
   "nbconvert_exporter": "python",
   "pygments_lexer": "ipython3",
   "version": "3.7.7"
  }
 },
 "nbformat": 4,
 "nbformat_minor": 4
}
